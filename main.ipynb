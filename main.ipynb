{
 "cells": [
  {
   "cell_type": "code",
   "execution_count": 159,
   "metadata": {
    "collapsed": true,
    "pycharm": {
     "name": "#%%\n"
    }
   },
   "outputs": [],
   "source": [
    "import torch\n",
    "from torchtext.data.utils import get_tokenizer\n",
    "from torchtext.vocab import build_vocab_from_iterator"
   ]
  },
  {
   "cell_type": "code",
   "execution_count": 160,
   "outputs": [],
   "source": [
    "tokenizer = get_tokenizer('basic_english')\n",
    "def yield_tokens(data_iter):\n",
    "    for _, text in data_iter:\n",
    "        yield tokenizer(text)"
   ],
   "metadata": {
    "collapsed": false,
    "pycharm": {
     "name": "#%%\n"
    }
   }
  },
  {
   "cell_type": "code",
   "execution_count": 171,
   "outputs": [],
   "source": [
    "def return_iters():\n",
    "    from ast import literal_eval as make_tuple\n",
    "    train_iter=[]\n",
    "    test_iter=[]\n",
    "    file = open(\"PoliticalCompassML/DB\",'r')\n",
    "    # file2 = open(\"PoliticalCompassML/databaseTop.txt\",'r')\n",
    "    mapping = {\n",
    "    \"Libertarian Left\":1,\n",
    "    \"Libertarian Right\":2,\n",
    "    \"Authoritarian Left\":3,\n",
    "    \"Authoritarian Right\":4,\n",
    "    }\n",
    "    for line in file:\n",
    "        opinion, text = make_tuple(line)\n",
    "        train_iter+=[(mapping[opinion],text)]\n",
    "        test_iter+=[(mapping[opinion],text)]\n",
    "    # for line in file2:\n",
    "    #     opinion, text = make_tuple(line)\n",
    "    #     train_iter+=[(mapping[opinion],text)]\n",
    "    #     test_iter+=[(mapping[opinion],text)]\n",
    "    train_iter=iter(train_iter)\n",
    "    test_iter=iter(test_iter)\n",
    "    return train_iter,test_iter"
   ],
   "metadata": {
    "collapsed": false,
    "pycharm": {
     "name": "#%%\n"
    }
   }
  },
  {
   "cell_type": "code",
   "execution_count": 172,
   "outputs": [],
   "source": [
    "text_pipeline = lambda x: vocab(tokenizer(x))\n",
    "label_pipeline = lambda x: int(x) - 1\n",
    "train_iter,test_iter= return_iters()\n",
    "vocab = build_vocab_from_iterator(yield_tokens(train_iter), specials=[\"<unk>\"])\n",
    "vocab.set_default_index(vocab[\"<unk>\"])\n"
   ],
   "metadata": {
    "collapsed": false,
    "pycharm": {
     "name": "#%%\n"
    }
   }
  },
  {
   "cell_type": "code",
   "execution_count": 173,
   "outputs": [],
   "source": [
    "import torch\n",
    "from torch.utils.data import DataLoader\n",
    "device = torch.device(\"cuda\" if torch.cuda.is_available() else \"cpu\")"
   ],
   "metadata": {
    "collapsed": false,
    "pycharm": {
     "name": "#%%\n"
    }
   }
  },
  {
   "cell_type": "code",
   "execution_count": 174,
   "outputs": [],
   "source": [
    "def collate_batch(batch):\n",
    "    label_list, text_list, offsets = [], [], [0]\n",
    "    for (_label, _text) in batch:\n",
    "         label_list.append(label_pipeline(_label))\n",
    "         processed_text = torch.tensor(text_pipeline(_text), dtype=torch.int64)\n",
    "         text_list.append(processed_text)\n",
    "         offsets.append(processed_text.size(0))\n",
    "    label_list = torch.tensor(label_list, dtype=torch.int64)\n",
    "    offsets = torch.tensor(offsets[:-1]).cumsum(dim=0)\n",
    "    text_list = torch.cat(text_list)\n",
    "    return label_list.to(device), text_list.to(device), offsets.to(device)"
   ],
   "metadata": {
    "collapsed": false,
    "pycharm": {
     "name": "#%%\n"
    }
   }
  },
  {
   "cell_type": "code",
   "execution_count": 175,
   "outputs": [],
   "source": [
    "train_iter,test_iter= return_iters()\n",
    "\n",
    "dataloader = DataLoader(train_iter, batch_size=8, shuffle=False, collate_fn=collate_batch)"
   ],
   "metadata": {
    "collapsed": false,
    "pycharm": {
     "name": "#%%\n"
    }
   }
  },
  {
   "cell_type": "code",
   "execution_count": 176,
   "outputs": [],
   "source": [
    "from torch import nn\n",
    "\n",
    "class TextClassificationModel(nn.Module):\n",
    "\n",
    "    def __init__(self, vocab_size, embed_dim, num_class):\n",
    "        super(TextClassificationModel, self).__init__()\n",
    "        self.embedding = nn.EmbeddingBag(vocab_size, embed_dim, sparse=True)\n",
    "        self.fc = nn.Linear(embed_dim, num_class)\n",
    "        self.init_weights()\n",
    "\n",
    "    def init_weights(self):\n",
    "        initrange = 0.5\n",
    "        self.embedding.weight.data.uniform_(-initrange, initrange)\n",
    "        self.fc.weight.data.uniform_(-initrange, initrange)\n",
    "        self.fc.bias.data.zero_()\n",
    "\n",
    "    def forward(self, text, offsets):\n",
    "        embedded = self.embedding(text, offsets)\n",
    "        return self.fc(embedded)"
   ],
   "metadata": {
    "collapsed": false,
    "pycharm": {
     "name": "#%%\n"
    }
   }
  },
  {
   "cell_type": "code",
   "execution_count": 177,
   "outputs": [
    {
     "name": "stdout",
     "output_type": "stream",
     "text": [
      "4\n"
     ]
    }
   ],
   "source": [
    "train_iter,test_iter= return_iters()\n",
    "\n",
    "num_class = len(set([label for (label, text) in train_iter]))\n",
    "# print(train_iter)\n",
    "# print([label for (label, text) in train_iter])\n",
    "print(num_class)\n",
    "vocab_size = len(vocab)\n",
    "emsize = 64\n",
    "model = TextClassificationModel(vocab_size, emsize, num_class).to(device)"
   ],
   "metadata": {
    "collapsed": false,
    "pycharm": {
     "name": "#%%\n"
    }
   }
  },
  {
   "cell_type": "code",
   "execution_count": 178,
   "outputs": [],
   "source": [
    "import time\n",
    "\n",
    "def train(dataloader):\n",
    "    model.train()\n",
    "    total_acc, total_count = 0, 0\n",
    "    log_interval = 50\n",
    "    start_time = time.time()\n",
    "\n",
    "    for idx, (label, text, offsets) in enumerate(dataloader):\n",
    "        optimizer.zero_grad()\n",
    "        predicted_label = model(text, offsets)\n",
    "        loss = criterion(predicted_label, label)\n",
    "        loss.backward()\n",
    "        torch.nn.utils.clip_grad_norm_(model.parameters(), 0.1)\n",
    "        optimizer.step()\n",
    "        total_acc += (predicted_label.argmax(1) == label).sum().item()\n",
    "        total_count += label.size(0)\n",
    "        if idx % log_interval == 0 and idx > 0:\n",
    "            elapsed = time.time() - start_time\n",
    "            print('| epoch {:3d} | {:5d}/{:5d} batches '\n",
    "                  '| accuracy {:8.3f}'.format(epoch, idx, len(dataloader),\n",
    "                                              total_acc/total_count))\n",
    "            total_acc, total_count = 0, 0\n",
    "            start_time = time.time()\n",
    "\n",
    "def evaluate(dataloader):\n",
    "    model.eval()\n",
    "    total_acc, total_count = 0, 0\n",
    "\n",
    "    with torch.no_grad():\n",
    "        for idx, (label, text, offsets) in enumerate(dataloader):\n",
    "            predicted_label = model(text, offsets)\n",
    "            loss = criterion(predicted_label, label)\n",
    "            total_acc += (predicted_label.argmax(1) == label).sum().item()\n",
    "            total_count += label.size(0)\n",
    "    return total_acc/total_count"
   ],
   "metadata": {
    "collapsed": false,
    "pycharm": {
     "name": "#%%\n"
    }
   }
  },
  {
   "cell_type": "code",
   "execution_count": 179,
   "outputs": [
    {
     "name": "stdout",
     "output_type": "stream",
     "text": [
      "| epoch  39 |   150/  376 batches | accuracy    0.582\n",
      "| epoch  39 |   200/  376 batches | accuracy    0.577\n",
      "| epoch  39 |   250/  376 batches | accuracy    0.571\n",
      "| epoch  39 |   300/  376 batches | accuracy    0.567\n",
      "| epoch  39 |   350/  376 batches | accuracy    0.575\n",
      "-----------------------------------------------------------\n",
      "| end of epoch  39 | time:  2.02s | valid accuracy    0.446 \n",
      "-----------------------------------------------------------\n",
      "| epoch  40 |    50/  376 batches | accuracy    0.568\n",
      "| epoch  40 |   100/  376 batches | accuracy    0.575\n",
      "| epoch  40 |   150/  376 batches | accuracy    0.581\n",
      "| epoch  40 |   200/  376 batches | accuracy    0.571\n",
      "| epoch  40 |   250/  376 batches | accuracy    0.575\n",
      "| epoch  40 |   300/  376 batches | accuracy    0.567\n",
      "| epoch  40 |   350/  376 batches | accuracy    0.573\n",
      "-----------------------------------------------------------\n",
      "| end of epoch  40 | time:  1.99s | valid accuracy    0.446 \n",
      "-----------------------------------------------------------\n",
      "| epoch   1 |    50/  752 batches | accuracy    0.388\n",
      "| epoch   1 |   100/  752 batches | accuracy    0.351\n",
      "| epoch   1 |   150/  752 batches | accuracy    0.382\n",
      "| epoch   1 |   200/  752 batches | accuracy    0.352\n",
      "| epoch   1 |   250/  752 batches | accuracy    0.358\n",
      "| epoch   1 |   300/  752 batches | accuracy    0.369\n",
      "| epoch   1 |   350/  752 batches | accuracy    0.357\n",
      "| epoch   1 |   400/  752 batches | accuracy    0.369\n",
      "| epoch   1 |   450/  752 batches | accuracy    0.347\n",
      "| epoch   1 |   500/  752 batches | accuracy    0.366\n",
      "| epoch   1 |   550/  752 batches | accuracy    0.356\n",
      "| epoch   1 |   600/  752 batches | accuracy    0.369\n",
      "| epoch   1 |   650/  752 batches | accuracy    0.372\n",
      "| epoch   1 |   700/  752 batches | accuracy    0.371\n",
      "| epoch   1 |   750/  752 batches | accuracy    0.371\n",
      "-----------------------------------------------------------\n",
      "| end of epoch   1 | time:  2.54s | valid accuracy    0.406 \n",
      "-----------------------------------------------------------\n",
      "| epoch   2 |    50/  752 batches | accuracy    0.378\n",
      "| epoch   2 |   100/  752 batches | accuracy    0.409\n",
      "| epoch   2 |   150/  752 batches | accuracy    0.379\n",
      "| epoch   2 |   200/  752 batches | accuracy    0.376\n",
      "| epoch   2 |   250/  752 batches | accuracy    0.367\n",
      "| epoch   2 |   300/  752 batches | accuracy    0.391\n",
      "| epoch   2 |   350/  752 batches | accuracy    0.364\n",
      "| epoch   2 |   400/  752 batches | accuracy    0.391\n",
      "| epoch   2 |   450/  752 batches | accuracy    0.365\n",
      "| epoch   2 |   500/  752 batches | accuracy    0.366\n",
      "| epoch   2 |   550/  752 batches | accuracy    0.376\n",
      "| epoch   2 |   600/  752 batches | accuracy    0.360\n",
      "| epoch   2 |   650/  752 batches | accuracy    0.376\n",
      "| epoch   2 |   700/  752 batches | accuracy    0.399\n",
      "| epoch   2 |   750/  752 batches | accuracy    0.369\n",
      "-----------------------------------------------------------\n",
      "| end of epoch   2 | time:  2.57s | valid accuracy    0.367 \n",
      "-----------------------------------------------------------\n",
      "| epoch   3 |    50/  752 batches | accuracy    0.488\n",
      "| epoch   3 |   100/  752 batches | accuracy    0.512\n",
      "| epoch   3 |   150/  752 batches | accuracy    0.540\n",
      "| epoch   3 |   200/  752 batches | accuracy    0.545\n",
      "| epoch   3 |   250/  752 batches | accuracy    0.529\n",
      "| epoch   3 |   300/  752 batches | accuracy    0.544\n",
      "| epoch   3 |   350/  752 batches | accuracy    0.533\n",
      "| epoch   3 |   400/  752 batches | accuracy    0.506\n",
      "| epoch   3 |   450/  752 batches | accuracy    0.541\n",
      "| epoch   3 |   500/  752 batches | accuracy    0.560\n",
      "| epoch   3 |   550/  752 batches | accuracy    0.528\n",
      "| epoch   3 |   600/  752 batches | accuracy    0.553\n",
      "| epoch   3 |   650/  752 batches | accuracy    0.542\n",
      "| epoch   3 |   700/  752 batches | accuracy    0.529\n",
      "| epoch   3 |   750/  752 batches | accuracy    0.549\n",
      "-----------------------------------------------------------\n",
      "| end of epoch   3 | time:  2.49s | valid accuracy    0.464 \n",
      "-----------------------------------------------------------\n",
      "| epoch   4 |    50/  752 batches | accuracy    0.542\n",
      "| epoch   4 |   100/  752 batches | accuracy    0.565\n",
      "| epoch   4 |   150/  752 batches | accuracy    0.584\n",
      "| epoch   4 |   200/  752 batches | accuracy    0.552\n",
      "| epoch   4 |   250/  752 batches | accuracy    0.560\n",
      "| epoch   4 |   300/  752 batches | accuracy    0.552\n",
      "| epoch   4 |   350/  752 batches | accuracy    0.562\n",
      "| epoch   4 |   400/  752 batches | accuracy    0.552\n",
      "| epoch   4 |   450/  752 batches | accuracy    0.559\n",
      "| epoch   4 |   500/  752 batches | accuracy    0.556\n",
      "| epoch   4 |   550/  752 batches | accuracy    0.543\n",
      "| epoch   4 |   600/  752 batches | accuracy    0.547\n",
      "| epoch   4 |   650/  752 batches | accuracy    0.547\n",
      "| epoch   4 |   700/  752 batches | accuracy    0.558\n",
      "| epoch   4 |   750/  752 batches | accuracy    0.579\n",
      "-----------------------------------------------------------\n",
      "| end of epoch   4 | time:  2.47s | valid accuracy    0.494 \n",
      "-----------------------------------------------------------\n",
      "| epoch   5 |    50/  752 batches | accuracy    0.566\n",
      "| epoch   5 |   100/  752 batches | accuracy    0.594\n",
      "| epoch   5 |   150/  752 batches | accuracy    0.597\n",
      "| epoch   5 |   200/  752 batches | accuracy    0.581\n",
      "| epoch   5 |   250/  752 batches | accuracy    0.565\n",
      "| epoch   5 |   300/  752 batches | accuracy    0.559\n",
      "| epoch   5 |   350/  752 batches | accuracy    0.574\n",
      "| epoch   5 |   400/  752 batches | accuracy    0.557\n",
      "| epoch   5 |   450/  752 batches | accuracy    0.572\n",
      "| epoch   5 |   500/  752 batches | accuracy    0.570\n",
      "| epoch   5 |   550/  752 batches | accuracy    0.570\n",
      "| epoch   5 |   600/  752 batches | accuracy    0.570\n",
      "| epoch   5 |   650/  752 batches | accuracy    0.573\n",
      "| epoch   5 |   700/  752 batches | accuracy    0.568\n",
      "| epoch   5 |   750/  752 batches | accuracy    0.546\n",
      "-----------------------------------------------------------\n",
      "| end of epoch   5 | time:  2.48s | valid accuracy    0.486 \n",
      "-----------------------------------------------------------\n",
      "| epoch   6 |    50/  752 batches | accuracy    0.586\n",
      "| epoch   6 |   100/  752 batches | accuracy    0.586\n",
      "| epoch   6 |   150/  752 batches | accuracy    0.598\n",
      "| epoch   6 |   200/  752 batches | accuracy    0.614\n",
      "| epoch   6 |   250/  752 batches | accuracy    0.595\n",
      "| epoch   6 |   300/  752 batches | accuracy    0.620\n",
      "| epoch   6 |   350/  752 batches | accuracy    0.628\n",
      "| epoch   6 |   400/  752 batches | accuracy    0.604\n",
      "| epoch   6 |   450/  752 batches | accuracy    0.585\n",
      "| epoch   6 |   500/  752 batches | accuracy    0.605\n",
      "| epoch   6 |   550/  752 batches | accuracy    0.613\n",
      "| epoch   6 |   600/  752 batches | accuracy    0.623\n",
      "| epoch   6 |   650/  752 batches | accuracy    0.625\n",
      "| epoch   6 |   700/  752 batches | accuracy    0.608\n",
      "| epoch   6 |   750/  752 batches | accuracy    0.627\n",
      "-----------------------------------------------------------\n",
      "| end of epoch   6 | time:  2.44s | valid accuracy    0.506 \n",
      "-----------------------------------------------------------\n",
      "| epoch   7 |    50/  752 batches | accuracy    0.617\n",
      "| epoch   7 |   100/  752 batches | accuracy    0.600\n",
      "| epoch   7 |   150/  752 batches | accuracy    0.598\n",
      "| epoch   7 |   200/  752 batches | accuracy    0.602\n",
      "| epoch   7 |   250/  752 batches | accuracy    0.623\n",
      "| epoch   7 |   300/  752 batches | accuracy    0.623\n",
      "| epoch   7 |   350/  752 batches | accuracy    0.611\n",
      "| epoch   7 |   400/  752 batches | accuracy    0.611\n",
      "| epoch   7 |   450/  752 batches | accuracy    0.621\n",
      "| epoch   7 |   500/  752 batches | accuracy    0.602\n",
      "| epoch   7 |   550/  752 batches | accuracy    0.609\n",
      "| epoch   7 |   600/  752 batches | accuracy    0.641\n",
      "| epoch   7 |   650/  752 batches | accuracy    0.612\n",
      "| epoch   7 |   700/  752 batches | accuracy    0.627\n",
      "| epoch   7 |   750/  752 batches | accuracy    0.617\n",
      "-----------------------------------------------------------\n",
      "| end of epoch   7 | time:  2.45s | valid accuracy    0.508 \n",
      "-----------------------------------------------------------\n",
      "| epoch   8 |    50/  752 batches | accuracy    0.625\n",
      "| epoch   8 |   100/  752 batches | accuracy    0.637\n",
      "| epoch   8 |   150/  752 batches | accuracy    0.618\n",
      "| epoch   8 |   200/  752 batches | accuracy    0.613\n",
      "| epoch   8 |   250/  752 batches | accuracy    0.626\n",
      "| epoch   8 |   300/  752 batches | accuracy    0.589\n",
      "| epoch   8 |   350/  752 batches | accuracy    0.622\n",
      "| epoch   8 |   400/  752 batches | accuracy    0.610\n",
      "| epoch   8 |   450/  752 batches | accuracy    0.611\n",
      "| epoch   8 |   500/  752 batches | accuracy    0.619\n",
      "| epoch   8 |   550/  752 batches | accuracy    0.611\n",
      "| epoch   8 |   600/  752 batches | accuracy    0.617\n",
      "| epoch   8 |   650/  752 batches | accuracy    0.622\n",
      "| epoch   8 |   700/  752 batches | accuracy    0.626\n",
      "| epoch   8 |   750/  752 batches | accuracy    0.604\n",
      "-----------------------------------------------------------\n",
      "| end of epoch   8 | time:  2.47s | valid accuracy    0.495 \n",
      "-----------------------------------------------------------\n",
      "| epoch   9 |    50/  752 batches | accuracy    0.589\n",
      "| epoch   9 |   100/  752 batches | accuracy    0.619\n",
      "| epoch   9 |   150/  752 batches | accuracy    0.623\n",
      "| epoch   9 |   200/  752 batches | accuracy    0.631\n",
      "| epoch   9 |   250/  752 batches | accuracy    0.621\n",
      "| epoch   9 |   300/  752 batches | accuracy    0.604\n",
      "| epoch   9 |   350/  752 batches | accuracy    0.613\n",
      "| epoch   9 |   400/  752 batches | accuracy    0.618\n",
      "| epoch   9 |   450/  752 batches | accuracy    0.636\n",
      "| epoch   9 |   500/  752 batches | accuracy    0.610\n",
      "| epoch   9 |   550/  752 batches | accuracy    0.647\n",
      "| epoch   9 |   600/  752 batches | accuracy    0.631\n",
      "| epoch   9 |   650/  752 batches | accuracy    0.634\n",
      "| epoch   9 |   700/  752 batches | accuracy    0.620\n",
      "| epoch   9 |   750/  752 batches | accuracy    0.614\n",
      "-----------------------------------------------------------\n",
      "| end of epoch   9 | time:  2.39s | valid accuracy    0.500 \n",
      "-----------------------------------------------------------\n",
      "| epoch  10 |    50/  752 batches | accuracy    0.617\n",
      "| epoch  10 |   100/  752 batches | accuracy    0.627\n",
      "| epoch  10 |   150/  752 batches | accuracy    0.603\n",
      "| epoch  10 |   200/  752 batches | accuracy    0.619\n",
      "| epoch  10 |   250/  752 batches | accuracy    0.608\n",
      "| epoch  10 |   300/  752 batches | accuracy    0.635\n",
      "| epoch  10 |   350/  752 batches | accuracy    0.621\n",
      "| epoch  10 |   400/  752 batches | accuracy    0.620\n",
      "| epoch  10 |   450/  752 batches | accuracy    0.631\n",
      "| epoch  10 |   500/  752 batches | accuracy    0.637\n",
      "| epoch  10 |   550/  752 batches | accuracy    0.621\n",
      "| epoch  10 |   600/  752 batches | accuracy    0.610\n",
      "| epoch  10 |   650/  752 batches | accuracy    0.627\n",
      "| epoch  10 |   700/  752 batches | accuracy    0.611\n",
      "| epoch  10 |   750/  752 batches | accuracy    0.629\n",
      "-----------------------------------------------------------\n",
      "| end of epoch  10 | time:  2.38s | valid accuracy    0.500 \n",
      "-----------------------------------------------------------\n",
      "| epoch  11 |    50/  752 batches | accuracy    0.618\n",
      "| epoch  11 |   100/  752 batches | accuracy    0.598\n",
      "| epoch  11 |   150/  752 batches | accuracy    0.620\n",
      "| epoch  11 |   200/  752 batches | accuracy    0.610\n",
      "| epoch  11 |   250/  752 batches | accuracy    0.629\n",
      "| epoch  11 |   300/  752 batches | accuracy    0.629\n",
      "| epoch  11 |   350/  752 batches | accuracy    0.640\n",
      "| epoch  11 |   400/  752 batches | accuracy    0.624\n",
      "| epoch  11 |   450/  752 batches | accuracy    0.621\n",
      "| epoch  11 |   500/  752 batches | accuracy    0.620\n",
      "| epoch  11 |   550/  752 batches | accuracy    0.626\n",
      "| epoch  11 |   600/  752 batches | accuracy    0.642\n",
      "| epoch  11 |   650/  752 batches | accuracy    0.604\n",
      "| epoch  11 |   700/  752 batches | accuracy    0.617\n",
      "| epoch  11 |   750/  752 batches | accuracy    0.615\n",
      "-----------------------------------------------------------\n",
      "| end of epoch  11 | time:  2.41s | valid accuracy    0.500 \n",
      "-----------------------------------------------------------\n",
      "| epoch  12 |    50/  752 batches | accuracy    0.622\n",
      "| epoch  12 |   100/  752 batches | accuracy    0.611\n",
      "| epoch  12 |   150/  752 batches | accuracy    0.596\n",
      "| epoch  12 |   200/  752 batches | accuracy    0.644\n",
      "| epoch  12 |   250/  752 batches | accuracy    0.603\n",
      "| epoch  12 |   300/  752 batches | accuracy    0.621\n",
      "| epoch  12 |   350/  752 batches | accuracy    0.640\n",
      "| epoch  12 |   400/  752 batches | accuracy    0.621\n",
      "| epoch  12 |   450/  752 batches | accuracy    0.618\n",
      "| epoch  12 |   500/  752 batches | accuracy    0.609\n",
      "| epoch  12 |   550/  752 batches | accuracy    0.636\n",
      "| epoch  12 |   600/  752 batches | accuracy    0.616\n",
      "| epoch  12 |   650/  752 batches | accuracy    0.636\n",
      "| epoch  12 |   700/  752 batches | accuracy    0.640\n",
      "| epoch  12 |   750/  752 batches | accuracy    0.601\n",
      "-----------------------------------------------------------\n",
      "| end of epoch  12 | time:  2.43s | valid accuracy    0.500 \n",
      "-----------------------------------------------------------\n",
      "| epoch  13 |    50/  752 batches | accuracy    0.623\n",
      "| epoch  13 |   100/  752 batches | accuracy    0.634\n",
      "| epoch  13 |   150/  752 batches | accuracy    0.608\n",
      "| epoch  13 |   200/  752 batches | accuracy    0.631\n",
      "| epoch  13 |   250/  752 batches | accuracy    0.643\n",
      "| epoch  13 |   300/  752 batches | accuracy    0.621\n",
      "| epoch  13 |   350/  752 batches | accuracy    0.621\n",
      "| epoch  13 |   400/  752 batches | accuracy    0.636\n",
      "| epoch  13 |   450/  752 batches | accuracy    0.611\n",
      "| epoch  13 |   500/  752 batches | accuracy    0.616\n",
      "| epoch  13 |   550/  752 batches | accuracy    0.601\n",
      "| epoch  13 |   600/  752 batches | accuracy    0.617\n",
      "| epoch  13 |   650/  752 batches | accuracy    0.622\n",
      "| epoch  13 |   700/  752 batches | accuracy    0.607\n",
      "| epoch  13 |   750/  752 batches | accuracy    0.623\n",
      "-----------------------------------------------------------\n",
      "| end of epoch  13 | time:  2.83s | valid accuracy    0.500 \n",
      "-----------------------------------------------------------\n",
      "| epoch  14 |    50/  752 batches | accuracy    0.618\n",
      "| epoch  14 |   100/  752 batches | accuracy    0.615\n",
      "| epoch  14 |   150/  752 batches | accuracy    0.650\n",
      "| epoch  14 |   200/  752 batches | accuracy    0.618\n",
      "| epoch  14 |   250/  752 batches | accuracy    0.609\n",
      "| epoch  14 |   300/  752 batches | accuracy    0.616\n",
      "| epoch  14 |   350/  752 batches | accuracy    0.627\n",
      "| epoch  14 |   400/  752 batches | accuracy    0.611\n",
      "| epoch  14 |   450/  752 batches | accuracy    0.626\n",
      "| epoch  14 |   500/  752 batches | accuracy    0.611\n",
      "| epoch  14 |   550/  752 batches | accuracy    0.640\n"
     ]
    }
   ],
   "source": [
    "from torch.utils.data.dataset import random_split\n",
    "from torchtext.data.functional import to_map_style_dataset\n",
    "# Hyperparameters\n",
    "EPOCHS = 40 # epoch\n",
    "LR = 60  # learning rate\n",
    "BATCH_SIZE = 128 # batch size for training\n",
    "\n",
    "criterion = torch.nn.CrossEntropyLoss()\n",
    "optimizer = torch.optim.SGD(model.parameters(), lr=LR)\n",
    "scheduler = torch.optim.lr_scheduler.StepLR(optimizer, 1.0, gamma=0.1)\n",
    "total_accu = None\n",
    "train_iter,test_iter= return_iters()\n",
    "\n",
    "train_dataset = to_map_style_dataset(train_iter)\n",
    "test_dataset = to_map_style_dataset(test_iter)\n",
    "num_train = int(len(train_dataset) * 0.95)\n",
    "split_train_, split_valid_ = \\\n",
    "    random_split(train_dataset, [num_train, len(train_dataset) - num_train])\n",
    "\n",
    "train_dataloader = DataLoader(split_train_, batch_size=BATCH_SIZE,\n",
    "                              shuffle=True, collate_fn=collate_batch)\n",
    "valid_dataloader = DataLoader(split_valid_, batch_size=BATCH_SIZE,\n",
    "                              shuffle=True, collate_fn=collate_batch)\n",
    "test_dataloader = DataLoader(test_dataset, batch_size=BATCH_SIZE,\n",
    "                             shuffle=True, collate_fn=collate_batch)\n",
    "\n",
    "for epoch in range(1, EPOCHS + 1):\n",
    "    epoch_start_time = time.time()\n",
    "    train(train_dataloader)\n",
    "    accu_val = evaluate(valid_dataloader)\n",
    "    if total_accu is not None and total_accu > accu_val:\n",
    "      scheduler.step()\n",
    "    else:\n",
    "       total_accu = accu_val\n",
    "    print('-' * 59)\n",
    "    print('| end of epoch {:3d} | time: {:5.2f}s | '\n",
    "          'valid accuracy {:8.3f} '.format(epoch,\n",
    "                                           time.time() - epoch_start_time,\n",
    "                                           accu_val))\n",
    "    print('-' * 59)"
   ],
   "metadata": {
    "collapsed": false,
    "pycharm": {
     "name": "#%%\n"
    }
   }
  },
  {
   "cell_type": "code",
   "execution_count": 90,
   "outputs": [
    {
     "ename": "KeyError",
     "evalue": "1",
     "output_type": "error",
     "traceback": [
      "\u001B[1;31m---------------------------------------------------------------------------\u001B[0m",
      "\u001B[1;31mKeyError\u001B[0m                                  Traceback (most recent call last)",
      "\u001B[1;32m<ipython-input-90-704aa8d74675>\u001B[0m in \u001B[0;36m<module>\u001B[1;34m\u001B[0m\n\u001B[0;32m     15\u001B[0m \u001B[0mmodel\u001B[0m \u001B[1;33m=\u001B[0m \u001B[0mmodel\u001B[0m\u001B[1;33m.\u001B[0m\u001B[0mto\u001B[0m\u001B[1;33m(\u001B[0m\u001B[1;34m\"cpu\"\u001B[0m\u001B[1;33m)\u001B[0m\u001B[1;33m\u001B[0m\u001B[1;33m\u001B[0m\u001B[0m\n\u001B[0;32m     16\u001B[0m \u001B[1;33m\u001B[0m\u001B[0m\n\u001B[1;32m---> 17\u001B[1;33m \u001B[0mprint\u001B[0m\u001B[1;33m(\u001B[0m\u001B[1;34m\"This is a %s news\"\u001B[0m \u001B[1;33m%\u001B[0m\u001B[0mmapping\u001B[0m\u001B[1;33m[\u001B[0m\u001B[0mpredict\u001B[0m\u001B[1;33m(\u001B[0m\u001B[0mex_text_str\u001B[0m\u001B[1;33m,\u001B[0m \u001B[0mtext_pipeline\u001B[0m\u001B[1;33m)\u001B[0m\u001B[1;33m]\u001B[0m\u001B[1;33m)\u001B[0m\u001B[1;33m\u001B[0m\u001B[1;33m\u001B[0m\u001B[0m\n\u001B[0m",
      "\u001B[1;31mKeyError\u001B[0m: 1"
     ]
    }
   ],
   "source": [
    "mapping = {\n",
    "\"Libertarian Left\":1,\n",
    "\"Libertarian Right\":2,\n",
    "\"Authoritarian Left\":3,\n",
    "\"Authoritarian Right\":4,\n",
    "}\n",
    "def predict(text, text_pipeline):\n",
    "    with torch.no_grad():\n",
    "        text = torch.tensor(text_pipeline(text))\n",
    "        output = model(text, torch.tensor([0]))\n",
    "        return output.argmax(1).item() + 1\n",
    "\n",
    "ex_text_str = \"Would you like the biggest socioeconomic reason wages have been held down and now need two incomes instead of one for a household? Nobody likes the answer.\"\n",
    "#https://old.reddit.com/r/PoliticalCompassMemes/comments/x774os/conservative_you_say_sounds_fine_to_me/inapp39/\n",
    "model = model.to(\"cpu\")\n",
    "\n",
    "print(\"This is a %s news\" %mapping[predict(ex_text_str, text_pipeline)])"
   ],
   "metadata": {
    "collapsed": false,
    "pycharm": {
     "name": "#%%\n"
    }
   }
  },
  {
   "cell_type": "code",
   "execution_count": null,
   "outputs": [],
   "source": [],
   "metadata": {
    "collapsed": false,
    "pycharm": {
     "name": "#%%\n"
    }
   }
  },
  {
   "cell_type": "code",
   "execution_count": null,
   "outputs": [],
   "source": [],
   "metadata": {
    "collapsed": false,
    "pycharm": {
     "name": "#%%\n"
    }
   }
  }
 ],
 "metadata": {
  "kernelspec": {
   "display_name": "Python 3",
   "language": "python",
   "name": "python3"
  },
  "language_info": {
   "codemirror_mode": {
    "name": "ipython",
    "version": 2
   },
   "file_extension": ".py",
   "mimetype": "text/x-python",
   "name": "python",
   "nbconvert_exporter": "python",
   "pygments_lexer": "ipython2",
   "version": "2.7.6"
  }
 },
 "nbformat": 4,
 "nbformat_minor": 0
}