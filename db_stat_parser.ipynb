{
 "cells": [
  {
   "cell_type": "code",
   "execution_count": 7,
   "metadata": {
    "collapsed": true
   },
   "outputs": [
    {
     "name": "stdout",
     "output_type": "stream",
     "text": [
      "Comments:25314\n",
      "dupes:3596\n"
     ]
    }
   ],
   "source": [
    "# This code checks duplicates between two databases \n",
    "db = \"DB\"\n",
    "import ast\n",
    "file = open(db,'r')\n",
    "file2= open(\"Merged_No_Dupes_DB\",'w')\n",
    "counter_dict ={}\n",
    "from ast import literal_eval as make_tuple\n",
    "dupes=0\n",
    "comments=[]\n",
    "for line in file:\n",
    "    opinion_comment=  [make_tuple(line)[0],make_tuple(line)[1]]\n",
    "    try:\n",
    "        val = counter_dict[opinion_comment[1]]\n",
    "        if val:\n",
    "            dupes=dupes +1\n",
    "            comments+=[opinion_comment[1]]\n",
    "    except KeyError:\n",
    "        counter_dict[opinion_comment[1]]=1\n",
    "        comments+=[opinion_comment[1]]\n",
    "        file2.write(line)\n",
    "print(\"Comments:\"+str(len(comments)))\n",
    "print(\"dupes:\"+str(dupes))"
   ]
  },
  {
   "cell_type": "code",
   "execution_count": null,
   "outputs": [],
   "source": [],
   "metadata": {
    "collapsed": false,
    "pycharm": {
     "name": "#%%\n"
    }
   }
  }
 ],
 "metadata": {
  "kernelspec": {
   "display_name": "Python 3",
   "language": "python",
   "name": "python3"
  },
  "language_info": {
   "codemirror_mode": {
    "name": "ipython",
    "version": 2
   },
   "file_extension": ".py",
   "mimetype": "text/x-python",
   "name": "python",
   "nbconvert_exporter": "python",
   "pygments_lexer": "ipython2",
   "version": "2.7.6"
  }
 },
 "nbformat": 4,
 "nbformat_minor": 0
}