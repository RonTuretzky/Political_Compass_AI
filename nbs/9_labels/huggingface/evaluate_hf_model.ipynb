{
 "cells": [
  {
   "cell_type": "code",
   "execution_count": null,
   "metadata": {
    "collapsed": true
   },
   "outputs": [],
   "source": [
    "#| default_exp evalute_hf_model\n",
    "\n",
    "#|  export\n",
    "from transformers import pipeline\n",
    "from evaluate import evaluator\n",
    "import evaluate\n",
    "from datasets import load_dataset\n",
    "import subprocess\n",
    "from fastcore.script import call_parse\n",
    "\n",
    "@call_parse()\n",
    "def evalute(db_path,modelname,):\n",
    "    pipe = pipeline(\"text-classification\", model=\"RonTuretzky/\"+modelname, device=0)\n",
    "    dataset = load_dataset(\"csv\", data_files={'test': [db_path]}, encoding='latin1')['test']\n",
    "    metric = evaluate.load(\"accuracy\")\n",
    "    task_evaluator = evaluator(\"text-classification\")\n",
    "    label2id = {\n",
    "        \"Libertarian Left\": 0,\n",
    "        \"Libertarian Right\": 1,\n",
    "        \"Authoritarian Left\": 2,\n",
    "        \"Authoritarian Right\": 3,\n",
    "        \"Centrist\": 4,\n",
    "        \"Authoritarian Center\": 5,\n",
    "        \"Left\": 6,\n",
    "        \"Right\": 7,\n",
    "        \"Libertarian Center\": 8,\n",
    "    }\n",
    "    results = task_evaluator.compute(model_or_pipeline=pipe, data=dataset, metric=metric,\n",
    "                                     label_mapping=label2id, )\n",
    "    print(results)"
   ]
  }
 ],
 "metadata": {
  "kernelspec": {
   "display_name": "Python 3",
   "language": "python",
   "name": "python3"
  },
  "language_info": {
   "codemirror_mode": {
    "name": "ipython",
    "version": 2
   },
   "file_extension": ".py",
   "mimetype": "text/x-python",
   "name": "python",
   "nbconvert_exporter": "python",
   "pygments_lexer": "ipython2",
   "version": "2.7.6"
  }
 },
 "nbformat": 4,
 "nbformat_minor": 0
}
