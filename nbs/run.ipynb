{
 "cells": [
  {
   "cell_type": "code",
   "execution_count": null,
   "outputs": [
    {
     "name": "stdout",
     "output_type": "stream",
     "text": [
      "| epoch   1 |   200/  991 batches | accuracy    0.319\n"
     ]
    }
   ],
   "source": [
    "#| default_exp run\n",
    "#|  export\n",
    "from torchtext.data.utils import get_tokenizer\n",
    "from Political_Compass_AI.data_processing import return_iters\n",
    "from Political_Compass_AI.data_processing import yield_tokens\n",
    "from Political_Compass_AI.data_processing import collate_batch\n",
    "from Political_Compass_AI.model import TextClassificationModel\n",
    "from Political_Compass_AI.training import train\n",
    "from Political_Compass_AI.training import evaluate\n",
    "from torchtext.data.functional import to_map_style_dataset\n",
    "from torchtext.vocab import build_vocab_from_iterator\n",
    "from torch.utils.data import DataLoader\n",
    "from torch.utils.data.dataset import random_split\n",
    "import time\n",
    "import torch\n",
    "\n",
    "global db\n",
    "db = \"../uniqueDB.txt\"\n",
    "tokenizer = get_tokenizer('basic_english')\n",
    "text_pipeline = lambda x: vocab(tokenizer(x))\n",
    "label_pipeline = lambda x: int(x) - 1\n",
    "train_iter, test_iter = return_iters(db)\n",
    "vocab = build_vocab_from_iterator(yield_tokens(train_iter), specials=[\"<unk>\"])\n",
    "vocab.set_default_index(vocab[\"<unk>\"])\n",
    "device = torch.device(\"cuda\" if torch.cuda.is_available() else \"cpu\")\n",
    "print(device)\n",
    "train_iter, test_iter = return_iters(db)\n",
    "dataloader = DataLoader(train_iter, batch_size=8, shuffle=False, collate_fn=collate_batch)\n",
    "train_iter, test_iter = return_iters(db)\n",
    "num_class = len(set([label for (label, text) in train_iter]))\n",
    "vocab_size = len(vocab)\n",
    "emsize = 128\n",
    "model = TextClassificationModel(vocab_size, emsize, num_class).to(device)\n",
    "LR = 5\n",
    "BATCH_SIZE = 32\n",
    "run_ledger = open(\"Run_Ledger.txt\", 'a')\n",
    "criterion = torch.nn.CrossEntropyLoss()\n",
    "# optimizer = torch.optim.SGD(model.parameters(), lr=LR)\n",
    "optimizer = torch.optim.Adagrad(model.parameters(), lr=LR)\n",
    "scheduler = torch.optim.lr_scheduler.StepLR(optimizer, 1.0, gamma=0.1)\n",
    "function = \"Linear with  weight init\"\n",
    "_optim = \"Adamgrad\"\n",
    "total_accu = None\n",
    "train_iter, test_iter = return_iters(db)\n",
    "\n",
    "train_dataset = to_map_style_dataset(train_iter)\n",
    "test_dataset = to_map_style_dataset(test_iter)\n",
    "num_train = int(len(train_dataset) * 0.95)\n",
    "split_train_, split_valid_ = \\\n",
    "    random_split(train_dataset, [num_train, len(train_dataset) - num_train])\n",
    "\n",
    "train_dataloader = DataLoader(split_train_, batch_size=BATCH_SIZE,\n",
    "                              shuffle=True, collate_fn=collate_batch)\n",
    "valid_dataloader = DataLoader(split_valid_, batch_size=BATCH_SIZE,\n",
    "                              shuffle=True, collate_fn=collate_batch)\n",
    "test_dataloader = DataLoader(test_dataset, batch_size=BATCH_SIZE,\n",
    "                             shuffle=True, collate_fn=collate_batch)\n",
    "first_flag = True\n",
    "EPOCHS = 20\n",
    "for epoch in range(1, EPOCHS + 1):\n",
    "    epoch_start_time = time.time()\n",
    "    train(train_dataloader, model, optimizer, epoch)\n",
    "    accu_val = evaluate(valid_dataloader, model)\n",
    "    if total_accu is not None and total_accu > accu_val:\n",
    "        scheduler.step()\n",
    "    else:\n",
    "        total_accu = accu_val\n",
    "    if first_flag:\n",
    "        run_ledger.write(\"Database file: \" + db + \"\\t\" + \"Epochs:\" + str(EPOCHS) + \"\\t\" + \"LR: \" + str(\n",
    "            LR) + \"\\t\" + \"Batch Size: \" + str(BATCH_SIZE) + \"\\tinit accu_val:\" + str(accu_val) + \"\\n\")\n",
    "        first_flag = False\n",
    "    print('-' * 59)\n",
    "    print('| end of epoch {:3d} | time: {:5.2f}s | '\n",
    "          'valid accuracy {:8.3f} '.format(epoch,\n",
    "                                           time.time() - epoch_start_time,\n",
    "                                           accu_val))\n",
    "    print('-' * 59)\n",
    "run_ledger.write(\"Final accu:\\t\" + str(accu_val) + \"\\n\\n\")\n",
    "accu_test = evaluate(test_dataloader,model)\n",
    "out = 'test accuracy {:8.3f}'.format(accu_test)\n",
    "print(out)\n",
    "run_ledger.write(out + \"\\tfunction:\" + function + \"\\tOptimzer:\" + _optim + '\\n')\n",
    "run_ledger.close()\n",
    "#torch.save(model.state_dict(), <path_to>)\n",
    "# model.load_state_dict(torch.load(<path_to>))\n"
   ],
   "metadata": {
    "collapsed": false,
    "pycharm": {
     "is_executing": true
    }
   }
  },
  {
   "cell_type": "code",
   "execution_count": 3,
   "outputs": [
    {
     "name": "stdout",
     "output_type": "stream",
     "text": [
      "This is a Authoritarian Left comment\n"
     ]
    }
   ],
   "source": [
    "def predict(text, text_pipeline):\n",
    "    with torch.no_grad():\n",
    "        text = torch.tensor(text_pipeline(text))\n",
    "        output = model(text, torch.tensor([0]))\n",
    "        return output.argmax(1).item() + 1\n",
    "\n",
    "mapping = {\n",
    "1:\"Libertarian Left\",\n",
    "2:\"Libertarian Right\",\n",
    "3:\"Authoritarian Left\",\n",
    "4:\"Authoritarian Right\",\n",
    "}\n",
    "model = model.to(\"cpu\")\n",
    "# ex_text_str = \"\"\"\n",
    "# \"\"\"\n",
    "# https://old.reddit.com/r/PoliticalCompassMemes/comments/x774os/conservative_you_say_sounds_fine_to_me/inbbz52/\n",
    "ex_text_str = \"\"\"\n",
    "deo's mom\n",
    "\"\"\"\n",
    "print(\"This is a %s comment\" % mapping[predict(ex_text_str, text_pipeline)])"
   ],
   "metadata": {
    "collapsed": false
   }
  },
  {
   "cell_type": "code",
   "execution_count": null,
   "outputs": [],
   "source": [],
   "metadata": {
    "collapsed": false
   }
  }
 ],
 "metadata": {
  "kernelspec": {
   "display_name": "Python 3",
   "language": "python",
   "name": "python3"
  },
  "language_info": {
   "codemirror_mode": {
    "name": "ipython",
    "version": 2
   },
   "file_extension": ".py",
   "mimetype": "text/x-python",
   "name": "python",
   "nbconvert_exporter": "python",
   "pygments_lexer": "ipython2",
   "version": "2.7.6"
  }
 },
 "nbformat": 4,
 "nbformat_minor": 0
}
