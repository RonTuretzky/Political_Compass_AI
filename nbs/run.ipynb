{
 "cells": [
  {
   "cell_type": "code",
   "execution_count": 22,
   "outputs": [],
   "source": [
    "#| default_exp run\n",
    "#|  export\n",
    "from fastcore.script import call_parse\n",
    "\n",
    "\n",
    "\n",
    "def split_string(string):\n",
    "    # Removing the parentheses and splitting the string by comma\n",
    "    parts = string[1:-1].split(\",\")\n",
    "    # Removing the whitespace and quotes from the parts\n",
    "    parts = [part.strip().strip(\"'\") for part in parts]\n",
    "    return parts[0], parts[1]\n",
    "\n",
    "def return_iters(db:str # Path to db\n",
    "                 ):\n",
    "    train_iter = []\n",
    "    test_iter = []\n",
    "    file = open(db, 'r', encoding='latin1')\n",
    "    mapping = {\n",
    "        \"Libertarian Left\": 1,\n",
    "        \"Libertarian Right\": 2,\n",
    "        \"Authoritarian Left\": 3,\n",
    "        \"Authoritarian Right\": 4,\n",
    "    }\n",
    "    lines = file.readlines()\n",
    "    for line in lines:\n",
    "        opinion,text = split_string(line)\n",
    "        train_iter+=[(mapping[opinion],text)]\n",
    "        test_iter+=[(mapping[opinion],text)]\n",
    "    train_iter = iter(train_iter)\n",
    "    test_iter = iter(test_iter)\n",
    "    file.close()\n",
    "    return train_iter, test_iter"
   ],
   "metadata": {
    "collapsed": false
   }
  },
  {
   "cell_type": "code",
   "execution_count": 45,
   "outputs": [],
   "source": [
    "#|  export\n",
    "from torchtext.data.utils import get_tokenizer\n",
    "# from Political_Compass_AI.data_processing import return_iters\n",
    "# from Political_Compass_AI.data_processing import split_string\n",
    "from Political_Compass_AI.data_processing import yield_tokens\n",
    "from Political_Compass_AI.data_processing import collate_batch\n",
    "from Political_Compass_AI.training import train\n",
    "from Political_Compass_AI.training import evaluate\n",
    "from Political_Compass_AI.model import TextClassificationModel\n",
    "from torchtext.data.functional import to_map_style_dataset\n",
    "from torchtext.vocab import build_vocab_from_iterator\n",
    "from torch.utils.data import DataLoader\n",
    "from torch.utils.data.dataset import random_split\n",
    "import time\n",
    "import torch\n",
    "import optuna\n",
    "from optuna.trial import TrialState\n",
    "import torch.nn as nn\n",
    "import torch.nn.functional as F\n",
    "import torch.optim as optim\n",
    "import torch.utils.data\n",
    "from torchvision import datasets\n",
    "from torchvision import transforms\n",
    "import pandas as pd\n",
    "def define_model(trial,vocab_size, emsize, num_class):\n",
    "    model = TextClassificationModel(vocab_size, emsize, num_class)\n",
    "    return model\n",
    "def collate_batch(\n",
    "        batch\n",
    "):\n",
    "    global text_pipeline\n",
    "    global db\n",
    "    device = torch.device(\"cuda\" if torch.cuda.is_available() else \"cpu\")\n",
    "    label_pipeline = lambda x: int(x) - 1\n",
    "    label_list, text_list, offsets = [], [], [0]\n",
    "    for (_label, _text) in batch:\n",
    "        label_list.append(label_pipeline(_label))\n",
    "        processed_text = torch.tensor(text_pipeline(_text), dtype=torch.int64)\n",
    "        text_list.append(processed_text)\n",
    "        offsets.append(processed_text.size(0))\n",
    "    label_list = torch.tensor(label_list, dtype=torch.int64)\n",
    "    offsets = torch.tensor(offsets[:-1]).cumsum(dim=0)\n",
    "    text_list = torch.cat(text_list)\n",
    "    return label_list.to(device), text_list.to(device), offsets.to(device)\n",
    "\n",
    "def objective(\n",
    "    trial,\n",
    "\n",
    "):\n",
    "    global text_pipeline\n",
    "    global db\n",
    "    # BATCH_SIZE = trial.suggest_int('n_epochs', 8, 64)\n",
    "    BATCH_SIZE = 32\n",
    "    db=\"../uniqueDB.txt\"\n",
    "    tokenizer = get_tokenizer('basic_english')\n",
    "    text_pipeline = lambda x: vocab(tokenizer(x))\n",
    "    label_pipeline = lambda x: int(x) - 1\n",
    "    train_iter, test_iter = return_iters(db)\n",
    "    vocab = build_vocab_from_iterator(yield_tokens(train_iter), specials=[\"<unk>\"])\n",
    "    vocab.set_default_index(vocab[\"<unk>\"])\n",
    "\n",
    "    train_iter, test_iter = return_iters(db)\n",
    "    dataloader = DataLoader(train_iter, batch_size=BATCH_SIZE, shuffle=False, collate_fn=collate_batch)\n",
    "    train_iter, test_iter = return_iters(db)\n",
    "    num_class = len(set([label for (label, text) in train_iter]))\n",
    "    vocab_size = len(vocab)\n",
    "    emsize = 128\n",
    "    LR = trial.suggest_float(\"lr\", 5, 10, log=True)\n",
    "    device = torch.device(\"cuda\" if torch.cuda.is_available() else \"cpu\")\n",
    "    model = define_model(trial,vocab_size, emsize, num_class).to(device)\n",
    "    run_ledger = open(\"Run_Ledger.txt\", 'a')\n",
    "    criterion = torch.nn.CrossEntropyLoss()\n",
    "    # optimizer = torch.optim.SGD(model.parameters(), lr=LR)\n",
    "    # optimizer = torch.optim.Adagrad(model.parameters(), lr=LR)\n",
    "    optimizer_name = trial.suggest_categorical(\"optimizer\", [\"Adam\", \"RMSprop\", \"SGD\",\"Adagrad\"])\n",
    "    optimizer = getattr(optim, optimizer_name)(model.parameters(), lr=LR)\n",
    "    scheduler = torch.optim.lr_scheduler.StepLR(optimizer, 1.0, gamma=0.1)\n",
    "    function = \"Linear with  weight init\"\n",
    "    _optim = \"Adamgrad\"\n",
    "    total_accu = None\n",
    "    train_iter, test_iter = return_iters(db)\n",
    "\n",
    "    train_dataset = to_map_style_dataset(train_iter)\n",
    "    test_dataset = to_map_style_dataset(test_iter)\n",
    "    num_train = int(len(train_dataset) * 0.95)\n",
    "    split_train_, split_valid_ = \\\n",
    "        random_split(train_dataset, [num_train, len(train_dataset) - num_train])\n",
    "\n",
    "    train_dataloader = DataLoader(split_train_, batch_size=BATCH_SIZE,\n",
    "                                  shuffle=True, collate_fn=collate_batch)\n",
    "    valid_dataloader = DataLoader(split_valid_, batch_size=BATCH_SIZE,\n",
    "                                  shuffle=True, collate_fn=collate_batch)\n",
    "    test_dataloader = DataLoader(test_dataset, batch_size=BATCH_SIZE,\n",
    "                                 shuffle=True, collate_fn=collate_batch)\n",
    "    first_flag = True\n",
    "    # EPOCHS = trial.suggest_int('n_epochs', 20, 50)\n",
    "    EPOCHS = 20\n",
    "\n",
    "\n",
    "    for epoch in range(1, EPOCHS + 1):\n",
    "        epoch_start_time = time.time()\n",
    "        train(train_dataloader, model, optimizer, epoch)\n",
    "        accu_val = evaluate(valid_dataloader, model)\n",
    "        if total_accu is not None and total_accu > accu_val:\n",
    "            scheduler.step()\n",
    "        else:\n",
    "            total_accu = accu_val\n",
    "        # print('-' * 59)\n",
    "        # print('| end of epoch {:3d} | time: {:5.2f}s | '\n",
    "        #       'valid accuracy {:8.3f} '.format(epoch,\n",
    "        #                                        time.time() - epoch_start_time,\n",
    "        #                                        accu_val))\n",
    "        # print('-' * 59)\n",
    "        trial.report(accu_val, epoch)\n",
    "        if trial.should_prune():\n",
    "            raise optuna.exceptions.TrialPruned()\n",
    "        return accu_val\n",
    "    # df_Log = {\"Database_file\":[],\"Epochs\":[],\"LR\":[],\"Batch_Size\":[],\n",
    "    #           \"Final_accu\":[],\"Optimzer\":[],\"accu_test\":[]}\n",
    "    #\n",
    "    # accu_test = evaluate(test_dataloader,model)\n",
    "    # out = 'test accuracy {:8.3f}'.format(accu_test)\n",
    "    # df_Log[\"Database_file\"].append(db)\n",
    "    # df_Log[\"Epochs\"].append(str(EPOCHS))\n",
    "    # df_Log[\"LR\"].append( str(LR))\n",
    "    # df_Log[\"Batch_Size\"].append(str(BATCH_SIZE))\n",
    "    # df_Log[\"Final_accu\"].append(str(accu_val))\n",
    "    # df_Log[\"Optimzer\"].append(optimizer_name)\n",
    "    # df_Log[\"accu_test\"].append(accu_test)\n",
    "    # dataframe = pd.DataFrame(df_Log)\n",
    "    # dataframe.to_csv('Run_Ledger.csv',mode='a', index=False,sep=\"\\t\")"
   ],
   "metadata": {
    "collapsed": false
   }
  },
  {
   "cell_type": "code",
   "execution_count": 46,
   "outputs": [
    {
     "name": "stderr",
     "output_type": "stream",
     "text": [
      "\u001B[32m[I 2023-02-08 14:58:29,107]\u001B[0m A new study created in memory with name: no-name-3c615412-dd10-4186-886e-e464c8cf762c\u001B[0m\n"
     ]
    },
    {
     "name": "stdout",
     "output_type": "stream",
     "text": [
      "| epoch   1 |    50/  991 batches | accuracy    0.354\n",
      "| epoch   1 |   100/  991 batches | accuracy    0.393\n",
      "| epoch   1 |   150/  991 batches | accuracy    0.343\n",
      "| epoch   1 |   200/  991 batches | accuracy    0.344\n",
      "| epoch   1 |   250/  991 batches | accuracy    0.354\n",
      "| epoch   1 |   300/  991 batches | accuracy    0.362\n",
      "| epoch   1 |   350/  991 batches | accuracy    0.351\n",
      "| epoch   1 |   400/  991 batches | accuracy    0.349\n",
      "| epoch   1 |   450/  991 batches | accuracy    0.370\n",
      "| epoch   1 |   500/  991 batches | accuracy    0.354\n",
      "| epoch   1 |   550/  991 batches | accuracy    0.362\n",
      "| epoch   1 |   600/  991 batches | accuracy    0.377\n",
      "| epoch   1 |   650/  991 batches | accuracy    0.352\n",
      "| epoch   1 |   700/  991 batches | accuracy    0.339\n",
      "| epoch   1 |   750/  991 batches | accuracy    0.359\n",
      "| epoch   1 |   800/  991 batches | accuracy    0.347\n",
      "| epoch   1 |   850/  991 batches | accuracy    0.376\n",
      "| epoch   1 |   900/  991 batches | accuracy    0.369\n",
      "| epoch   1 |   950/  991 batches | accuracy    0.359\n"
     ]
    },
    {
     "name": "stderr",
     "output_type": "stream",
     "text": [
      "\u001B[32m[I 2023-02-08 14:58:34,395]\u001B[0m Trial 0 finished with value: 0.3313361294188137 and parameters: {'lr': 6.081937985787652, 'optimizer': 'SGD'}. Best is trial 0 with value: 0.3313361294188137.\u001B[0m\n"
     ]
    },
    {
     "name": "stdout",
     "output_type": "stream",
     "text": [
      "| epoch   1 |    50/  991 batches | accuracy    0.298\n",
      "| epoch   1 |   100/  991 batches | accuracy    0.294\n",
      "| epoch   1 |   150/  991 batches | accuracy    0.294\n",
      "| epoch   1 |   200/  991 batches | accuracy    0.326\n",
      "| epoch   1 |   250/  991 batches | accuracy    0.299\n",
      "| epoch   1 |   300/  991 batches | accuracy    0.298\n",
      "| epoch   1 |   350/  991 batches | accuracy    0.303\n",
      "| epoch   1 |   400/  991 batches | accuracy    0.305\n",
      "| epoch   1 |   450/  991 batches | accuracy    0.301\n",
      "| epoch   1 |   500/  991 batches | accuracy    0.294\n",
      "| epoch   1 |   550/  991 batches | accuracy    0.328\n",
      "| epoch   1 |   600/  991 batches | accuracy    0.304\n",
      "| epoch   1 |   650/  991 batches | accuracy    0.310\n",
      "| epoch   1 |   700/  991 batches | accuracy    0.327\n",
      "| epoch   1 |   750/  991 batches | accuracy    0.306\n",
      "| epoch   1 |   800/  991 batches | accuracy    0.302\n",
      "| epoch   1 |   850/  991 batches | accuracy    0.315\n",
      "| epoch   1 |   900/  991 batches | accuracy    0.301\n",
      "| epoch   1 |   950/  991 batches | accuracy    0.317\n"
     ]
    },
    {
     "name": "stderr",
     "output_type": "stream",
     "text": [
      "\u001B[32m[I 2023-02-08 14:58:40,540]\u001B[0m Trial 1 pruned. \u001B[0m\n"
     ]
    },
    {
     "name": "stdout",
     "output_type": "stream",
     "text": [
      "| epoch   1 |    50/  991 batches | accuracy    0.297\n",
      "| epoch   1 |   100/  991 batches | accuracy    0.309\n",
      "| epoch   1 |   150/  991 batches | accuracy    0.301\n",
      "| epoch   1 |   200/  991 batches | accuracy    0.301\n",
      "| epoch   1 |   250/  991 batches | accuracy    0.300\n",
      "| epoch   1 |   300/  991 batches | accuracy    0.298\n",
      "| epoch   1 |   350/  991 batches | accuracy    0.313\n",
      "| epoch   1 |   400/  991 batches | accuracy    0.320\n",
      "| epoch   1 |   450/  991 batches | accuracy    0.285\n",
      "| epoch   1 |   500/  991 batches | accuracy    0.302\n",
      "| epoch   1 |   550/  991 batches | accuracy    0.319\n",
      "| epoch   1 |   600/  991 batches | accuracy    0.297\n",
      "| epoch   1 |   650/  991 batches | accuracy    0.300\n",
      "| epoch   1 |   700/  991 batches | accuracy    0.304\n",
      "| epoch   1 |   750/  991 batches | accuracy    0.321\n",
      "| epoch   1 |   800/  991 batches | accuracy    0.318\n",
      "| epoch   1 |   850/  991 batches | accuracy    0.323\n",
      "| epoch   1 |   900/  991 batches | accuracy    0.310\n",
      "| epoch   1 |   950/  991 batches | accuracy    0.323\n"
     ]
    },
    {
     "name": "stderr",
     "output_type": "stream",
     "text": [
      "\u001B[32m[I 2023-02-08 14:58:46,534]\u001B[0m Trial 2 pruned. \u001B[0m\n"
     ]
    },
    {
     "name": "stdout",
     "output_type": "stream",
     "text": [
      "| epoch   1 |    50/  991 batches | accuracy    0.285\n",
      "| epoch   1 |   100/  991 batches | accuracy    0.290\n",
      "| epoch   1 |   150/  991 batches | accuracy    0.299\n",
      "| epoch   1 |   200/  991 batches | accuracy    0.307\n",
      "| epoch   1 |   250/  991 batches | accuracy    0.300\n",
      "| epoch   1 |   300/  991 batches | accuracy    0.311\n",
      "| epoch   1 |   350/  991 batches | accuracy    0.316\n",
      "| epoch   1 |   400/  991 batches | accuracy    0.296\n",
      "| epoch   1 |   450/  991 batches | accuracy    0.307\n",
      "| epoch   1 |   500/  991 batches | accuracy    0.303\n",
      "| epoch   1 |   550/  991 batches | accuracy    0.279\n",
      "| epoch   1 |   600/  991 batches | accuracy    0.311\n",
      "| epoch   1 |   650/  991 batches | accuracy    0.306\n",
      "| epoch   1 |   700/  991 batches | accuracy    0.306\n",
      "| epoch   1 |   750/  991 batches | accuracy    0.303\n",
      "| epoch   1 |   800/  991 batches | accuracy    0.318\n",
      "| epoch   1 |   850/  991 batches | accuracy    0.310\n",
      "| epoch   1 |   900/  991 batches | accuracy    0.338\n",
      "| epoch   1 |   950/  991 batches | accuracy    0.294\n"
     ]
    },
    {
     "name": "stderr",
     "output_type": "stream",
     "text": [
      "\u001B[32m[I 2023-02-08 14:58:52,078]\u001B[0m Trial 3 pruned. \u001B[0m\n"
     ]
    },
    {
     "name": "stdout",
     "output_type": "stream",
     "text": [
      "| epoch   1 |    50/  991 batches | accuracy    0.301\n",
      "| epoch   1 |   100/  991 batches | accuracy    0.289\n",
      "| epoch   1 |   150/  991 batches | accuracy    0.304\n",
      "| epoch   1 |   200/  991 batches | accuracy    0.321\n",
      "| epoch   1 |   250/  991 batches | accuracy    0.312\n",
      "| epoch   1 |   300/  991 batches | accuracy    0.309\n",
      "| epoch   1 |   350/  991 batches | accuracy    0.312\n",
      "| epoch   1 |   400/  991 batches | accuracy    0.322\n",
      "| epoch   1 |   450/  991 batches | accuracy    0.333\n",
      "| epoch   1 |   500/  991 batches | accuracy    0.323\n",
      "| epoch   1 |   550/  991 batches | accuracy    0.334\n",
      "| epoch   1 |   600/  991 batches | accuracy    0.327\n",
      "| epoch   1 |   650/  991 batches | accuracy    0.335\n",
      "| epoch   1 |   700/  991 batches | accuracy    0.302\n",
      "| epoch   1 |   750/  991 batches | accuracy    0.316\n",
      "| epoch   1 |   800/  991 batches | accuracy    0.321\n",
      "| epoch   1 |   850/  991 batches | accuracy    0.323\n",
      "| epoch   1 |   900/  991 batches | accuracy    0.328\n",
      "| epoch   1 |   950/  991 batches | accuracy    0.324\n"
     ]
    },
    {
     "name": "stderr",
     "output_type": "stream",
     "text": [
      "\u001B[32m[I 2023-02-08 14:58:59,635]\u001B[0m Trial 4 finished with value: 0.35410425404433793 and parameters: {'lr': 8.144494704472349, 'optimizer': 'Adagrad'}. Best is trial 4 with value: 0.35410425404433793.\u001B[0m\n"
     ]
    },
    {
     "name": "stdout",
     "output_type": "stream",
     "text": [
      "| epoch   1 |    50/  991 batches | accuracy    0.283\n",
      "| epoch   1 |   100/  991 batches | accuracy    0.289\n",
      "| epoch   1 |   150/  991 batches | accuracy    0.307\n",
      "| epoch   1 |   200/  991 batches | accuracy    0.298\n",
      "| epoch   1 |   250/  991 batches | accuracy    0.293\n",
      "| epoch   1 |   300/  991 batches | accuracy    0.307\n",
      "| epoch   1 |   350/  991 batches | accuracy    0.301\n",
      "| epoch   1 |   400/  991 batches | accuracy    0.315\n",
      "| epoch   1 |   450/  991 batches | accuracy    0.308\n",
      "| epoch   1 |   500/  991 batches | accuracy    0.306\n",
      "| epoch   1 |   550/  991 batches | accuracy    0.326\n",
      "| epoch   1 |   600/  991 batches | accuracy    0.296\n",
      "| epoch   1 |   650/  991 batches | accuracy    0.315\n",
      "| epoch   1 |   700/  991 batches | accuracy    0.303\n",
      "| epoch   1 |   750/  991 batches | accuracy    0.321\n",
      "| epoch   1 |   800/  991 batches | accuracy    0.303\n",
      "| epoch   1 |   850/  991 batches | accuracy    0.295\n",
      "| epoch   1 |   900/  991 batches | accuracy    0.296\n",
      "| epoch   1 |   950/  991 batches | accuracy    0.309\n"
     ]
    },
    {
     "name": "stderr",
     "output_type": "stream",
     "text": [
      "\u001B[32m[I 2023-02-08 14:59:07,623]\u001B[0m Trial 5 finished with value: 0.3427201917315758 and parameters: {'lr': 6.465784521844339, 'optimizer': 'RMSprop'}. Best is trial 4 with value: 0.35410425404433793.\u001B[0m\n"
     ]
    },
    {
     "name": "stdout",
     "output_type": "stream",
     "text": [
      "| epoch   1 |    50/  991 batches | accuracy    0.308\n",
      "| epoch   1 |   100/  991 batches | accuracy    0.318\n",
      "| epoch   1 |   150/  991 batches | accuracy    0.311\n",
      "| epoch   1 |   200/  991 batches | accuracy    0.304\n",
      "| epoch   1 |   250/  991 batches | accuracy    0.277\n",
      "| epoch   1 |   300/  991 batches | accuracy    0.298\n",
      "| epoch   1 |   350/  991 batches | accuracy    0.321\n",
      "| epoch   1 |   400/  991 batches | accuracy    0.291\n",
      "| epoch   1 |   450/  991 batches | accuracy    0.309\n",
      "| epoch   1 |   500/  991 batches | accuracy    0.298\n",
      "| epoch   1 |   550/  991 batches | accuracy    0.314\n",
      "| epoch   1 |   600/  991 batches | accuracy    0.301\n",
      "| epoch   1 |   650/  991 batches | accuracy    0.301\n",
      "| epoch   1 |   700/  991 batches | accuracy    0.302\n",
      "| epoch   1 |   750/  991 batches | accuracy    0.301\n",
      "| epoch   1 |   800/  991 batches | accuracy    0.281\n",
      "| epoch   1 |   850/  991 batches | accuracy    0.323\n",
      "| epoch   1 |   900/  991 batches | accuracy    0.316\n",
      "| epoch   1 |   950/  991 batches | accuracy    0.316\n"
     ]
    },
    {
     "name": "stderr",
     "output_type": "stream",
     "text": [
      "\u001B[32m[I 2023-02-08 14:59:16,531]\u001B[0m Trial 6 pruned. \u001B[0m\n"
     ]
    },
    {
     "name": "stdout",
     "output_type": "stream",
     "text": [
      "| epoch   1 |    50/  991 batches | accuracy    0.294\n",
      "| epoch   1 |   100/  991 batches | accuracy    0.302\n",
      "| epoch   1 |   150/  991 batches | accuracy    0.299\n",
      "| epoch   1 |   200/  991 batches | accuracy    0.283\n",
      "| epoch   1 |   250/  991 batches | accuracy    0.310\n",
      "| epoch   1 |   300/  991 batches | accuracy    0.321\n",
      "| epoch   1 |   350/  991 batches | accuracy    0.292\n",
      "| epoch   1 |   400/  991 batches | accuracy    0.307\n",
      "| epoch   1 |   450/  991 batches | accuracy    0.340\n",
      "| epoch   1 |   500/  991 batches | accuracy    0.324\n",
      "| epoch   1 |   550/  991 batches | accuracy    0.299\n",
      "| epoch   1 |   600/  991 batches | accuracy    0.299\n",
      "| epoch   1 |   650/  991 batches | accuracy    0.304\n",
      "| epoch   1 |   700/  991 batches | accuracy    0.311\n",
      "| epoch   1 |   750/  991 batches | accuracy    0.319\n",
      "| epoch   1 |   800/  991 batches | accuracy    0.329\n",
      "| epoch   1 |   850/  991 batches | accuracy    0.311\n",
      "| epoch   1 |   900/  991 batches | accuracy    0.324\n",
      "| epoch   1 |   950/  991 batches | accuracy    0.314\n"
     ]
    },
    {
     "name": "stderr",
     "output_type": "stream",
     "text": [
      "\u001B[32m[I 2023-02-08 14:59:26,245]\u001B[0m Trial 7 pruned. \u001B[0m\n"
     ]
    },
    {
     "name": "stdout",
     "output_type": "stream",
     "text": [
      "| epoch   1 |    50/  991 batches | accuracy    0.298\n",
      "| epoch   1 |   100/  991 batches | accuracy    0.307\n",
      "| epoch   1 |   150/  991 batches | accuracy    0.288\n",
      "| epoch   1 |   200/  991 batches | accuracy    0.307\n",
      "| epoch   1 |   250/  991 batches | accuracy    0.309\n",
      "| epoch   1 |   300/  991 batches | accuracy    0.307\n",
      "| epoch   1 |   350/  991 batches | accuracy    0.297\n",
      "| epoch   1 |   400/  991 batches | accuracy    0.286\n",
      "| epoch   1 |   450/  991 batches | accuracy    0.299\n",
      "| epoch   1 |   500/  991 batches | accuracy    0.307\n",
      "| epoch   1 |   550/  991 batches | accuracy    0.312\n",
      "| epoch   1 |   600/  991 batches | accuracy    0.303\n",
      "| epoch   1 |   650/  991 batches | accuracy    0.307\n",
      "| epoch   1 |   700/  991 batches | accuracy    0.318\n",
      "| epoch   1 |   750/  991 batches | accuracy    0.276\n",
      "| epoch   1 |   800/  991 batches | accuracy    0.311\n",
      "| epoch   1 |   850/  991 batches | accuracy    0.312\n",
      "| epoch   1 |   900/  991 batches | accuracy    0.304\n",
      "| epoch   1 |   950/  991 batches | accuracy    0.287\n"
     ]
    },
    {
     "name": "stderr",
     "output_type": "stream",
     "text": [
      "\u001B[32m[I 2023-02-08 14:59:34,589]\u001B[0m Trial 8 pruned. \u001B[0m\n"
     ]
    },
    {
     "name": "stdout",
     "output_type": "stream",
     "text": [
      "| epoch   1 |    50/  991 batches | accuracy    0.317\n",
      "| epoch   1 |   100/  991 batches | accuracy    0.294\n",
      "| epoch   1 |   150/  991 batches | accuracy    0.311\n",
      "| epoch   1 |   200/  991 batches | accuracy    0.296\n",
      "| epoch   1 |   250/  991 batches | accuracy    0.289\n",
      "| epoch   1 |   300/  991 batches | accuracy    0.319\n",
      "| epoch   1 |   350/  991 batches | accuracy    0.294\n",
      "| epoch   1 |   400/  991 batches | accuracy    0.307\n",
      "| epoch   1 |   450/  991 batches | accuracy    0.307\n",
      "| epoch   1 |   500/  991 batches | accuracy    0.301\n",
      "| epoch   1 |   550/  991 batches | accuracy    0.302\n",
      "| epoch   1 |   600/  991 batches | accuracy    0.311\n",
      "| epoch   1 |   650/  991 batches | accuracy    0.304\n",
      "| epoch   1 |   700/  991 batches | accuracy    0.299\n",
      "| epoch   1 |   750/  991 batches | accuracy    0.323\n",
      "| epoch   1 |   800/  991 batches | accuracy    0.318\n",
      "| epoch   1 |   850/  991 batches | accuracy    0.315\n",
      "| epoch   1 |   900/  991 batches | accuracy    0.309\n",
      "| epoch   1 |   950/  991 batches | accuracy    0.315\n"
     ]
    },
    {
     "name": "stderr",
     "output_type": "stream",
     "text": [
      "\u001B[32m[I 2023-02-08 14:59:40,131]\u001B[0m Trial 9 pruned. \u001B[0m\n"
     ]
    },
    {
     "name": "stdout",
     "output_type": "stream",
     "text": [
      "| epoch   1 |    50/  991 batches | accuracy    0.297\n",
      "| epoch   1 |   100/  991 batches | accuracy    0.308\n",
      "| epoch   1 |   150/  991 batches | accuracy    0.316\n",
      "| epoch   1 |   200/  991 batches | accuracy    0.326\n",
      "| epoch   1 |   250/  991 batches | accuracy    0.324\n",
      "| epoch   1 |   300/  991 batches | accuracy    0.313\n",
      "| epoch   1 |   350/  991 batches | accuracy    0.329\n",
      "| epoch   1 |   400/  991 batches | accuracy    0.306\n",
      "| epoch   1 |   450/  991 batches | accuracy    0.331\n",
      "| epoch   1 |   500/  991 batches | accuracy    0.312\n",
      "| epoch   1 |   550/  991 batches | accuracy    0.336\n",
      "| epoch   1 |   600/  991 batches | accuracy    0.308\n",
      "| epoch   1 |   650/  991 batches | accuracy    0.309\n",
      "| epoch   1 |   700/  991 batches | accuracy    0.301\n",
      "| epoch   1 |   750/  991 batches | accuracy    0.328\n",
      "| epoch   1 |   800/  991 batches | accuracy    0.316\n",
      "| epoch   1 |   850/  991 batches | accuracy    0.313\n",
      "| epoch   1 |   900/  991 batches | accuracy    0.335\n",
      "| epoch   1 |   950/  991 batches | accuracy    0.332\n"
     ]
    },
    {
     "name": "stderr",
     "output_type": "stream",
     "text": [
      "\u001B[32m[I 2023-02-08 14:59:45,833]\u001B[0m Trial 10 pruned. \u001B[0m\n"
     ]
    },
    {
     "name": "stdout",
     "output_type": "stream",
     "text": [
      "| epoch   1 |    50/  991 batches | accuracy    0.312\n",
      "| epoch   1 |   100/  991 batches | accuracy    0.305\n",
      "| epoch   1 |   150/  991 batches | accuracy    0.321\n",
      "| epoch   1 |   200/  991 batches | accuracy    0.317\n",
      "| epoch   1 |   250/  991 batches | accuracy    0.324\n",
      "| epoch   1 |   300/  991 batches | accuracy    0.328\n",
      "| epoch   1 |   350/  991 batches | accuracy    0.283\n",
      "| epoch   1 |   400/  991 batches | accuracy    0.293\n",
      "| epoch   1 |   450/  991 batches | accuracy    0.331\n",
      "| epoch   1 |   500/  991 batches | accuracy    0.307\n",
      "| epoch   1 |   550/  991 batches | accuracy    0.332\n",
      "| epoch   1 |   600/  991 batches | accuracy    0.332\n",
      "| epoch   1 |   650/  991 batches | accuracy    0.309\n",
      "| epoch   1 |   700/  991 batches | accuracy    0.324\n",
      "| epoch   1 |   750/  991 batches | accuracy    0.333\n",
      "| epoch   1 |   800/  991 batches | accuracy    0.327\n",
      "| epoch   1 |   850/  991 batches | accuracy    0.313\n",
      "| epoch   1 |   900/  991 batches | accuracy    0.328\n",
      "| epoch   1 |   950/  991 batches | accuracy    0.327\n"
     ]
    },
    {
     "name": "stderr",
     "output_type": "stream",
     "text": [
      "\u001B[32m[I 2023-02-08 14:59:51,647]\u001B[0m Trial 11 pruned. \u001B[0m\n"
     ]
    },
    {
     "name": "stdout",
     "output_type": "stream",
     "text": [
      "| epoch   1 |    50/  991 batches | accuracy    0.281\n",
      "| epoch   1 |   100/  991 batches | accuracy    0.303\n",
      "| epoch   1 |   150/  991 batches | accuracy    0.305\n",
      "| epoch   1 |   200/  991 batches | accuracy    0.309\n",
      "| epoch   1 |   250/  991 batches | accuracy    0.307\n",
      "| epoch   1 |   300/  991 batches | accuracy    0.307\n",
      "| epoch   1 |   350/  991 batches | accuracy    0.316\n",
      "| epoch   1 |   400/  991 batches | accuracy    0.330\n",
      "| epoch   1 |   450/  991 batches | accuracy    0.328\n",
      "| epoch   1 |   500/  991 batches | accuracy    0.325\n",
      "| epoch   1 |   550/  991 batches | accuracy    0.307\n",
      "| epoch   1 |   600/  991 batches | accuracy    0.315\n",
      "| epoch   1 |   650/  991 batches | accuracy    0.346\n",
      "| epoch   1 |   700/  991 batches | accuracy    0.331\n",
      "| epoch   1 |   750/  991 batches | accuracy    0.315\n",
      "| epoch   1 |   800/  991 batches | accuracy    0.328\n",
      "| epoch   1 |   850/  991 batches | accuracy    0.319\n",
      "| epoch   1 |   900/  991 batches | accuracy    0.329\n",
      "| epoch   1 |   950/  991 batches | accuracy    0.308\n"
     ]
    },
    {
     "name": "stderr",
     "output_type": "stream",
     "text": [
      "\u001B[32m[I 2023-02-08 14:59:58,436]\u001B[0m Trial 12 finished with value: 0.3457159976033553 and parameters: {'lr': 8.192424049384178, 'optimizer': 'Adagrad'}. Best is trial 4 with value: 0.35410425404433793.\u001B[0m\n"
     ]
    },
    {
     "name": "stdout",
     "output_type": "stream",
     "text": [
      "| epoch   1 |    50/  991 batches | accuracy    0.284\n",
      "| epoch   1 |   100/  991 batches | accuracy    0.301\n",
      "| epoch   1 |   150/  991 batches | accuracy    0.318\n",
      "| epoch   1 |   200/  991 batches | accuracy    0.334\n",
      "| epoch   1 |   250/  991 batches | accuracy    0.338\n",
      "| epoch   1 |   300/  991 batches | accuracy    0.307\n",
      "| epoch   1 |   350/  991 batches | accuracy    0.306\n",
      "| epoch   1 |   400/  991 batches | accuracy    0.328\n",
      "| epoch   1 |   450/  991 batches | accuracy    0.333\n",
      "| epoch   1 |   500/  991 batches | accuracy    0.308\n",
      "| epoch   1 |   550/  991 batches | accuracy    0.318\n",
      "| epoch   1 |   600/  991 batches | accuracy    0.324\n",
      "| epoch   1 |   650/  991 batches | accuracy    0.308\n",
      "| epoch   1 |   700/  991 batches | accuracy    0.329\n",
      "| epoch   1 |   750/  991 batches | accuracy    0.334\n",
      "| epoch   1 |   800/  991 batches | accuracy    0.337\n",
      "| epoch   1 |   850/  991 batches | accuracy    0.330\n",
      "| epoch   1 |   900/  991 batches | accuracy    0.344\n",
      "| epoch   1 |   950/  991 batches | accuracy    0.332\n"
     ]
    },
    {
     "name": "stderr",
     "output_type": "stream",
     "text": [
      "\u001B[32m[I 2023-02-08 15:00:04,303]\u001B[0m Trial 13 pruned. \u001B[0m\n"
     ]
    },
    {
     "name": "stdout",
     "output_type": "stream",
     "text": [
      "| epoch   1 |    50/  991 batches | accuracy    0.286\n",
      "| epoch   1 |   100/  991 batches | accuracy    0.313\n",
      "| epoch   1 |   150/  991 batches | accuracy    0.316\n",
      "| epoch   1 |   200/  991 batches | accuracy    0.309\n",
      "| epoch   1 |   250/  991 batches | accuracy    0.305\n",
      "| epoch   1 |   300/  991 batches | accuracy    0.309\n",
      "| epoch   1 |   350/  991 batches | accuracy    0.303\n",
      "| epoch   1 |   400/  991 batches | accuracy    0.326\n",
      "| epoch   1 |   450/  991 batches | accuracy    0.323\n",
      "| epoch   1 |   500/  991 batches | accuracy    0.309\n",
      "| epoch   1 |   550/  991 batches | accuracy    0.333\n",
      "| epoch   1 |   600/  991 batches | accuracy    0.332\n",
      "| epoch   1 |   650/  991 batches | accuracy    0.331\n",
      "| epoch   1 |   700/  991 batches | accuracy    0.309\n",
      "| epoch   1 |   750/  991 batches | accuracy    0.356\n",
      "| epoch   1 |   800/  991 batches | accuracy    0.334\n",
      "| epoch   1 |   850/  991 batches | accuracy    0.337\n",
      "| epoch   1 |   900/  991 batches | accuracy    0.347\n",
      "| epoch   1 |   950/  991 batches | accuracy    0.315\n"
     ]
    },
    {
     "name": "stderr",
     "output_type": "stream",
     "text": [
      "\u001B[32m[I 2023-02-08 15:00:10,002]\u001B[0m Trial 14 pruned. \u001B[0m\n"
     ]
    },
    {
     "name": "stdout",
     "output_type": "stream",
     "text": [
      "| epoch   1 |    50/  991 batches | accuracy    0.314\n",
      "| epoch   1 |   100/  991 batches | accuracy    0.278\n",
      "| epoch   1 |   150/  991 batches | accuracy    0.297\n",
      "| epoch   1 |   200/  991 batches | accuracy    0.320\n",
      "| epoch   1 |   250/  991 batches | accuracy    0.328\n",
      "| epoch   1 |   300/  991 batches | accuracy    0.301\n",
      "| epoch   1 |   350/  991 batches | accuracy    0.318\n",
      "| epoch   1 |   400/  991 batches | accuracy    0.302\n",
      "| epoch   1 |   450/  991 batches | accuracy    0.327\n",
      "| epoch   1 |   500/  991 batches | accuracy    0.309\n",
      "| epoch   1 |   550/  991 batches | accuracy    0.333\n",
      "| epoch   1 |   600/  991 batches | accuracy    0.343\n",
      "| epoch   1 |   650/  991 batches | accuracy    0.298\n",
      "| epoch   1 |   700/  991 batches | accuracy    0.334\n",
      "| epoch   1 |   750/  991 batches | accuracy    0.336\n",
      "| epoch   1 |   800/  991 batches | accuracy    0.307\n",
      "| epoch   1 |   850/  991 batches | accuracy    0.321\n",
      "| epoch   1 |   900/  991 batches | accuracy    0.328\n",
      "| epoch   1 |   950/  991 batches | accuracy    0.337\n"
     ]
    },
    {
     "name": "stderr",
     "output_type": "stream",
     "text": [
      "\u001B[32m[I 2023-02-08 15:00:15,706]\u001B[0m Trial 15 pruned. \u001B[0m\n"
     ]
    },
    {
     "name": "stdout",
     "output_type": "stream",
     "text": [
      "| epoch   1 |    50/  991 batches | accuracy    0.360\n",
      "| epoch   1 |   100/  991 batches | accuracy    0.367\n",
      "| epoch   1 |   150/  991 batches | accuracy    0.352\n",
      "| epoch   1 |   200/  991 batches | accuracy    0.353\n",
      "| epoch   1 |   250/  991 batches | accuracy    0.365\n",
      "| epoch   1 |   300/  991 batches | accuracy    0.371\n",
      "| epoch   1 |   350/  991 batches | accuracy    0.376\n",
      "| epoch   1 |   400/  991 batches | accuracy    0.347\n",
      "| epoch   1 |   450/  991 batches | accuracy    0.365\n",
      "| epoch   1 |   500/  991 batches | accuracy    0.344\n",
      "| epoch   1 |   550/  991 batches | accuracy    0.353\n",
      "| epoch   1 |   600/  991 batches | accuracy    0.336\n",
      "| epoch   1 |   650/  991 batches | accuracy    0.358\n",
      "| epoch   1 |   700/  991 batches | accuracy    0.344\n",
      "| epoch   1 |   750/  991 batches | accuracy    0.368\n",
      "| epoch   1 |   800/  991 batches | accuracy    0.367\n",
      "| epoch   1 |   850/  991 batches | accuracy    0.359\n",
      "| epoch   1 |   900/  991 batches | accuracy    0.351\n",
      "| epoch   1 |   950/  991 batches | accuracy    0.366\n"
     ]
    },
    {
     "name": "stderr",
     "output_type": "stream",
     "text": [
      "\u001B[32m[I 2023-02-08 15:00:20,904]\u001B[0m Trial 16 finished with value: 0.3822648292390653 and parameters: {'lr': 9.948092762259593, 'optimizer': 'SGD'}. Best is trial 16 with value: 0.3822648292390653.\u001B[0m\n"
     ]
    },
    {
     "name": "stdout",
     "output_type": "stream",
     "text": [
      "| epoch   1 |    50/  991 batches | accuracy    0.360\n",
      "| epoch   1 |   100/  991 batches | accuracy    0.348\n",
      "| epoch   1 |   150/  991 batches | accuracy    0.356\n",
      "| epoch   1 |   200/  991 batches | accuracy    0.364\n",
      "| epoch   1 |   250/  991 batches | accuracy    0.374\n",
      "| epoch   1 |   300/  991 batches | accuracy    0.352\n",
      "| epoch   1 |   350/  991 batches | accuracy    0.344\n",
      "| epoch   1 |   400/  991 batches | accuracy    0.325\n",
      "| epoch   1 |   450/  991 batches | accuracy    0.352\n",
      "| epoch   1 |   500/  991 batches | accuracy    0.359\n",
      "| epoch   1 |   550/  991 batches | accuracy    0.362\n",
      "| epoch   1 |   600/  991 batches | accuracy    0.344\n",
      "| epoch   1 |   650/  991 batches | accuracy    0.343\n",
      "| epoch   1 |   700/  991 batches | accuracy    0.343\n",
      "| epoch   1 |   750/  991 batches | accuracy    0.369\n",
      "| epoch   1 |   800/  991 batches | accuracy    0.361\n",
      "| epoch   1 |   850/  991 batches | accuracy    0.362\n",
      "| epoch   1 |   900/  991 batches | accuracy    0.361\n",
      "| epoch   1 |   950/  991 batches | accuracy    0.349\n"
     ]
    },
    {
     "name": "stderr",
     "output_type": "stream",
     "text": [
      "\u001B[32m[I 2023-02-08 15:00:25,533]\u001B[0m Trial 17 finished with value: 0.3487118034751348 and parameters: {'lr': 9.800958266413023, 'optimizer': 'SGD'}. Best is trial 16 with value: 0.3822648292390653.\u001B[0m\n"
     ]
    },
    {
     "name": "stdout",
     "output_type": "stream",
     "text": [
      "| epoch   1 |    50/  991 batches | accuracy    0.346\n",
      "| epoch   1 |   100/  991 batches | accuracy    0.359\n",
      "| epoch   1 |   150/  991 batches | accuracy    0.388\n",
      "| epoch   1 |   200/  991 batches | accuracy    0.368\n",
      "| epoch   1 |   250/  991 batches | accuracy    0.354\n",
      "| epoch   1 |   300/  991 batches | accuracy    0.343\n",
      "| epoch   1 |   350/  991 batches | accuracy    0.374\n",
      "| epoch   1 |   400/  991 batches | accuracy    0.351\n",
      "| epoch   1 |   450/  991 batches | accuracy    0.343\n",
      "| epoch   1 |   500/  991 batches | accuracy    0.364\n",
      "| epoch   1 |   550/  991 batches | accuracy    0.335\n",
      "| epoch   1 |   600/  991 batches | accuracy    0.347\n",
      "| epoch   1 |   650/  991 batches | accuracy    0.382\n",
      "| epoch   1 |   700/  991 batches | accuracy    0.369\n",
      "| epoch   1 |   750/  991 batches | accuracy    0.346\n",
      "| epoch   1 |   800/  991 batches | accuracy    0.347\n",
      "| epoch   1 |   850/  991 batches | accuracy    0.336\n",
      "| epoch   1 |   900/  991 batches | accuracy    0.369\n",
      "| epoch   1 |   950/  991 batches | accuracy    0.370\n"
     ]
    },
    {
     "name": "stderr",
     "output_type": "stream",
     "text": [
      "\u001B[32m[I 2023-02-08 15:00:30,218]\u001B[0m Trial 18 finished with value: 0.347513481126423 and parameters: {'lr': 9.834478626204616, 'optimizer': 'SGD'}. Best is trial 16 with value: 0.3822648292390653.\u001B[0m\n"
     ]
    },
    {
     "name": "stdout",
     "output_type": "stream",
     "text": [
      "| epoch   1 |    50/  991 batches | accuracy    0.357\n",
      "| epoch   1 |   100/  991 batches | accuracy    0.352\n",
      "| epoch   1 |   150/  991 batches | accuracy    0.390\n",
      "| epoch   1 |   200/  991 batches | accuracy    0.344\n",
      "| epoch   1 |   250/  991 batches | accuracy    0.356\n",
      "| epoch   1 |   300/  991 batches | accuracy    0.362\n",
      "| epoch   1 |   350/  991 batches | accuracy    0.351\n",
      "| epoch   1 |   400/  991 batches | accuracy    0.359\n",
      "| epoch   1 |   450/  991 batches | accuracy    0.367\n",
      "| epoch   1 |   500/  991 batches | accuracy    0.359\n",
      "| epoch   1 |   550/  991 batches | accuracy    0.351\n",
      "| epoch   1 |   600/  991 batches | accuracy    0.344\n",
      "| epoch   1 |   650/  991 batches | accuracy    0.362\n",
      "| epoch   1 |   700/  991 batches | accuracy    0.337\n",
      "| epoch   1 |   750/  991 batches | accuracy    0.366\n",
      "| epoch   1 |   800/  991 batches | accuracy    0.343\n",
      "| epoch   1 |   850/  991 batches | accuracy    0.346\n",
      "| epoch   1 |   900/  991 batches | accuracy    0.356\n",
      "| epoch   1 |   950/  991 batches | accuracy    0.371\n"
     ]
    },
    {
     "name": "stderr",
     "output_type": "stream",
     "text": [
      "\u001B[32m[I 2023-02-08 15:00:34,910]\u001B[0m Trial 19 finished with value: 0.3588975434391851 and parameters: {'lr': 9.110654058184442, 'optimizer': 'SGD'}. Best is trial 16 with value: 0.3822648292390653.\u001B[0m\n"
     ]
    },
    {
     "name": "stdout",
     "output_type": "stream",
     "text": [
      "| epoch   1 |    50/  991 batches | accuracy    0.339\n",
      "| epoch   1 |   100/  991 batches | accuracy    0.361\n",
      "| epoch   1 |   150/  991 batches | accuracy    0.364\n",
      "| epoch   1 |   200/  991 batches | accuracy    0.334\n",
      "| epoch   1 |   250/  991 batches | accuracy    0.343\n",
      "| epoch   1 |   300/  991 batches | accuracy    0.354\n",
      "| epoch   1 |   350/  991 batches | accuracy    0.352\n",
      "| epoch   1 |   400/  991 batches | accuracy    0.370\n",
      "| epoch   1 |   450/  991 batches | accuracy    0.339\n",
      "| epoch   1 |   500/  991 batches | accuracy    0.376\n",
      "| epoch   1 |   550/  991 batches | accuracy    0.356\n",
      "| epoch   1 |   600/  991 batches | accuracy    0.373\n",
      "| epoch   1 |   650/  991 batches | accuracy    0.369\n",
      "| epoch   1 |   700/  991 batches | accuracy    0.348\n",
      "| epoch   1 |   750/  991 batches | accuracy    0.362\n",
      "| epoch   1 |   800/  991 batches | accuracy    0.362\n",
      "| epoch   1 |   850/  991 batches | accuracy    0.376\n",
      "| epoch   1 |   900/  991 batches | accuracy    0.364\n",
      "| epoch   1 |   950/  991 batches | accuracy    0.357\n"
     ]
    },
    {
     "name": "stderr",
     "output_type": "stream",
     "text": [
      "\u001B[32m[I 2023-02-08 15:00:39,652]\u001B[0m Trial 20 finished with value: 0.36548831635710005 and parameters: {'lr': 9.113356669390152, 'optimizer': 'SGD'}. Best is trial 16 with value: 0.3822648292390653.\u001B[0m\n"
     ]
    },
    {
     "name": "stdout",
     "output_type": "stream",
     "text": [
      "| epoch   1 |    50/  991 batches | accuracy    0.371\n",
      "| epoch   1 |   100/  991 batches | accuracy    0.353\n",
      "| epoch   1 |   150/  991 batches | accuracy    0.349\n",
      "| epoch   1 |   200/  991 batches | accuracy    0.364\n",
      "| epoch   1 |   250/  991 batches | accuracy    0.334\n",
      "| epoch   1 |   300/  991 batches | accuracy    0.371\n",
      "| epoch   1 |   350/  991 batches | accuracy    0.351\n",
      "| epoch   1 |   400/  991 batches | accuracy    0.389\n",
      "| epoch   1 |   450/  991 batches | accuracy    0.369\n",
      "| epoch   1 |   500/  991 batches | accuracy    0.352\n",
      "| epoch   1 |   550/  991 batches | accuracy    0.355\n",
      "| epoch   1 |   600/  991 batches | accuracy    0.372\n",
      "| epoch   1 |   650/  991 batches | accuracy    0.357\n",
      "| epoch   1 |   700/  991 batches | accuracy    0.360\n",
      "| epoch   1 |   750/  991 batches | accuracy    0.339\n",
      "| epoch   1 |   800/  991 batches | accuracy    0.357\n",
      "| epoch   1 |   850/  991 batches | accuracy    0.351\n",
      "| epoch   1 |   900/  991 batches | accuracy    0.362\n",
      "| epoch   1 |   950/  991 batches | accuracy    0.355\n"
     ]
    },
    {
     "name": "stderr",
     "output_type": "stream",
     "text": [
      "\u001B[32m[I 2023-02-08 15:00:44,774]\u001B[0m Trial 21 finished with value: 0.3744757339724386 and parameters: {'lr': 9.180357314805585, 'optimizer': 'SGD'}. Best is trial 16 with value: 0.3822648292390653.\u001B[0m\n"
     ]
    },
    {
     "name": "stdout",
     "output_type": "stream",
     "text": [
      "| epoch   1 |    50/  991 batches | accuracy    0.368\n",
      "| epoch   1 |   100/  991 batches | accuracy    0.357\n",
      "| epoch   1 |   150/  991 batches | accuracy    0.329\n",
      "| epoch   1 |   200/  991 batches | accuracy    0.360\n",
      "| epoch   1 |   250/  991 batches | accuracy    0.379\n",
      "| epoch   1 |   300/  991 batches | accuracy    0.367\n",
      "| epoch   1 |   350/  991 batches | accuracy    0.352\n",
      "| epoch   1 |   400/  991 batches | accuracy    0.361\n",
      "| epoch   1 |   450/  991 batches | accuracy    0.366\n",
      "| epoch   1 |   500/  991 batches | accuracy    0.353\n",
      "| epoch   1 |   550/  991 batches | accuracy    0.334\n",
      "| epoch   1 |   600/  991 batches | accuracy    0.354\n",
      "| epoch   1 |   650/  991 batches | accuracy    0.352\n",
      "| epoch   1 |   700/  991 batches | accuracy    0.362\n",
      "| epoch   1 |   750/  991 batches | accuracy    0.351\n",
      "| epoch   1 |   800/  991 batches | accuracy    0.343\n",
      "| epoch   1 |   850/  991 batches | accuracy    0.357\n",
      "| epoch   1 |   900/  991 batches | accuracy    0.345\n",
      "| epoch   1 |   950/  991 batches | accuracy    0.356\n"
     ]
    },
    {
     "name": "stderr",
     "output_type": "stream",
     "text": [
      "\u001B[32m[I 2023-02-08 15:00:49,970]\u001B[0m Trial 22 pruned. \u001B[0m\n"
     ]
    },
    {
     "name": "stdout",
     "output_type": "stream",
     "text": [
      "| epoch   1 |    50/  991 batches | accuracy    0.361\n",
      "| epoch   1 |   100/  991 batches | accuracy    0.361\n",
      "| epoch   1 |   150/  991 batches | accuracy    0.352\n",
      "| epoch   1 |   200/  991 batches | accuracy    0.368\n",
      "| epoch   1 |   250/  991 batches | accuracy    0.346\n",
      "| epoch   1 |   300/  991 batches | accuracy    0.355\n",
      "| epoch   1 |   350/  991 batches | accuracy    0.339\n",
      "| epoch   1 |   400/  991 batches | accuracy    0.368\n",
      "| epoch   1 |   450/  991 batches | accuracy    0.359\n",
      "| epoch   1 |   500/  991 batches | accuracy    0.382\n",
      "| epoch   1 |   550/  991 batches | accuracy    0.389\n",
      "| epoch   1 |   600/  991 batches | accuracy    0.360\n",
      "| epoch   1 |   650/  991 batches | accuracy    0.341\n",
      "| epoch   1 |   700/  991 batches | accuracy    0.343\n",
      "| epoch   1 |   750/  991 batches | accuracy    0.357\n",
      "| epoch   1 |   800/  991 batches | accuracy    0.350\n",
      "| epoch   1 |   850/  991 batches | accuracy    0.345\n",
      "| epoch   1 |   900/  991 batches | accuracy    0.334\n",
      "| epoch   1 |   950/  991 batches | accuracy    0.340\n"
     ]
    },
    {
     "name": "stderr",
     "output_type": "stream",
     "text": [
      "\u001B[32m[I 2023-02-08 15:00:55,332]\u001B[0m Trial 23 finished with value: 0.3864589574595566 and parameters: {'lr': 9.885735747149543, 'optimizer': 'SGD'}. Best is trial 23 with value: 0.3864589574595566.\u001B[0m\n"
     ]
    },
    {
     "name": "stdout",
     "output_type": "stream",
     "text": [
      "| epoch   1 |    50/  991 batches | accuracy    0.368\n",
      "| epoch   1 |   100/  991 batches | accuracy    0.372\n",
      "| epoch   1 |   150/  991 batches | accuracy    0.355\n",
      "| epoch   1 |   200/  991 batches | accuracy    0.343\n",
      "| epoch   1 |   250/  991 batches | accuracy    0.374\n",
      "| epoch   1 |   300/  991 batches | accuracy    0.350\n",
      "| epoch   1 |   350/  991 batches | accuracy    0.364\n",
      "| epoch   1 |   400/  991 batches | accuracy    0.378\n",
      "| epoch   1 |   450/  991 batches | accuracy    0.347\n",
      "| epoch   1 |   500/  991 batches | accuracy    0.357\n",
      "| epoch   1 |   550/  991 batches | accuracy    0.363\n",
      "| epoch   1 |   600/  991 batches | accuracy    0.368\n",
      "| epoch   1 |   650/  991 batches | accuracy    0.335\n",
      "| epoch   1 |   700/  991 batches | accuracy    0.344\n",
      "| epoch   1 |   750/  991 batches | accuracy    0.380\n",
      "| epoch   1 |   800/  991 batches | accuracy    0.362\n",
      "| epoch   1 |   850/  991 batches | accuracy    0.353\n",
      "| epoch   1 |   900/  991 batches | accuracy    0.366\n",
      "| epoch   1 |   950/  991 batches | accuracy    0.353\n"
     ]
    },
    {
     "name": "stderr",
     "output_type": "stream",
     "text": [
      "\u001B[32m[I 2023-02-08 15:01:00,419]\u001B[0m Trial 24 finished with value: 0.36309167165967643 and parameters: {'lr': 9.629276407508804, 'optimizer': 'SGD'}. Best is trial 23 with value: 0.3864589574595566.\u001B[0m\n"
     ]
    },
    {
     "name": "stdout",
     "output_type": "stream",
     "text": [
      "| epoch   1 |    50/  991 batches | accuracy    0.346\n",
      "| epoch   1 |   100/  991 batches | accuracy    0.359\n",
      "| epoch   1 |   150/  991 batches | accuracy    0.343\n",
      "| epoch   1 |   200/  991 batches | accuracy    0.323\n",
      "| epoch   1 |   250/  991 batches | accuracy    0.355\n",
      "| epoch   1 |   300/  991 batches | accuracy    0.337\n",
      "| epoch   1 |   350/  991 batches | accuracy    0.358\n",
      "| epoch   1 |   400/  991 batches | accuracy    0.379\n",
      "| epoch   1 |   450/  991 batches | accuracy    0.365\n",
      "| epoch   1 |   500/  991 batches | accuracy    0.374\n",
      "| epoch   1 |   550/  991 batches | accuracy    0.362\n",
      "| epoch   1 |   600/  991 batches | accuracy    0.351\n",
      "| epoch   1 |   650/  991 batches | accuracy    0.352\n",
      "| epoch   1 |   700/  991 batches | accuracy    0.332\n",
      "| epoch   1 |   750/  991 batches | accuracy    0.359\n",
      "| epoch   1 |   800/  991 batches | accuracy    0.366\n",
      "| epoch   1 |   850/  991 batches | accuracy    0.355\n",
      "| epoch   1 |   900/  991 batches | accuracy    0.364\n"
     ]
    },
    {
     "name": "stderr",
     "output_type": "stream",
     "text": [
      "\u001B[32m[I 2023-02-08 15:01:05,514]\u001B[0m Trial 25 pruned. \u001B[0m\n"
     ]
    },
    {
     "name": "stdout",
     "output_type": "stream",
     "text": [
      "| epoch   1 |   950/  991 batches | accuracy    0.351\n",
      "| epoch   1 |    50/  991 batches | accuracy    0.335\n",
      "| epoch   1 |   100/  991 batches | accuracy    0.369\n",
      "| epoch   1 |   150/  991 batches | accuracy    0.341\n",
      "| epoch   1 |   200/  991 batches | accuracy    0.359\n",
      "| epoch   1 |   250/  991 batches | accuracy    0.349\n",
      "| epoch   1 |   300/  991 batches | accuracy    0.345\n",
      "| epoch   1 |   350/  991 batches | accuracy    0.374\n",
      "| epoch   1 |   400/  991 batches | accuracy    0.353\n",
      "| epoch   1 |   450/  991 batches | accuracy    0.365\n",
      "| epoch   1 |   500/  991 batches | accuracy    0.373\n",
      "| epoch   1 |   550/  991 batches | accuracy    0.383\n",
      "| epoch   1 |   600/  991 batches | accuracy    0.348\n",
      "| epoch   1 |   650/  991 batches | accuracy    0.367\n",
      "| epoch   1 |   700/  991 batches | accuracy    0.346\n",
      "| epoch   1 |   750/  991 batches | accuracy    0.370\n",
      "| epoch   1 |   800/  991 batches | accuracy    0.365\n",
      "| epoch   1 |   850/  991 batches | accuracy    0.379\n",
      "| epoch   1 |   900/  991 batches | accuracy    0.352\n",
      "| epoch   1 |   950/  991 batches | accuracy    0.369\n"
     ]
    },
    {
     "name": "stderr",
     "output_type": "stream",
     "text": [
      "\u001B[32m[I 2023-02-08 15:01:10,209]\u001B[0m Trial 26 finished with value: 0.35769922109047336 and parameters: {'lr': 8.572145928415104, 'optimizer': 'SGD'}. Best is trial 23 with value: 0.3864589574595566.\u001B[0m\n"
     ]
    },
    {
     "name": "stdout",
     "output_type": "stream",
     "text": [
      "| epoch   1 |    50/  991 batches | accuracy    0.344\n",
      "| epoch   1 |   100/  991 batches | accuracy    0.355\n",
      "| epoch   1 |   150/  991 batches | accuracy    0.345\n",
      "| epoch   1 |   200/  991 batches | accuracy    0.323\n",
      "| epoch   1 |   250/  991 batches | accuracy    0.370\n",
      "| epoch   1 |   300/  991 batches | accuracy    0.368\n",
      "| epoch   1 |   350/  991 batches | accuracy    0.374\n",
      "| epoch   1 |   400/  991 batches | accuracy    0.343\n",
      "| epoch   1 |   450/  991 batches | accuracy    0.378\n",
      "| epoch   1 |   500/  991 batches | accuracy    0.324\n",
      "| epoch   1 |   550/  991 batches | accuracy    0.347\n",
      "| epoch   1 |   600/  991 batches | accuracy    0.354\n",
      "| epoch   1 |   650/  991 batches | accuracy    0.362\n",
      "| epoch   1 |   700/  991 batches | accuracy    0.362\n",
      "| epoch   1 |   750/  991 batches | accuracy    0.368\n",
      "| epoch   1 |   800/  991 batches | accuracy    0.321\n",
      "| epoch   1 |   850/  991 batches | accuracy    0.352\n",
      "| epoch   1 |   900/  991 batches | accuracy    0.348\n",
      "| epoch   1 |   950/  991 batches | accuracy    0.338\n"
     ]
    },
    {
     "name": "stderr",
     "output_type": "stream",
     "text": [
      "\u001B[32m[I 2023-02-08 15:01:14,784]\u001B[0m Trial 27 finished with value: 0.36548831635710005 and parameters: {'lr': 9.319614358680177, 'optimizer': 'SGD'}. Best is trial 23 with value: 0.3864589574595566.\u001B[0m\n"
     ]
    },
    {
     "name": "stdout",
     "output_type": "stream",
     "text": [
      "| epoch   1 |    50/  991 batches | accuracy    0.347\n",
      "| epoch   1 |   100/  991 batches | accuracy    0.376\n",
      "| epoch   1 |   150/  991 batches | accuracy    0.353\n",
      "| epoch   1 |   200/  991 batches | accuracy    0.349\n",
      "| epoch   1 |   250/  991 batches | accuracy    0.364\n",
      "| epoch   1 |   300/  991 batches | accuracy    0.367\n",
      "| epoch   1 |   350/  991 batches | accuracy    0.348\n",
      "| epoch   1 |   400/  991 batches | accuracy    0.353\n",
      "| epoch   1 |   450/  991 batches | accuracy    0.354\n",
      "| epoch   1 |   500/  991 batches | accuracy    0.339\n",
      "| epoch   1 |   550/  991 batches | accuracy    0.349\n",
      "| epoch   1 |   600/  991 batches | accuracy    0.359\n",
      "| epoch   1 |   650/  991 batches | accuracy    0.371\n",
      "| epoch   1 |   700/  991 batches | accuracy    0.351\n",
      "| epoch   1 |   750/  991 batches | accuracy    0.357\n",
      "| epoch   1 |   800/  991 batches | accuracy    0.388\n",
      "| epoch   1 |   850/  991 batches | accuracy    0.387\n",
      "| epoch   1 |   900/  991 batches | accuracy    0.330\n"
     ]
    },
    {
     "name": "stderr",
     "output_type": "stream",
     "text": [
      "\u001B[32m[I 2023-02-08 15:01:19,439]\u001B[0m Trial 28 finished with value: 0.3894547633313361 and parameters: {'lr': 8.752628562490306, 'optimizer': 'SGD'}. Best is trial 28 with value: 0.3894547633313361.\u001B[0m\n"
     ]
    },
    {
     "name": "stdout",
     "output_type": "stream",
     "text": [
      "| epoch   1 |   950/  991 batches | accuracy    0.356\n",
      "| epoch   1 |    50/  991 batches | accuracy    0.350\n",
      "| epoch   1 |   100/  991 batches | accuracy    0.361\n",
      "| epoch   1 |   150/  991 batches | accuracy    0.351\n",
      "| epoch   1 |   200/  991 batches | accuracy    0.335\n",
      "| epoch   1 |   250/  991 batches | accuracy    0.365\n",
      "| epoch   1 |   300/  991 batches | accuracy    0.346\n",
      "| epoch   1 |   350/  991 batches | accuracy    0.362\n",
      "| epoch   1 |   400/  991 batches | accuracy    0.371\n",
      "| epoch   1 |   450/  991 batches | accuracy    0.354\n",
      "| epoch   1 |   500/  991 batches | accuracy    0.333\n",
      "| epoch   1 |   550/  991 batches | accuracy    0.372\n",
      "| epoch   1 |   600/  991 batches | accuracy    0.361\n",
      "| epoch   1 |   650/  991 batches | accuracy    0.367\n",
      "| epoch   1 |   700/  991 batches | accuracy    0.363\n",
      "| epoch   1 |   750/  991 batches | accuracy    0.359\n",
      "| epoch   1 |   800/  991 batches | accuracy    0.344\n",
      "| epoch   1 |   850/  991 batches | accuracy    0.360\n",
      "| epoch   1 |   900/  991 batches | accuracy    0.365\n",
      "| epoch   1 |   950/  991 batches | accuracy    0.375\n"
     ]
    },
    {
     "name": "stderr",
     "output_type": "stream",
     "text": [
      "\u001B[32m[I 2023-02-08 15:01:24,076]\u001B[0m Trial 29 pruned. \u001B[0m\n"
     ]
    },
    {
     "name": "stdout",
     "output_type": "stream",
     "text": [
      "| epoch   1 |    50/  991 batches | accuracy    0.371\n",
      "| epoch   1 |   100/  991 batches | accuracy    0.359\n",
      "| epoch   1 |   150/  991 batches | accuracy    0.357\n",
      "| epoch   1 |   200/  991 batches | accuracy    0.352\n",
      "| epoch   1 |   250/  991 batches | accuracy    0.367\n",
      "| epoch   1 |   300/  991 batches | accuracy    0.338\n",
      "| epoch   1 |   350/  991 batches | accuracy    0.333\n",
      "| epoch   1 |   400/  991 batches | accuracy    0.351\n",
      "| epoch   1 |   450/  991 batches | accuracy    0.369\n",
      "| epoch   1 |   500/  991 batches | accuracy    0.338\n",
      "| epoch   1 |   550/  991 batches | accuracy    0.343\n",
      "| epoch   1 |   600/  991 batches | accuracy    0.344\n",
      "| epoch   1 |   650/  991 batches | accuracy    0.371\n",
      "| epoch   1 |   700/  991 batches | accuracy    0.371\n",
      "| epoch   1 |   750/  991 batches | accuracy    0.354\n",
      "| epoch   1 |   800/  991 batches | accuracy    0.347\n",
      "| epoch   1 |   850/  991 batches | accuracy    0.359\n",
      "| epoch   1 |   900/  991 batches | accuracy    0.370\n"
     ]
    },
    {
     "name": "stderr",
     "output_type": "stream",
     "text": [
      "\u001B[32m[I 2023-02-08 15:01:28,733]\u001B[0m Trial 30 finished with value: 0.3936488915518274 and parameters: {'lr': 9.995899495801638, 'optimizer': 'SGD'}. Best is trial 30 with value: 0.3936488915518274.\u001B[0m\n"
     ]
    },
    {
     "name": "stdout",
     "output_type": "stream",
     "text": [
      "| epoch   1 |   950/  991 batches | accuracy    0.341\n",
      "| epoch   1 |    50/  991 batches | accuracy    0.346\n",
      "| epoch   1 |   100/  991 batches | accuracy    0.362\n",
      "| epoch   1 |   150/  991 batches | accuracy    0.369\n",
      "| epoch   1 |   200/  991 batches | accuracy    0.355\n",
      "| epoch   1 |   250/  991 batches | accuracy    0.337\n",
      "| epoch   1 |   300/  991 batches | accuracy    0.349\n",
      "| epoch   1 |   350/  991 batches | accuracy    0.338\n",
      "| epoch   1 |   400/  991 batches | accuracy    0.376\n",
      "| epoch   1 |   450/  991 batches | accuracy    0.347\n",
      "| epoch   1 |   500/  991 batches | accuracy    0.357\n",
      "| epoch   1 |   550/  991 batches | accuracy    0.332\n",
      "| epoch   1 |   600/  991 batches | accuracy    0.367\n",
      "| epoch   1 |   650/  991 batches | accuracy    0.359\n",
      "| epoch   1 |   700/  991 batches | accuracy    0.354\n",
      "| epoch   1 |   750/  991 batches | accuracy    0.361\n",
      "| epoch   1 |   800/  991 batches | accuracy    0.375\n",
      "| epoch   1 |   850/  991 batches | accuracy    0.388\n",
      "| epoch   1 |   900/  991 batches | accuracy    0.340\n"
     ]
    },
    {
     "name": "stderr",
     "output_type": "stream",
     "text": [
      "\u001B[32m[I 2023-02-08 15:01:33,370]\u001B[0m Trial 31 pruned. \u001B[0m\n"
     ]
    },
    {
     "name": "stdout",
     "output_type": "stream",
     "text": [
      "| epoch   1 |   950/  991 batches | accuracy    0.338\n",
      "| epoch   1 |    50/  991 batches | accuracy    0.355\n",
      "| epoch   1 |   100/  991 batches | accuracy    0.355\n",
      "| epoch   1 |   150/  991 batches | accuracy    0.344\n",
      "| epoch   1 |   200/  991 batches | accuracy    0.366\n",
      "| epoch   1 |   250/  991 batches | accuracy    0.361\n",
      "| epoch   1 |   300/  991 batches | accuracy    0.356\n",
      "| epoch   1 |   350/  991 batches | accuracy    0.380\n",
      "| epoch   1 |   400/  991 batches | accuracy    0.349\n",
      "| epoch   1 |   450/  991 batches | accuracy    0.347\n",
      "| epoch   1 |   500/  991 batches | accuracy    0.359\n",
      "| epoch   1 |   550/  991 batches | accuracy    0.372\n",
      "| epoch   1 |   600/  991 batches | accuracy    0.357\n",
      "| epoch   1 |   650/  991 batches | accuracy    0.358\n",
      "| epoch   1 |   700/  991 batches | accuracy    0.364\n",
      "| epoch   1 |   750/  991 batches | accuracy    0.364\n",
      "| epoch   1 |   800/  991 batches | accuracy    0.366\n",
      "| epoch   1 |   850/  991 batches | accuracy    0.343\n",
      "| epoch   1 |   900/  991 batches | accuracy    0.362\n"
     ]
    },
    {
     "name": "stderr",
     "output_type": "stream",
     "text": [
      "\u001B[32m[I 2023-02-08 15:01:38,064]\u001B[0m Trial 32 pruned. \u001B[0m\n"
     ]
    },
    {
     "name": "stdout",
     "output_type": "stream",
     "text": [
      "| epoch   1 |   950/  991 batches | accuracy    0.369\n",
      "| epoch   1 |    50/  991 batches | accuracy    0.311\n",
      "| epoch   1 |   100/  991 batches | accuracy    0.290\n",
      "| epoch   1 |   150/  991 batches | accuracy    0.306\n",
      "| epoch   1 |   200/  991 batches | accuracy    0.321\n",
      "| epoch   1 |   250/  991 batches | accuracy    0.292\n",
      "| epoch   1 |   300/  991 batches | accuracy    0.324\n",
      "| epoch   1 |   350/  991 batches | accuracy    0.305\n",
      "| epoch   1 |   400/  991 batches | accuracy    0.306\n",
      "| epoch   1 |   450/  991 batches | accuracy    0.309\n",
      "| epoch   1 |   500/  991 batches | accuracy    0.319\n",
      "| epoch   1 |   550/  991 batches | accuracy    0.299\n",
      "| epoch   1 |   600/  991 batches | accuracy    0.322\n",
      "| epoch   1 |   650/  991 batches | accuracy    0.336\n",
      "| epoch   1 |   700/  991 batches | accuracy    0.328\n",
      "| epoch   1 |   750/  991 batches | accuracy    0.338\n",
      "| epoch   1 |   800/  991 batches | accuracy    0.301\n",
      "| epoch   1 |   850/  991 batches | accuracy    0.318\n",
      "| epoch   1 |   900/  991 batches | accuracy    0.307\n",
      "| epoch   1 |   950/  991 batches | accuracy    0.314\n"
     ]
    },
    {
     "name": "stderr",
     "output_type": "stream",
     "text": [
      "\u001B[32m[I 2023-02-08 15:01:43,409]\u001B[0m Trial 33 pruned. \u001B[0m\n"
     ]
    },
    {
     "name": "stdout",
     "output_type": "stream",
     "text": [
      "| epoch   1 |    50/  991 batches | accuracy    0.344\n",
      "| epoch   1 |   100/  991 batches | accuracy    0.346\n",
      "| epoch   1 |   150/  991 batches | accuracy    0.338\n",
      "| epoch   1 |   200/  991 batches | accuracy    0.361\n",
      "| epoch   1 |   250/  991 batches | accuracy    0.331\n",
      "| epoch   1 |   300/  991 batches | accuracy    0.359\n",
      "| epoch   1 |   350/  991 batches | accuracy    0.336\n",
      "| epoch   1 |   400/  991 batches | accuracy    0.348\n",
      "| epoch   1 |   450/  991 batches | accuracy    0.359\n",
      "| epoch   1 |   500/  991 batches | accuracy    0.333\n",
      "| epoch   1 |   550/  991 batches | accuracy    0.361\n",
      "| epoch   1 |   600/  991 batches | accuracy    0.375\n",
      "| epoch   1 |   650/  991 batches | accuracy    0.334\n",
      "| epoch   1 |   700/  991 batches | accuracy    0.357\n",
      "| epoch   1 |   750/  991 batches | accuracy    0.375\n",
      "| epoch   1 |   800/  991 batches | accuracy    0.378\n",
      "| epoch   1 |   850/  991 batches | accuracy    0.365\n",
      "| epoch   1 |   900/  991 batches | accuracy    0.367\n"
     ]
    },
    {
     "name": "stderr",
     "output_type": "stream",
     "text": [
      "\u001B[32m[I 2023-02-08 15:01:47,580]\u001B[0m Trial 34 pruned. \u001B[0m\n"
     ]
    },
    {
     "name": "stdout",
     "output_type": "stream",
     "text": [
      "| epoch   1 |   950/  991 batches | accuracy    0.343\n",
      "| epoch   1 |    50/  991 batches | accuracy    0.350\n",
      "| epoch   1 |   100/  991 batches | accuracy    0.354\n",
      "| epoch   1 |   150/  991 batches | accuracy    0.357\n",
      "| epoch   1 |   200/  991 batches | accuracy    0.366\n",
      "| epoch   1 |   250/  991 batches | accuracy    0.333\n",
      "| epoch   1 |   300/  991 batches | accuracy    0.361\n",
      "| epoch   1 |   350/  991 batches | accuracy    0.371\n",
      "| epoch   1 |   400/  991 batches | accuracy    0.361\n",
      "| epoch   1 |   450/  991 batches | accuracy    0.366\n",
      "| epoch   1 |   500/  991 batches | accuracy    0.373\n",
      "| epoch   1 |   550/  991 batches | accuracy    0.361\n",
      "| epoch   1 |   600/  991 batches | accuracy    0.362\n",
      "| epoch   1 |   650/  991 batches | accuracy    0.348\n",
      "| epoch   1 |   700/  991 batches | accuracy    0.356\n",
      "| epoch   1 |   750/  991 batches | accuracy    0.371\n",
      "| epoch   1 |   800/  991 batches | accuracy    0.346\n",
      "| epoch   1 |   850/  991 batches | accuracy    0.357\n",
      "| epoch   1 |   900/  991 batches | accuracy    0.344\n",
      "| epoch   1 |   950/  991 batches | accuracy    0.369\n"
     ]
    },
    {
     "name": "stderr",
     "output_type": "stream",
     "text": [
      "\u001B[32m[I 2023-02-08 15:01:52,137]\u001B[0m Trial 35 finished with value: 0.36668663870581186 and parameters: {'lr': 9.391822873018162, 'optimizer': 'SGD'}. Best is trial 30 with value: 0.3936488915518274.\u001B[0m\n"
     ]
    },
    {
     "name": "stdout",
     "output_type": "stream",
     "text": [
      "| epoch   1 |    50/  991 batches | accuracy    0.300\n",
      "| epoch   1 |   100/  991 batches | accuracy    0.289\n",
      "| epoch   1 |   150/  991 batches | accuracy    0.318\n",
      "| epoch   1 |   200/  991 batches | accuracy    0.278\n",
      "| epoch   1 |   250/  991 batches | accuracy    0.290\n",
      "| epoch   1 |   300/  991 batches | accuracy    0.318\n",
      "| epoch   1 |   350/  991 batches | accuracy    0.305\n",
      "| epoch   1 |   400/  991 batches | accuracy    0.306\n",
      "| epoch   1 |   450/  991 batches | accuracy    0.318\n",
      "| epoch   1 |   500/  991 batches | accuracy    0.298\n",
      "| epoch   1 |   550/  991 batches | accuracy    0.314\n",
      "| epoch   1 |   600/  991 batches | accuracy    0.292\n",
      "| epoch   1 |   650/  991 batches | accuracy    0.312\n",
      "| epoch   1 |   700/  991 batches | accuracy    0.299\n",
      "| epoch   1 |   750/  991 batches | accuracy    0.321\n",
      "| epoch   1 |   800/  991 batches | accuracy    0.316\n",
      "| epoch   1 |   850/  991 batches | accuracy    0.329\n",
      "| epoch   1 |   900/  991 batches | accuracy    0.328\n",
      "| epoch   1 |   950/  991 batches | accuracy    0.323\n"
     ]
    },
    {
     "name": "stderr",
     "output_type": "stream",
     "text": [
      "\u001B[32m[I 2023-02-08 15:01:57,545]\u001B[0m Trial 36 pruned. \u001B[0m\n"
     ]
    },
    {
     "name": "stdout",
     "output_type": "stream",
     "text": [
      "| epoch   1 |    50/  991 batches | accuracy    0.346\n",
      "| epoch   1 |   100/  991 batches | accuracy    0.367\n",
      "| epoch   1 |   150/  991 batches | accuracy    0.354\n",
      "| epoch   1 |   200/  991 batches | accuracy    0.354\n",
      "| epoch   1 |   250/  991 batches | accuracy    0.351\n",
      "| epoch   1 |   300/  991 batches | accuracy    0.356\n",
      "| epoch   1 |   350/  991 batches | accuracy    0.353\n",
      "| epoch   1 |   400/  991 batches | accuracy    0.340\n",
      "| epoch   1 |   450/  991 batches | accuracy    0.356\n",
      "| epoch   1 |   500/  991 batches | accuracy    0.328\n",
      "| epoch   1 |   550/  991 batches | accuracy    0.363\n",
      "| epoch   1 |   600/  991 batches | accuracy    0.344\n",
      "| epoch   1 |   650/  991 batches | accuracy    0.352\n",
      "| epoch   1 |   700/  991 batches | accuracy    0.354\n",
      "| epoch   1 |   750/  991 batches | accuracy    0.347\n",
      "| epoch   1 |   800/  991 batches | accuracy    0.381\n",
      "| epoch   1 |   850/  991 batches | accuracy    0.347\n",
      "| epoch   1 |   900/  991 batches | accuracy    0.338\n"
     ]
    },
    {
     "name": "stderr",
     "output_type": "stream",
     "text": [
      "\u001B[32m[I 2023-02-08 15:02:01,752]\u001B[0m Trial 37 pruned. \u001B[0m\n"
     ]
    },
    {
     "name": "stdout",
     "output_type": "stream",
     "text": [
      "| epoch   1 |   950/  991 batches | accuracy    0.345\n",
      "| epoch   1 |    50/  991 batches | accuracy    0.349\n",
      "| epoch   1 |   100/  991 batches | accuracy    0.343\n",
      "| epoch   1 |   150/  991 batches | accuracy    0.365\n",
      "| epoch   1 |   200/  991 batches | accuracy    0.347\n",
      "| epoch   1 |   250/  991 batches | accuracy    0.336\n",
      "| epoch   1 |   300/  991 batches | accuracy    0.340\n",
      "| epoch   1 |   350/  991 batches | accuracy    0.343\n",
      "| epoch   1 |   400/  991 batches | accuracy    0.374\n",
      "| epoch   1 |   450/  991 batches | accuracy    0.342\n",
      "| epoch   1 |   500/  991 batches | accuracy    0.355\n",
      "| epoch   1 |   550/  991 batches | accuracy    0.374\n",
      "| epoch   1 |   600/  991 batches | accuracy    0.346\n",
      "| epoch   1 |   650/  991 batches | accuracy    0.367\n",
      "| epoch   1 |   700/  991 batches | accuracy    0.353\n",
      "| epoch   1 |   750/  991 batches | accuracy    0.370\n",
      "| epoch   1 |   800/  991 batches | accuracy    0.357\n",
      "| epoch   1 |   850/  991 batches | accuracy    0.341\n",
      "| epoch   1 |   900/  991 batches | accuracy    0.345\n",
      "| epoch   1 |   950/  991 batches | accuracy    0.346\n"
     ]
    },
    {
     "name": "stderr",
     "output_type": "stream",
     "text": [
      "\u001B[32m[I 2023-02-08 15:02:06,347]\u001B[0m Trial 38 finished with value: 0.38406231276213304 and parameters: {'lr': 9.966196398959847, 'optimizer': 'SGD'}. Best is trial 30 with value: 0.3936488915518274.\u001B[0m\n"
     ]
    },
    {
     "name": "stdout",
     "output_type": "stream",
     "text": [
      "| epoch   1 |    50/  991 batches | accuracy    0.300\n",
      "| epoch   1 |   100/  991 batches | accuracy    0.291\n",
      "| epoch   1 |   150/  991 batches | accuracy    0.310\n",
      "| epoch   1 |   200/  991 batches | accuracy    0.291\n",
      "| epoch   1 |   250/  991 batches | accuracy    0.287\n",
      "| epoch   1 |   300/  991 batches | accuracy    0.323\n",
      "| epoch   1 |   350/  991 batches | accuracy    0.314\n",
      "| epoch   1 |   400/  991 batches | accuracy    0.315\n",
      "| epoch   1 |   450/  991 batches | accuracy    0.301\n",
      "| epoch   1 |   500/  991 batches | accuracy    0.300\n",
      "| epoch   1 |   550/  991 batches | accuracy    0.329\n",
      "| epoch   1 |   600/  991 batches | accuracy    0.298\n",
      "| epoch   1 |   650/  991 batches | accuracy    0.316\n",
      "| epoch   1 |   700/  991 batches | accuracy    0.312\n",
      "| epoch   1 |   750/  991 batches | accuracy    0.325\n",
      "| epoch   1 |   800/  991 batches | accuracy    0.329\n",
      "| epoch   1 |   850/  991 batches | accuracy    0.330\n",
      "| epoch   1 |   900/  991 batches | accuracy    0.284\n",
      "| epoch   1 |   950/  991 batches | accuracy    0.317\n"
     ]
    },
    {
     "name": "stderr",
     "output_type": "stream",
     "text": [
      "\u001B[32m[I 2023-02-08 15:02:11,721]\u001B[0m Trial 39 pruned. \u001B[0m\n"
     ]
    },
    {
     "name": "stdout",
     "output_type": "stream",
     "text": [
      "| epoch   1 |    50/  991 batches | accuracy    0.295\n",
      "| epoch   1 |   100/  991 batches | accuracy    0.302\n",
      "| epoch   1 |   150/  991 batches | accuracy    0.313\n",
      "| epoch   1 |   200/  991 batches | accuracy    0.308\n",
      "| epoch   1 |   250/  991 batches | accuracy    0.319\n",
      "| epoch   1 |   300/  991 batches | accuracy    0.283\n",
      "| epoch   1 |   350/  991 batches | accuracy    0.296\n",
      "| epoch   1 |   400/  991 batches | accuracy    0.314\n",
      "| epoch   1 |   450/  991 batches | accuracy    0.312\n",
      "| epoch   1 |   500/  991 batches | accuracy    0.332\n",
      "| epoch   1 |   550/  991 batches | accuracy    0.318\n",
      "| epoch   1 |   600/  991 batches | accuracy    0.306\n",
      "| epoch   1 |   650/  991 batches | accuracy    0.294\n",
      "| epoch   1 |   700/  991 batches | accuracy    0.316\n",
      "| epoch   1 |   750/  991 batches | accuracy    0.301\n",
      "| epoch   1 |   800/  991 batches | accuracy    0.314\n",
      "| epoch   1 |   850/  991 batches | accuracy    0.303\n",
      "| epoch   1 |   900/  991 batches | accuracy    0.324\n"
     ]
    },
    {
     "name": "stderr",
     "output_type": "stream",
     "text": [
      "\u001B[32m[I 2023-02-08 15:02:16,456]\u001B[0m Trial 40 pruned. \u001B[0m\n"
     ]
    },
    {
     "name": "stdout",
     "output_type": "stream",
     "text": [
      "| epoch   1 |   950/  991 batches | accuracy    0.314\n",
      "| epoch   1 |    50/  991 batches | accuracy    0.357\n",
      "| epoch   1 |   100/  991 batches | accuracy    0.337\n",
      "| epoch   1 |   150/  991 batches | accuracy    0.344\n",
      "| epoch   1 |   200/  991 batches | accuracy    0.356\n",
      "| epoch   1 |   250/  991 batches | accuracy    0.324\n",
      "| epoch   1 |   300/  991 batches | accuracy    0.343\n",
      "| epoch   1 |   350/  991 batches | accuracy    0.338\n",
      "| epoch   1 |   400/  991 batches | accuracy    0.381\n",
      "| epoch   1 |   450/  991 batches | accuracy    0.346\n",
      "| epoch   1 |   500/  991 batches | accuracy    0.361\n",
      "| epoch   1 |   550/  991 batches | accuracy    0.359\n",
      "| epoch   1 |   600/  991 batches | accuracy    0.354\n",
      "| epoch   1 |   650/  991 batches | accuracy    0.352\n",
      "| epoch   1 |   700/  991 batches | accuracy    0.331\n",
      "| epoch   1 |   750/  991 batches | accuracy    0.359\n",
      "| epoch   1 |   800/  991 batches | accuracy    0.343\n",
      "| epoch   1 |   850/  991 batches | accuracy    0.383\n",
      "| epoch   1 |   900/  991 batches | accuracy    0.338\n"
     ]
    },
    {
     "name": "stderr",
     "output_type": "stream",
     "text": [
      "\u001B[32m[I 2023-02-08 15:02:20,603]\u001B[0m Trial 41 finished with value: 0.3732774116237268 and parameters: {'lr': 9.960117880804523, 'optimizer': 'SGD'}. Best is trial 30 with value: 0.3936488915518274.\u001B[0m\n"
     ]
    },
    {
     "name": "stdout",
     "output_type": "stream",
     "text": [
      "| epoch   1 |   950/  991 batches | accuracy    0.341\n",
      "| epoch   1 |    50/  991 batches | accuracy    0.375\n",
      "| epoch   1 |   100/  991 batches | accuracy    0.349\n",
      "| epoch   1 |   150/  991 batches | accuracy    0.378\n",
      "| epoch   1 |   200/  991 batches | accuracy    0.364\n",
      "| epoch   1 |   250/  991 batches | accuracy    0.357\n",
      "| epoch   1 |   300/  991 batches | accuracy    0.346\n",
      "| epoch   1 |   350/  991 batches | accuracy    0.383\n",
      "| epoch   1 |   400/  991 batches | accuracy    0.349\n",
      "| epoch   1 |   450/  991 batches | accuracy    0.367\n",
      "| epoch   1 |   500/  991 batches | accuracy    0.360\n",
      "| epoch   1 |   550/  991 batches | accuracy    0.346\n",
      "| epoch   1 |   600/  991 batches | accuracy    0.339\n",
      "| epoch   1 |   650/  991 batches | accuracy    0.354\n",
      "| epoch   1 |   700/  991 batches | accuracy    0.350\n",
      "| epoch   1 |   750/  991 batches | accuracy    0.356\n",
      "| epoch   1 |   800/  991 batches | accuracy    0.349\n",
      "| epoch   1 |   850/  991 batches | accuracy    0.346\n",
      "| epoch   1 |   900/  991 batches | accuracy    0.353\n"
     ]
    },
    {
     "name": "stderr",
     "output_type": "stream",
     "text": [
      "\u001B[32m[I 2023-02-08 15:02:25,156]\u001B[0m Trial 42 pruned. \u001B[0m\n"
     ]
    },
    {
     "name": "stdout",
     "output_type": "stream",
     "text": [
      "| epoch   1 |   950/  991 batches | accuracy    0.378\n",
      "| epoch   1 |    50/  991 batches | accuracy    0.347\n",
      "| epoch   1 |   100/  991 batches | accuracy    0.359\n",
      "| epoch   1 |   150/  991 batches | accuracy    0.341\n",
      "| epoch   1 |   200/  991 batches | accuracy    0.376\n",
      "| epoch   1 |   250/  991 batches | accuracy    0.346\n",
      "| epoch   1 |   300/  991 batches | accuracy    0.341\n",
      "| epoch   1 |   350/  991 batches | accuracy    0.347\n",
      "| epoch   1 |   400/  991 batches | accuracy    0.338\n",
      "| epoch   1 |   450/  991 batches | accuracy    0.361\n",
      "| epoch   1 |   500/  991 batches | accuracy    0.364\n",
      "| epoch   1 |   550/  991 batches | accuracy    0.341\n",
      "| epoch   1 |   600/  991 batches | accuracy    0.366\n",
      "| epoch   1 |   650/  991 batches | accuracy    0.354\n",
      "| epoch   1 |   700/  991 batches | accuracy    0.358\n",
      "| epoch   1 |   750/  991 batches | accuracy    0.349\n",
      "| epoch   1 |   800/  991 batches | accuracy    0.371\n",
      "| epoch   1 |   850/  991 batches | accuracy    0.368\n",
      "| epoch   1 |   900/  991 batches | accuracy    0.349\n",
      "| epoch   1 |   950/  991 batches | accuracy    0.358\n"
     ]
    },
    {
     "name": "stderr",
     "output_type": "stream",
     "text": [
      "\u001B[32m[I 2023-02-08 15:02:29,825]\u001B[0m Trial 43 finished with value: 0.366087477531456 and parameters: {'lr': 9.48248514419771, 'optimizer': 'SGD'}. Best is trial 30 with value: 0.3936488915518274.\u001B[0m\n"
     ]
    },
    {
     "name": "stdout",
     "output_type": "stream",
     "text": [
      "| epoch   1 |    50/  991 batches | accuracy    0.373\n",
      "| epoch   1 |   100/  991 batches | accuracy    0.356\n",
      "| epoch   1 |   150/  991 batches | accuracy    0.349\n",
      "| epoch   1 |   200/  991 batches | accuracy    0.353\n",
      "| epoch   1 |   250/  991 batches | accuracy    0.366\n",
      "| epoch   1 |   300/  991 batches | accuracy    0.379\n",
      "| epoch   1 |   350/  991 batches | accuracy    0.351\n",
      "| epoch   1 |   400/  991 batches | accuracy    0.368\n",
      "| epoch   1 |   450/  991 batches | accuracy    0.355\n",
      "| epoch   1 |   500/  991 batches | accuracy    0.370\n",
      "| epoch   1 |   550/  991 batches | accuracy    0.344\n",
      "| epoch   1 |   600/  991 batches | accuracy    0.382\n",
      "| epoch   1 |   650/  991 batches | accuracy    0.344\n",
      "| epoch   1 |   700/  991 batches | accuracy    0.341\n",
      "| epoch   1 |   750/  991 batches | accuracy    0.355\n",
      "| epoch   1 |   800/  991 batches | accuracy    0.339\n",
      "| epoch   1 |   850/  991 batches | accuracy    0.362\n",
      "| epoch   1 |   900/  991 batches | accuracy    0.349\n",
      "| epoch   1 |   950/  991 batches | accuracy    0.351\n"
     ]
    },
    {
     "name": "stderr",
     "output_type": "stream",
     "text": [
      "\u001B[32m[I 2023-02-08 15:02:34,416]\u001B[0m Trial 44 pruned. \u001B[0m\n"
     ]
    },
    {
     "name": "stdout",
     "output_type": "stream",
     "text": [
      "| epoch   1 |    50/  991 batches | accuracy    0.338\n",
      "| epoch   1 |   100/  991 batches | accuracy    0.366\n",
      "| epoch   1 |   150/  991 batches | accuracy    0.355\n",
      "| epoch   1 |   200/  991 batches | accuracy    0.368\n",
      "| epoch   1 |   250/  991 batches | accuracy    0.371\n",
      "| epoch   1 |   300/  991 batches | accuracy    0.353\n",
      "| epoch   1 |   350/  991 batches | accuracy    0.371\n",
      "| epoch   1 |   400/  991 batches | accuracy    0.347\n",
      "| epoch   1 |   450/  991 batches | accuracy    0.335\n",
      "| epoch   1 |   500/  991 batches | accuracy    0.354\n",
      "| epoch   1 |   550/  991 batches | accuracy    0.372\n",
      "| epoch   1 |   600/  991 batches | accuracy    0.376\n",
      "| epoch   1 |   650/  991 batches | accuracy    0.360\n",
      "| epoch   1 |   700/  991 batches | accuracy    0.349\n",
      "| epoch   1 |   750/  991 batches | accuracy    0.360\n",
      "| epoch   1 |   800/  991 batches | accuracy    0.363\n",
      "| epoch   1 |   850/  991 batches | accuracy    0.370\n",
      "| epoch   1 |   900/  991 batches | accuracy    0.360\n",
      "| epoch   1 |   950/  991 batches | accuracy    0.339\n"
     ]
    },
    {
     "name": "stderr",
     "output_type": "stream",
     "text": [
      "\u001B[32m[I 2023-02-08 15:02:39,056]\u001B[0m Trial 45 finished with value: 0.3810665068903535 and parameters: {'lr': 9.98492546384743, 'optimizer': 'SGD'}. Best is trial 30 with value: 0.3936488915518274.\u001B[0m\n"
     ]
    },
    {
     "name": "stdout",
     "output_type": "stream",
     "text": [
      "| epoch   1 |    50/  991 batches | accuracy    0.282\n",
      "| epoch   1 |   100/  991 batches | accuracy    0.276\n",
      "| epoch   1 |   150/  991 batches | accuracy    0.307\n",
      "| epoch   1 |   200/  991 batches | accuracy    0.302\n",
      "| epoch   1 |   250/  991 batches | accuracy    0.306\n",
      "| epoch   1 |   300/  991 batches | accuracy    0.325\n",
      "| epoch   1 |   350/  991 batches | accuracy    0.296\n",
      "| epoch   1 |   400/  991 batches | accuracy    0.314\n",
      "| epoch   1 |   450/  991 batches | accuracy    0.304\n",
      "| epoch   1 |   500/  991 batches | accuracy    0.284\n",
      "| epoch   1 |   550/  991 batches | accuracy    0.288\n",
      "| epoch   1 |   600/  991 batches | accuracy    0.289\n",
      "| epoch   1 |   650/  991 batches | accuracy    0.311\n",
      "| epoch   1 |   700/  991 batches | accuracy    0.306\n",
      "| epoch   1 |   750/  991 batches | accuracy    0.295\n",
      "| epoch   1 |   800/  991 batches | accuracy    0.312\n",
      "| epoch   1 |   850/  991 batches | accuracy    0.320\n",
      "| epoch   1 |   900/  991 batches | accuracy    0.316\n",
      "| epoch   1 |   950/  991 batches | accuracy    0.313\n"
     ]
    },
    {
     "name": "stderr",
     "output_type": "stream",
     "text": [
      "\u001B[32m[I 2023-02-08 15:02:43,907]\u001B[0m Trial 46 pruned. \u001B[0m\n"
     ]
    },
    {
     "name": "stdout",
     "output_type": "stream",
     "text": [
      "| epoch   1 |    50/  991 batches | accuracy    0.357\n",
      "| epoch   1 |   100/  991 batches | accuracy    0.338\n",
      "| epoch   1 |   150/  991 batches | accuracy    0.356\n",
      "| epoch   1 |   200/  991 batches | accuracy    0.350\n",
      "| epoch   1 |   250/  991 batches | accuracy    0.371\n",
      "| epoch   1 |   300/  991 batches | accuracy    0.366\n",
      "| epoch   1 |   350/  991 batches | accuracy    0.354\n",
      "| epoch   1 |   400/  991 batches | accuracy    0.346\n",
      "| epoch   1 |   450/  991 batches | accuracy    0.354\n",
      "| epoch   1 |   500/  991 batches | accuracy    0.354\n",
      "| epoch   1 |   550/  991 batches | accuracy    0.375\n",
      "| epoch   1 |   600/  991 batches | accuracy    0.365\n",
      "| epoch   1 |   650/  991 batches | accuracy    0.346\n",
      "| epoch   1 |   700/  991 batches | accuracy    0.346\n",
      "| epoch   1 |   750/  991 batches | accuracy    0.356\n",
      "| epoch   1 |   800/  991 batches | accuracy    0.357\n",
      "| epoch   1 |   850/  991 batches | accuracy    0.357\n",
      "| epoch   1 |   900/  991 batches | accuracy    0.371\n"
     ]
    },
    {
     "name": "stderr",
     "output_type": "stream",
     "text": [
      "\u001B[32m[I 2023-02-08 15:02:48,040]\u001B[0m Trial 47 pruned. \u001B[0m\n"
     ]
    },
    {
     "name": "stdout",
     "output_type": "stream",
     "text": [
      "| epoch   1 |   950/  991 batches | accuracy    0.356\n",
      "| epoch   1 |    50/  991 batches | accuracy    0.343\n",
      "| epoch   1 |   100/  991 batches | accuracy    0.356\n",
      "| epoch   1 |   150/  991 batches | accuracy    0.356\n",
      "| epoch   1 |   200/  991 batches | accuracy    0.356\n",
      "| epoch   1 |   250/  991 batches | accuracy    0.361\n",
      "| epoch   1 |   300/  991 batches | accuracy    0.362\n",
      "| epoch   1 |   350/  991 batches | accuracy    0.364\n",
      "| epoch   1 |   400/  991 batches | accuracy    0.356\n",
      "| epoch   1 |   450/  991 batches | accuracy    0.351\n",
      "| epoch   1 |   500/  991 batches | accuracy    0.361\n",
      "| epoch   1 |   550/  991 batches | accuracy    0.353\n",
      "| epoch   1 |   600/  991 batches | accuracy    0.354\n",
      "| epoch   1 |   650/  991 batches | accuracy    0.355\n",
      "| epoch   1 |   700/  991 batches | accuracy    0.357\n",
      "| epoch   1 |   750/  991 batches | accuracy    0.362\n",
      "| epoch   1 |   800/  991 batches | accuracy    0.351\n",
      "| epoch   1 |   850/  991 batches | accuracy    0.362\n",
      "| epoch   1 |   900/  991 batches | accuracy    0.371\n"
     ]
    },
    {
     "name": "stderr",
     "output_type": "stream",
     "text": [
      "\u001B[32m[I 2023-02-08 15:02:52,564]\u001B[0m Trial 48 pruned. \u001B[0m\n"
     ]
    },
    {
     "name": "stdout",
     "output_type": "stream",
     "text": [
      "| epoch   1 |   950/  991 batches | accuracy    0.362\n",
      "| epoch   1 |    50/  991 batches | accuracy    0.290\n",
      "| epoch   1 |   100/  991 batches | accuracy    0.301\n",
      "| epoch   1 |   150/  991 batches | accuracy    0.311\n",
      "| epoch   1 |   200/  991 batches | accuracy    0.303\n",
      "| epoch   1 |   250/  991 batches | accuracy    0.304\n",
      "| epoch   1 |   300/  991 batches | accuracy    0.302\n",
      "| epoch   1 |   350/  991 batches | accuracy    0.314\n",
      "| epoch   1 |   400/  991 batches | accuracy    0.293\n",
      "| epoch   1 |   450/  991 batches | accuracy    0.300\n",
      "| epoch   1 |   500/  991 batches | accuracy    0.326\n",
      "| epoch   1 |   550/  991 batches | accuracy    0.311\n",
      "| epoch   1 |   600/  991 batches | accuracy    0.310\n",
      "| epoch   1 |   650/  991 batches | accuracy    0.323\n",
      "| epoch   1 |   700/  991 batches | accuracy    0.312\n",
      "| epoch   1 |   750/  991 batches | accuracy    0.310\n",
      "| epoch   1 |   800/  991 batches | accuracy    0.312\n",
      "| epoch   1 |   850/  991 batches | accuracy    0.339\n",
      "| epoch   1 |   900/  991 batches | accuracy    0.326\n",
      "| epoch   1 |   950/  991 batches | accuracy    0.324\n"
     ]
    },
    {
     "name": "stderr",
     "output_type": "stream",
     "text": [
      "\u001B[32m[I 2023-02-08 15:02:57,892]\u001B[0m Trial 49 pruned. \u001B[0m\n"
     ]
    },
    {
     "name": "stdout",
     "output_type": "stream",
     "text": [
      "| epoch   1 |    50/  991 batches | accuracy    0.288\n",
      "| epoch   1 |   100/  991 batches | accuracy    0.277\n",
      "| epoch   1 |   150/  991 batches | accuracy    0.319\n",
      "| epoch   1 |   200/  991 batches | accuracy    0.316\n",
      "| epoch   1 |   250/  991 batches | accuracy    0.314\n",
      "| epoch   1 |   300/  991 batches | accuracy    0.299\n",
      "| epoch   1 |   350/  991 batches | accuracy    0.280\n",
      "| epoch   1 |   400/  991 batches | accuracy    0.317\n",
      "| epoch   1 |   450/  991 batches | accuracy    0.291\n",
      "| epoch   1 |   500/  991 batches | accuracy    0.311\n",
      "| epoch   1 |   550/  991 batches | accuracy    0.322\n",
      "| epoch   1 |   600/  991 batches | accuracy    0.320\n",
      "| epoch   1 |   650/  991 batches | accuracy    0.290\n",
      "| epoch   1 |   700/  991 batches | accuracy    0.328\n",
      "| epoch   1 |   750/  991 batches | accuracy    0.309\n",
      "| epoch   1 |   800/  991 batches | accuracy    0.307\n",
      "| epoch   1 |   850/  991 batches | accuracy    0.308\n",
      "| epoch   1 |   900/  991 batches | accuracy    0.319\n",
      "| epoch   1 |   950/  991 batches | accuracy    0.328\n"
     ]
    },
    {
     "name": "stderr",
     "output_type": "stream",
     "text": [
      "\u001B[32m[I 2023-02-08 15:03:02,638]\u001B[0m Trial 50 pruned. \u001B[0m\n"
     ]
    },
    {
     "name": "stdout",
     "output_type": "stream",
     "text": [
      "| epoch   1 |    50/  991 batches | accuracy    0.343\n",
      "| epoch   1 |   100/  991 batches | accuracy    0.361\n",
      "| epoch   1 |   150/  991 batches | accuracy    0.370\n",
      "| epoch   1 |   200/  991 batches | accuracy    0.377\n",
      "| epoch   1 |   250/  991 batches | accuracy    0.371\n",
      "| epoch   1 |   300/  991 batches | accuracy    0.353\n",
      "| epoch   1 |   350/  991 batches | accuracy    0.372\n",
      "| epoch   1 |   400/  991 batches | accuracy    0.368\n",
      "| epoch   1 |   450/  991 batches | accuracy    0.357\n",
      "| epoch   1 |   500/  991 batches | accuracy    0.376\n",
      "| epoch   1 |   550/  991 batches | accuracy    0.359\n",
      "| epoch   1 |   600/  991 batches | accuracy    0.339\n",
      "| epoch   1 |   650/  991 batches | accuracy    0.353\n",
      "| epoch   1 |   700/  991 batches | accuracy    0.336\n",
      "| epoch   1 |   750/  991 batches | accuracy    0.367\n",
      "| epoch   1 |   800/  991 batches | accuracy    0.344\n",
      "| epoch   1 |   850/  991 batches | accuracy    0.347\n",
      "| epoch   1 |   900/  991 batches | accuracy    0.368\n"
     ]
    },
    {
     "name": "stderr",
     "output_type": "stream",
     "text": [
      "\u001B[32m[I 2023-02-08 15:03:06,808]\u001B[0m Trial 51 pruned. \u001B[0m\n"
     ]
    },
    {
     "name": "stdout",
     "output_type": "stream",
     "text": [
      "| epoch   1 |   950/  991 batches | accuracy    0.355\n",
      "| epoch   1 |    50/  991 batches | accuracy    0.346\n",
      "| epoch   1 |   100/  991 batches | accuracy    0.365\n",
      "| epoch   1 |   150/  991 batches | accuracy    0.368\n",
      "| epoch   1 |   200/  991 batches | accuracy    0.349\n",
      "| epoch   1 |   250/  991 batches | accuracy    0.364\n",
      "| epoch   1 |   300/  991 batches | accuracy    0.332\n",
      "| epoch   1 |   350/  991 batches | accuracy    0.345\n",
      "| epoch   1 |   400/  991 batches | accuracy    0.347\n",
      "| epoch   1 |   450/  991 batches | accuracy    0.346\n",
      "| epoch   1 |   500/  991 batches | accuracy    0.360\n",
      "| epoch   1 |   550/  991 batches | accuracy    0.344\n",
      "| epoch   1 |   600/  991 batches | accuracy    0.346\n",
      "| epoch   1 |   650/  991 batches | accuracy    0.360\n",
      "| epoch   1 |   700/  991 batches | accuracy    0.359\n",
      "| epoch   1 |   750/  991 batches | accuracy    0.357\n",
      "| epoch   1 |   800/  991 batches | accuracy    0.385\n",
      "| epoch   1 |   850/  991 batches | accuracy    0.385\n",
      "| epoch   1 |   900/  991 batches | accuracy    0.341\n",
      "| epoch   1 |   950/  991 batches | accuracy    0.377\n"
     ]
    },
    {
     "name": "stderr",
     "output_type": "stream",
     "text": [
      "\u001B[32m[I 2023-02-08 15:03:13,528]\u001B[0m Trial 52 finished with value: 0.36848412222887955 and parameters: {'lr': 9.665828283704483, 'optimizer': 'SGD'}. Best is trial 30 with value: 0.3936488915518274.\u001B[0m\n"
     ]
    },
    {
     "name": "stdout",
     "output_type": "stream",
     "text": [
      "| epoch   1 |    50/  991 batches | accuracy    0.372\n",
      "| epoch   1 |   100/  991 batches | accuracy    0.351\n",
      "| epoch   1 |   150/  991 batches | accuracy    0.342\n",
      "| epoch   1 |   200/  991 batches | accuracy    0.368\n",
      "| epoch   1 |   250/  991 batches | accuracy    0.367\n",
      "| epoch   1 |   300/  991 batches | accuracy    0.341\n",
      "| epoch   1 |   350/  991 batches | accuracy    0.354\n",
      "| epoch   1 |   400/  991 batches | accuracy    0.347\n",
      "| epoch   1 |   450/  991 batches | accuracy    0.338\n",
      "| epoch   1 |   500/  991 batches | accuracy    0.379\n",
      "| epoch   1 |   550/  991 batches | accuracy    0.334\n",
      "| epoch   1 |   600/  991 batches | accuracy    0.349\n",
      "| epoch   1 |   650/  991 batches | accuracy    0.331\n",
      "| epoch   1 |   700/  991 batches | accuracy    0.346\n",
      "| epoch   1 |   750/  991 batches | accuracy    0.367\n",
      "| epoch   1 |   800/  991 batches | accuracy    0.360\n",
      "| epoch   1 |   850/  991 batches | accuracy    0.356\n",
      "| epoch   1 |   900/  991 batches | accuracy    0.357\n",
      "| epoch   1 |   950/  991 batches | accuracy    0.391\n"
     ]
    },
    {
     "name": "stderr",
     "output_type": "stream",
     "text": [
      "\u001B[32m[I 2023-02-08 15:03:20,409]\u001B[0m Trial 53 pruned. \u001B[0m\n"
     ]
    },
    {
     "name": "stdout",
     "output_type": "stream",
     "text": [
      "| epoch   1 |    50/  991 batches | accuracy    0.331\n",
      "| epoch   1 |   100/  991 batches | accuracy    0.328\n",
      "| epoch   1 |   150/  991 batches | accuracy    0.363\n",
      "| epoch   1 |   200/  991 batches | accuracy    0.357\n",
      "| epoch   1 |   250/  991 batches | accuracy    0.344\n",
      "| epoch   1 |   300/  991 batches | accuracy    0.368\n",
      "| epoch   1 |   350/  991 batches | accuracy    0.357\n",
      "| epoch   1 |   400/  991 batches | accuracy    0.378\n",
      "| epoch   1 |   450/  991 batches | accuracy    0.351\n",
      "| epoch   1 |   500/  991 batches | accuracy    0.362\n",
      "| epoch   1 |   550/  991 batches | accuracy    0.353\n",
      "| epoch   1 |   600/  991 batches | accuracy    0.361\n",
      "| epoch   1 |   650/  991 batches | accuracy    0.348\n",
      "| epoch   1 |   700/  991 batches | accuracy    0.352\n",
      "| epoch   1 |   750/  991 batches | accuracy    0.367\n",
      "| epoch   1 |   800/  991 batches | accuracy    0.349\n",
      "| epoch   1 |   850/  991 batches | accuracy    0.344\n",
      "| epoch   1 |   900/  991 batches | accuracy    0.351\n",
      "| epoch   1 |   950/  991 batches | accuracy    0.364\n"
     ]
    },
    {
     "name": "stderr",
     "output_type": "stream",
     "text": [
      "\u001B[32m[I 2023-02-08 15:03:26,746]\u001B[0m Trial 54 finished with value: 0.3822648292390653 and parameters: {'lr': 9.693923929337782, 'optimizer': 'SGD'}. Best is trial 30 with value: 0.3936488915518274.\u001B[0m\n"
     ]
    },
    {
     "name": "stdout",
     "output_type": "stream",
     "text": [
      "| epoch   1 |    50/  991 batches | accuracy    0.357\n",
      "| epoch   1 |   100/  991 batches | accuracy    0.358\n",
      "| epoch   1 |   150/  991 batches | accuracy    0.352\n",
      "| epoch   1 |   200/  991 batches | accuracy    0.361\n",
      "| epoch   1 |   250/  991 batches | accuracy    0.352\n",
      "| epoch   1 |   300/  991 batches | accuracy    0.365\n",
      "| epoch   1 |   350/  991 batches | accuracy    0.350\n",
      "| epoch   1 |   400/  991 batches | accuracy    0.352\n",
      "| epoch   1 |   450/  991 batches | accuracy    0.346\n",
      "| epoch   1 |   500/  991 batches | accuracy    0.363\n",
      "| epoch   1 |   550/  991 batches | accuracy    0.362\n",
      "| epoch   1 |   600/  991 batches | accuracy    0.357\n",
      "| epoch   1 |   650/  991 batches | accuracy    0.363\n",
      "| epoch   1 |   700/  991 batches | accuracy    0.370\n",
      "| epoch   1 |   750/  991 batches | accuracy    0.352\n",
      "| epoch   1 |   800/  991 batches | accuracy    0.356\n",
      "| epoch   1 |   850/  991 batches | accuracy    0.351\n",
      "| epoch   1 |   900/  991 batches | accuracy    0.359\n",
      "| epoch   1 |   950/  991 batches | accuracy    0.344\n"
     ]
    },
    {
     "name": "stderr",
     "output_type": "stream",
     "text": [
      "\u001B[32m[I 2023-02-08 15:03:33,244]\u001B[0m Trial 55 pruned. \u001B[0m\n"
     ]
    },
    {
     "name": "stdout",
     "output_type": "stream",
     "text": [
      "| epoch   1 |    50/  991 batches | accuracy    0.311\n",
      "| epoch   1 |   100/  991 batches | accuracy    0.307\n",
      "| epoch   1 |   150/  991 batches | accuracy    0.314\n",
      "| epoch   1 |   200/  991 batches | accuracy    0.320\n",
      "| epoch   1 |   250/  991 batches | accuracy    0.316\n",
      "| epoch   1 |   300/  991 batches | accuracy    0.309\n",
      "| epoch   1 |   350/  991 batches | accuracy    0.291\n",
      "| epoch   1 |   400/  991 batches | accuracy    0.315\n",
      "| epoch   1 |   450/  991 batches | accuracy    0.336\n",
      "| epoch   1 |   500/  991 batches | accuracy    0.321\n",
      "| epoch   1 |   550/  991 batches | accuracy    0.326\n",
      "| epoch   1 |   600/  991 batches | accuracy    0.318\n",
      "| epoch   1 |   650/  991 batches | accuracy    0.327\n",
      "| epoch   1 |   700/  991 batches | accuracy    0.302\n",
      "| epoch   1 |   750/  991 batches | accuracy    0.340\n",
      "| epoch   1 |   800/  991 batches | accuracy    0.317\n",
      "| epoch   1 |   850/  991 batches | accuracy    0.316\n",
      "| epoch   1 |   900/  991 batches | accuracy    0.318\n",
      "| epoch   1 |   950/  991 batches | accuracy    0.321\n"
     ]
    },
    {
     "name": "stderr",
     "output_type": "stream",
     "text": [
      "\u001B[32m[I 2023-02-08 15:03:39,677]\u001B[0m Trial 56 pruned. \u001B[0m\n"
     ]
    },
    {
     "name": "stdout",
     "output_type": "stream",
     "text": [
      "| epoch   1 |    50/  991 batches | accuracy    0.374\n",
      "| epoch   1 |   100/  991 batches | accuracy    0.355\n",
      "| epoch   1 |   150/  991 batches | accuracy    0.345\n",
      "| epoch   1 |   200/  991 batches | accuracy    0.352\n",
      "| epoch   1 |   250/  991 batches | accuracy    0.369\n",
      "| epoch   1 |   300/  991 batches | accuracy    0.351\n",
      "| epoch   1 |   350/  991 batches | accuracy    0.361\n",
      "| epoch   1 |   400/  991 batches | accuracy    0.360\n",
      "| epoch   1 |   450/  991 batches | accuracy    0.362\n",
      "| epoch   1 |   500/  991 batches | accuracy    0.356\n",
      "| epoch   1 |   550/  991 batches | accuracy    0.350\n",
      "| epoch   1 |   600/  991 batches | accuracy    0.370\n",
      "| epoch   1 |   650/  991 batches | accuracy    0.367\n",
      "| epoch   1 |   700/  991 batches | accuracy    0.381\n",
      "| epoch   1 |   750/  991 batches | accuracy    0.356\n",
      "| epoch   1 |   800/  991 batches | accuracy    0.378\n",
      "| epoch   1 |   850/  991 batches | accuracy    0.356\n",
      "| epoch   1 |   900/  991 batches | accuracy    0.349\n",
      "| epoch   1 |   950/  991 batches | accuracy    0.346\n"
     ]
    },
    {
     "name": "stderr",
     "output_type": "stream",
     "text": [
      "\u001B[32m[I 2023-02-08 15:03:46,051]\u001B[0m Trial 57 pruned. \u001B[0m\n"
     ]
    },
    {
     "name": "stdout",
     "output_type": "stream",
     "text": [
      "| epoch   1 |    50/  991 batches | accuracy    0.350\n",
      "| epoch   1 |   100/  991 batches | accuracy    0.359\n",
      "| epoch   1 |   150/  991 batches | accuracy    0.343\n",
      "| epoch   1 |   200/  991 batches | accuracy    0.341\n",
      "| epoch   1 |   250/  991 batches | accuracy    0.359\n",
      "| epoch   1 |   300/  991 batches | accuracy    0.364\n",
      "| epoch   1 |   350/  991 batches | accuracy    0.373\n",
      "| epoch   1 |   400/  991 batches | accuracy    0.352\n",
      "| epoch   1 |   450/  991 batches | accuracy    0.332\n",
      "| epoch   1 |   500/  991 batches | accuracy    0.352\n",
      "| epoch   1 |   550/  991 batches | accuracy    0.349\n",
      "| epoch   1 |   600/  991 batches | accuracy    0.372\n",
      "| epoch   1 |   650/  991 batches | accuracy    0.322\n",
      "| epoch   1 |   700/  991 batches | accuracy    0.350\n",
      "| epoch   1 |   750/  991 batches | accuracy    0.372\n",
      "| epoch   1 |   800/  991 batches | accuracy    0.374\n",
      "| epoch   1 |   850/  991 batches | accuracy    0.359\n",
      "| epoch   1 |   900/  991 batches | accuracy    0.386\n",
      "| epoch   1 |   950/  991 batches | accuracy    0.364\n"
     ]
    },
    {
     "name": "stderr",
     "output_type": "stream",
     "text": [
      "\u001B[32m[I 2023-02-08 15:03:52,090]\u001B[0m Trial 58 pruned. \u001B[0m\n"
     ]
    },
    {
     "name": "stdout",
     "output_type": "stream",
     "text": [
      "| epoch   1 |    50/  991 batches | accuracy    0.346\n",
      "| epoch   1 |   100/  991 batches | accuracy    0.370\n",
      "| epoch   1 |   150/  991 batches | accuracy    0.359\n",
      "| epoch   1 |   200/  991 batches | accuracy    0.364\n",
      "| epoch   1 |   250/  991 batches | accuracy    0.345\n",
      "| epoch   1 |   300/  991 batches | accuracy    0.350\n",
      "| epoch   1 |   350/  991 batches | accuracy    0.351\n",
      "| epoch   1 |   400/  991 batches | accuracy    0.365\n",
      "| epoch   1 |   450/  991 batches | accuracy    0.365\n",
      "| epoch   1 |   500/  991 batches | accuracy    0.369\n",
      "| epoch   1 |   550/  991 batches | accuracy    0.375\n",
      "| epoch   1 |   600/  991 batches | accuracy    0.354\n",
      "| epoch   1 |   650/  991 batches | accuracy    0.374\n",
      "| epoch   1 |   700/  991 batches | accuracy    0.341\n",
      "| epoch   1 |   750/  991 batches | accuracy    0.342\n",
      "| epoch   1 |   800/  991 batches | accuracy    0.334\n",
      "| epoch   1 |   850/  991 batches | accuracy    0.369\n",
      "| epoch   1 |   900/  991 batches | accuracy    0.338\n",
      "| epoch   1 |   950/  991 batches | accuracy    0.395\n"
     ]
    },
    {
     "name": "stderr",
     "output_type": "stream",
     "text": [
      "\u001B[32m[I 2023-02-08 15:03:58,480]\u001B[0m Trial 59 pruned. \u001B[0m\n"
     ]
    },
    {
     "name": "stdout",
     "output_type": "stream",
     "text": [
      "| epoch   1 |    50/  991 batches | accuracy    0.342\n",
      "| epoch   1 |   100/  991 batches | accuracy    0.361\n",
      "| epoch   1 |   150/  991 batches | accuracy    0.374\n",
      "| epoch   1 |   200/  991 batches | accuracy    0.346\n",
      "| epoch   1 |   250/  991 batches | accuracy    0.391\n",
      "| epoch   1 |   300/  991 batches | accuracy    0.346\n",
      "| epoch   1 |   350/  991 batches | accuracy    0.348\n",
      "| epoch   1 |   400/  991 batches | accuracy    0.349\n",
      "| epoch   1 |   450/  991 batches | accuracy    0.365\n",
      "| epoch   1 |   500/  991 batches | accuracy    0.362\n",
      "| epoch   1 |   550/  991 batches | accuracy    0.351\n",
      "| epoch   1 |   600/  991 batches | accuracy    0.369\n",
      "| epoch   1 |   650/  991 batches | accuracy    0.349\n",
      "| epoch   1 |   700/  991 batches | accuracy    0.368\n",
      "| epoch   1 |   750/  991 batches | accuracy    0.353\n",
      "| epoch   1 |   800/  991 batches | accuracy    0.358\n",
      "| epoch   1 |   850/  991 batches | accuracy    0.362\n",
      "| epoch   1 |   900/  991 batches | accuracy    0.371\n",
      "| epoch   1 |   950/  991 batches | accuracy    0.364\n"
     ]
    },
    {
     "name": "stderr",
     "output_type": "stream",
     "text": [
      "\u001B[32m[I 2023-02-08 15:04:04,550]\u001B[0m Trial 60 pruned. \u001B[0m\n"
     ]
    },
    {
     "name": "stdout",
     "output_type": "stream",
     "text": [
      "| epoch   1 |    50/  991 batches | accuracy    0.362\n",
      "| epoch   1 |   100/  991 batches | accuracy    0.346\n",
      "| epoch   1 |   150/  991 batches | accuracy    0.362\n",
      "| epoch   1 |   200/  991 batches | accuracy    0.350\n",
      "| epoch   1 |   250/  991 batches | accuracy    0.354\n",
      "| epoch   1 |   300/  991 batches | accuracy    0.379\n",
      "| epoch   1 |   350/  991 batches | accuracy    0.358\n",
      "| epoch   1 |   400/  991 batches | accuracy    0.347\n",
      "| epoch   1 |   450/  991 batches | accuracy    0.351\n",
      "| epoch   1 |   500/  991 batches | accuracy    0.352\n",
      "| epoch   1 |   550/  991 batches | accuracy    0.359\n",
      "| epoch   1 |   600/  991 batches | accuracy    0.359\n",
      "| epoch   1 |   650/  991 batches | accuracy    0.374\n",
      "| epoch   1 |   700/  991 batches | accuracy    0.335\n",
      "| epoch   1 |   750/  991 batches | accuracy    0.361\n",
      "| epoch   1 |   800/  991 batches | accuracy    0.343\n",
      "| epoch   1 |   850/  991 batches | accuracy    0.347\n",
      "| epoch   1 |   900/  991 batches | accuracy    0.362\n",
      "| epoch   1 |   950/  991 batches | accuracy    0.361\n"
     ]
    },
    {
     "name": "stderr",
     "output_type": "stream",
     "text": [
      "\u001B[32m[I 2023-02-08 15:04:11,257]\u001B[0m Trial 61 pruned. \u001B[0m\n"
     ]
    },
    {
     "name": "stdout",
     "output_type": "stream",
     "text": [
      "| epoch   1 |    50/  991 batches | accuracy    0.369\n",
      "| epoch   1 |   100/  991 batches | accuracy    0.370\n",
      "| epoch   1 |   150/  991 batches | accuracy    0.379\n",
      "| epoch   1 |   200/  991 batches | accuracy    0.367\n",
      "| epoch   1 |   250/  991 batches | accuracy    0.344\n",
      "| epoch   1 |   300/  991 batches | accuracy    0.362\n",
      "| epoch   1 |   350/  991 batches | accuracy    0.339\n",
      "| epoch   1 |   400/  991 batches | accuracy    0.374\n",
      "| epoch   1 |   450/  991 batches | accuracy    0.365\n",
      "| epoch   1 |   500/  991 batches | accuracy    0.342\n",
      "| epoch   1 |   550/  991 batches | accuracy    0.341\n",
      "| epoch   1 |   600/  991 batches | accuracy    0.362\n",
      "| epoch   1 |   650/  991 batches | accuracy    0.345\n",
      "| epoch   1 |   700/  991 batches | accuracy    0.357\n",
      "| epoch   1 |   750/  991 batches | accuracy    0.358\n",
      "| epoch   1 |   800/  991 batches | accuracy    0.346\n",
      "| epoch   1 |   850/  991 batches | accuracy    0.377\n",
      "| epoch   1 |   900/  991 batches | accuracy    0.352\n",
      "| epoch   1 |   950/  991 batches | accuracy    0.354\n"
     ]
    },
    {
     "name": "stderr",
     "output_type": "stream",
     "text": [
      "\u001B[32m[I 2023-02-08 15:04:17,703]\u001B[0m Trial 62 pruned. \u001B[0m\n"
     ]
    },
    {
     "name": "stdout",
     "output_type": "stream",
     "text": [
      "| epoch   1 |    50/  991 batches | accuracy    0.343\n",
      "| epoch   1 |   100/  991 batches | accuracy    0.361\n",
      "| epoch   1 |   150/  991 batches | accuracy    0.372\n",
      "| epoch   1 |   200/  991 batches | accuracy    0.350\n",
      "| epoch   1 |   250/  991 batches | accuracy    0.354\n",
      "| epoch   1 |   300/  991 batches | accuracy    0.366\n",
      "| epoch   1 |   350/  991 batches | accuracy    0.366\n",
      "| epoch   1 |   400/  991 batches | accuracy    0.337\n",
      "| epoch   1 |   450/  991 batches | accuracy    0.378\n",
      "| epoch   1 |   500/  991 batches | accuracy    0.336\n",
      "| epoch   1 |   550/  991 batches | accuracy    0.365\n",
      "| epoch   1 |   600/  991 batches | accuracy    0.352\n",
      "| epoch   1 |   650/  991 batches | accuracy    0.361\n",
      "| epoch   1 |   700/  991 batches | accuracy    0.358\n",
      "| epoch   1 |   750/  991 batches | accuracy    0.350\n",
      "| epoch   1 |   800/  991 batches | accuracy    0.363\n",
      "| epoch   1 |   850/  991 batches | accuracy    0.335\n",
      "| epoch   1 |   900/  991 batches | accuracy    0.374\n",
      "| epoch   1 |   950/  991 batches | accuracy    0.371\n"
     ]
    },
    {
     "name": "stderr",
     "output_type": "stream",
     "text": [
      "\u001B[32m[I 2023-02-08 15:04:24,167]\u001B[0m Trial 63 pruned. \u001B[0m\n"
     ]
    },
    {
     "name": "stdout",
     "output_type": "stream",
     "text": [
      "| epoch   1 |    50/  991 batches | accuracy    0.341\n",
      "| epoch   1 |   100/  991 batches | accuracy    0.352\n",
      "| epoch   1 |   150/  991 batches | accuracy    0.374\n",
      "| epoch   1 |   200/  991 batches | accuracy    0.362\n",
      "| epoch   1 |   250/  991 batches | accuracy    0.366\n",
      "| epoch   1 |   300/  991 batches | accuracy    0.358\n",
      "| epoch   1 |   350/  991 batches | accuracy    0.354\n",
      "| epoch   1 |   400/  991 batches | accuracy    0.358\n",
      "| epoch   1 |   450/  991 batches | accuracy    0.395\n",
      "| epoch   1 |   500/  991 batches | accuracy    0.362\n",
      "| epoch   1 |   550/  991 batches | accuracy    0.364\n",
      "| epoch   1 |   600/  991 batches | accuracy    0.363\n",
      "| epoch   1 |   650/  991 batches | accuracy    0.371\n",
      "| epoch   1 |   700/  991 batches | accuracy    0.367\n",
      "| epoch   1 |   750/  991 batches | accuracy    0.360\n",
      "| epoch   1 |   800/  991 batches | accuracy    0.354\n",
      "| epoch   1 |   850/  991 batches | accuracy    0.376\n",
      "| epoch   1 |   900/  991 batches | accuracy    0.364\n",
      "| epoch   1 |   950/  991 batches | accuracy    0.374\n"
     ]
    },
    {
     "name": "stderr",
     "output_type": "stream",
     "text": [
      "\u001B[32m[I 2023-02-08 15:04:30,317]\u001B[0m Trial 64 finished with value: 0.3678849610545237 and parameters: {'lr': 9.215249216328134, 'optimizer': 'SGD'}. Best is trial 30 with value: 0.3936488915518274.\u001B[0m\n"
     ]
    },
    {
     "name": "stdout",
     "output_type": "stream",
     "text": [
      "| epoch   1 |    50/  991 batches | accuracy    0.297\n",
      "| epoch   1 |   100/  991 batches | accuracy    0.333\n",
      "| epoch   1 |   150/  991 batches | accuracy    0.319\n",
      "| epoch   1 |   200/  991 batches | accuracy    0.302\n",
      "| epoch   1 |   250/  991 batches | accuracy    0.306\n",
      "| epoch   1 |   300/  991 batches | accuracy    0.324\n",
      "| epoch   1 |   350/  991 batches | accuracy    0.314\n",
      "| epoch   1 |   400/  991 batches | accuracy    0.328\n",
      "| epoch   1 |   450/  991 batches | accuracy    0.319\n",
      "| epoch   1 |   500/  991 batches | accuracy    0.328\n",
      "| epoch   1 |   550/  991 batches | accuracy    0.319\n",
      "| epoch   1 |   600/  991 batches | accuracy    0.301\n",
      "| epoch   1 |   650/  991 batches | accuracy    0.306\n",
      "| epoch   1 |   700/  991 batches | accuracy    0.327\n",
      "| epoch   1 |   750/  991 batches | accuracy    0.323\n",
      "| epoch   1 |   800/  991 batches | accuracy    0.340\n",
      "| epoch   1 |   850/  991 batches | accuracy    0.330\n",
      "| epoch   1 |   900/  991 batches | accuracy    0.338\n",
      "| epoch   1 |   950/  991 batches | accuracy    0.326\n"
     ]
    },
    {
     "name": "stderr",
     "output_type": "stream",
     "text": [
      "\u001B[32m[I 2023-02-08 15:04:36,475]\u001B[0m Trial 65 pruned. \u001B[0m\n"
     ]
    },
    {
     "name": "stdout",
     "output_type": "stream",
     "text": [
      "| epoch   1 |    50/  991 batches | accuracy    0.354\n",
      "| epoch   1 |   100/  991 batches | accuracy    0.364\n",
      "| epoch   1 |   150/  991 batches | accuracy    0.358\n",
      "| epoch   1 |   200/  991 batches | accuracy    0.369\n",
      "| epoch   1 |   250/  991 batches | accuracy    0.376\n",
      "| epoch   1 |   300/  991 batches | accuracy    0.360\n",
      "| epoch   1 |   350/  991 batches | accuracy    0.373\n",
      "| epoch   1 |   400/  991 batches | accuracy    0.360\n",
      "| epoch   1 |   450/  991 batches | accuracy    0.335\n",
      "| epoch   1 |   500/  991 batches | accuracy    0.356\n",
      "| epoch   1 |   550/  991 batches | accuracy    0.362\n",
      "| epoch   1 |   600/  991 batches | accuracy    0.372\n",
      "| epoch   1 |   650/  991 batches | accuracy    0.375\n",
      "| epoch   1 |   700/  991 batches | accuracy    0.356\n",
      "| epoch   1 |   750/  991 batches | accuracy    0.356\n",
      "| epoch   1 |   800/  991 batches | accuracy    0.357\n",
      "| epoch   1 |   850/  991 batches | accuracy    0.367\n",
      "| epoch   1 |   900/  991 batches | accuracy    0.346\n",
      "| epoch   1 |   950/  991 batches | accuracy    0.358\n"
     ]
    },
    {
     "name": "stderr",
     "output_type": "stream",
     "text": [
      "\u001B[32m[I 2023-02-08 15:04:42,203]\u001B[0m Trial 66 pruned. \u001B[0m\n"
     ]
    },
    {
     "name": "stdout",
     "output_type": "stream",
     "text": [
      "| epoch   1 |    50/  991 batches | accuracy    0.362\n",
      "| epoch   1 |   100/  991 batches | accuracy    0.342\n",
      "| epoch   1 |   150/  991 batches | accuracy    0.333\n",
      "| epoch   1 |   200/  991 batches | accuracy    0.353\n",
      "| epoch   1 |   250/  991 batches | accuracy    0.384\n",
      "| epoch   1 |   300/  991 batches | accuracy    0.346\n",
      "| epoch   1 |   350/  991 batches | accuracy    0.370\n",
      "| epoch   1 |   400/  991 batches | accuracy    0.359\n",
      "| epoch   1 |   450/  991 batches | accuracy    0.364\n",
      "| epoch   1 |   500/  991 batches | accuracy    0.343\n",
      "| epoch   1 |   550/  991 batches | accuracy    0.339\n",
      "| epoch   1 |   600/  991 batches | accuracy    0.352\n",
      "| epoch   1 |   650/  991 batches | accuracy    0.368\n",
      "| epoch   1 |   700/  991 batches | accuracy    0.357\n",
      "| epoch   1 |   750/  991 batches | accuracy    0.347\n",
      "| epoch   1 |   800/  991 batches | accuracy    0.354\n",
      "| epoch   1 |   850/  991 batches | accuracy    0.355\n",
      "| epoch   1 |   900/  991 batches | accuracy    0.355\n",
      "| epoch   1 |   950/  991 batches | accuracy    0.354\n"
     ]
    },
    {
     "name": "stderr",
     "output_type": "stream",
     "text": [
      "\u001B[32m[I 2023-02-08 15:04:48,196]\u001B[0m Trial 67 pruned. \u001B[0m\n"
     ]
    },
    {
     "name": "stdout",
     "output_type": "stream",
     "text": [
      "| epoch   1 |    50/  991 batches | accuracy    0.348\n",
      "| epoch   1 |   100/  991 batches | accuracy    0.351\n",
      "| epoch   1 |   150/  991 batches | accuracy    0.339\n",
      "| epoch   1 |   200/  991 batches | accuracy    0.356\n",
      "| epoch   1 |   250/  991 batches | accuracy    0.365\n",
      "| epoch   1 |   300/  991 batches | accuracy    0.353\n",
      "| epoch   1 |   350/  991 batches | accuracy    0.352\n",
      "| epoch   1 |   400/  991 batches | accuracy    0.384\n",
      "| epoch   1 |   450/  991 batches | accuracy    0.347\n",
      "| epoch   1 |   500/  991 batches | accuracy    0.349\n",
      "| epoch   1 |   550/  991 batches | accuracy    0.367\n",
      "| epoch   1 |   600/  991 batches | accuracy    0.366\n",
      "| epoch   1 |   650/  991 batches | accuracy    0.351\n",
      "| epoch   1 |   700/  991 batches | accuracy    0.356\n",
      "| epoch   1 |   750/  991 batches | accuracy    0.361\n",
      "| epoch   1 |   800/  991 batches | accuracy    0.346\n",
      "| epoch   1 |   850/  991 batches | accuracy    0.352\n",
      "| epoch   1 |   900/  991 batches | accuracy    0.344\n",
      "| epoch   1 |   950/  991 batches | accuracy    0.339\n"
     ]
    },
    {
     "name": "stderr",
     "output_type": "stream",
     "text": [
      "\u001B[32m[I 2023-02-08 15:04:55,429]\u001B[0m Trial 68 finished with value: 0.3702816057519473 and parameters: {'lr': 8.892662393428655, 'optimizer': 'SGD'}. Best is trial 30 with value: 0.3936488915518274.\u001B[0m\n"
     ]
    },
    {
     "name": "stdout",
     "output_type": "stream",
     "text": [
      "| epoch   1 |    50/  991 batches | accuracy    0.291\n",
      "| epoch   1 |   100/  991 batches | accuracy    0.263\n",
      "| epoch   1 |   150/  991 batches | accuracy    0.305\n",
      "| epoch   1 |   200/  991 batches | accuracy    0.305\n",
      "| epoch   1 |   250/  991 batches | accuracy    0.312\n",
      "| epoch   1 |   300/  991 batches | accuracy    0.307\n",
      "| epoch   1 |   350/  991 batches | accuracy    0.273\n",
      "| epoch   1 |   400/  991 batches | accuracy    0.292\n",
      "| epoch   1 |   450/  991 batches | accuracy    0.311\n",
      "| epoch   1 |   500/  991 batches | accuracy    0.303\n",
      "| epoch   1 |   550/  991 batches | accuracy    0.295\n",
      "| epoch   1 |   600/  991 batches | accuracy    0.321\n",
      "| epoch   1 |   650/  991 batches | accuracy    0.316\n",
      "| epoch   1 |   700/  991 batches | accuracy    0.329\n",
      "| epoch   1 |   750/  991 batches | accuracy    0.326\n",
      "| epoch   1 |   800/  991 batches | accuracy    0.314\n",
      "| epoch   1 |   850/  991 batches | accuracy    0.302\n",
      "| epoch   1 |   900/  991 batches | accuracy    0.318\n",
      "| epoch   1 |   950/  991 batches | accuracy    0.323\n"
     ]
    },
    {
     "name": "stderr",
     "output_type": "stream",
     "text": [
      "\u001B[32m[I 2023-02-08 15:05:04,961]\u001B[0m Trial 69 finished with value: 0.36968244457759136 and parameters: {'lr': 9.802065520709007, 'optimizer': 'RMSprop'}. Best is trial 30 with value: 0.3936488915518274.\u001B[0m\n"
     ]
    },
    {
     "name": "stdout",
     "output_type": "stream",
     "text": [
      "| epoch   1 |    50/  991 batches | accuracy    0.325\n",
      "| epoch   1 |   100/  991 batches | accuracy    0.318\n",
      "| epoch   1 |   150/  991 batches | accuracy    0.287\n",
      "| epoch   1 |   200/  991 batches | accuracy    0.306\n",
      "| epoch   1 |   250/  991 batches | accuracy    0.288\n",
      "| epoch   1 |   300/  991 batches | accuracy    0.306\n",
      "| epoch   1 |   350/  991 batches | accuracy    0.307\n",
      "| epoch   1 |   400/  991 batches | accuracy    0.312\n",
      "| epoch   1 |   450/  991 batches | accuracy    0.312\n",
      "| epoch   1 |   500/  991 batches | accuracy    0.301\n",
      "| epoch   1 |   550/  991 batches | accuracy    0.301\n",
      "| epoch   1 |   600/  991 batches | accuracy    0.310\n",
      "| epoch   1 |   650/  991 batches | accuracy    0.309\n",
      "| epoch   1 |   700/  991 batches | accuracy    0.317\n",
      "| epoch   1 |   750/  991 batches | accuracy    0.304\n",
      "| epoch   1 |   800/  991 batches | accuracy    0.341\n",
      "| epoch   1 |   850/  991 batches | accuracy    0.320\n",
      "| epoch   1 |   900/  991 batches | accuracy    0.312\n",
      "| epoch   1 |   950/  991 batches | accuracy    0.329\n"
     ]
    },
    {
     "name": "stderr",
     "output_type": "stream",
     "text": [
      "\u001B[32m[I 2023-02-08 15:05:12,863]\u001B[0m Trial 70 pruned. \u001B[0m\n"
     ]
    },
    {
     "name": "stdout",
     "output_type": "stream",
     "text": [
      "| epoch   1 |    50/  991 batches | accuracy    0.343\n",
      "| epoch   1 |   100/  991 batches | accuracy    0.362\n",
      "| epoch   1 |   150/  991 batches | accuracy    0.366\n",
      "| epoch   1 |   200/  991 batches | accuracy    0.372\n",
      "| epoch   1 |   250/  991 batches | accuracy    0.357\n",
      "| epoch   1 |   300/  991 batches | accuracy    0.374\n",
      "| epoch   1 |   350/  991 batches | accuracy    0.347\n",
      "| epoch   1 |   400/  991 batches | accuracy    0.361\n",
      "| epoch   1 |   450/  991 batches | accuracy    0.355\n",
      "| epoch   1 |   500/  991 batches | accuracy    0.366\n",
      "| epoch   1 |   550/  991 batches | accuracy    0.369\n",
      "| epoch   1 |   600/  991 batches | accuracy    0.361\n",
      "| epoch   1 |   650/  991 batches | accuracy    0.347\n",
      "| epoch   1 |   700/  991 batches | accuracy    0.364\n",
      "| epoch   1 |   750/  991 batches | accuracy    0.354\n",
      "| epoch   1 |   800/  991 batches | accuracy    0.359\n",
      "| epoch   1 |   850/  991 batches | accuracy    0.359\n",
      "| epoch   1 |   900/  991 batches | accuracy    0.359\n",
      "| epoch   1 |   950/  991 batches | accuracy    0.362\n"
     ]
    },
    {
     "name": "stderr",
     "output_type": "stream",
     "text": [
      "\u001B[32m[I 2023-02-08 15:05:19,126]\u001B[0m Trial 71 pruned. \u001B[0m\n"
     ]
    },
    {
     "name": "stdout",
     "output_type": "stream",
     "text": [
      "| epoch   1 |    50/  991 batches | accuracy    0.328\n",
      "| epoch   1 |   100/  991 batches | accuracy    0.346\n",
      "| epoch   1 |   150/  991 batches | accuracy    0.385\n",
      "| epoch   1 |   200/  991 batches | accuracy    0.359\n",
      "| epoch   1 |   250/  991 batches | accuracy    0.355\n",
      "| epoch   1 |   300/  991 batches | accuracy    0.380\n",
      "| epoch   1 |   350/  991 batches | accuracy    0.364\n",
      "| epoch   1 |   400/  991 batches | accuracy    0.369\n",
      "| epoch   1 |   450/  991 batches | accuracy    0.364\n",
      "| epoch   1 |   500/  991 batches | accuracy    0.365\n",
      "| epoch   1 |   550/  991 batches | accuracy    0.362\n",
      "| epoch   1 |   600/  991 batches | accuracy    0.352\n",
      "| epoch   1 |   650/  991 batches | accuracy    0.360\n",
      "| epoch   1 |   700/  991 batches | accuracy    0.326\n",
      "| epoch   1 |   750/  991 batches | accuracy    0.363\n",
      "| epoch   1 |   800/  991 batches | accuracy    0.371\n",
      "| epoch   1 |   850/  991 batches | accuracy    0.346\n",
      "| epoch   1 |   900/  991 batches | accuracy    0.342\n",
      "| epoch   1 |   950/  991 batches | accuracy    0.346\n"
     ]
    },
    {
     "name": "stderr",
     "output_type": "stream",
     "text": [
      "\u001B[32m[I 2023-02-08 15:05:27,909]\u001B[0m Trial 72 pruned. \u001B[0m\n"
     ]
    },
    {
     "name": "stdout",
     "output_type": "stream",
     "text": [
      "| epoch   1 |    50/  991 batches | accuracy    0.359\n",
      "| epoch   1 |   100/  991 batches | accuracy    0.359\n",
      "| epoch   1 |   150/  991 batches | accuracy    0.363\n",
      "| epoch   1 |   200/  991 batches | accuracy    0.352\n",
      "| epoch   1 |   250/  991 batches | accuracy    0.372\n",
      "| epoch   1 |   300/  991 batches | accuracy    0.343\n",
      "| epoch   1 |   350/  991 batches | accuracy    0.354\n",
      "| epoch   1 |   400/  991 batches | accuracy    0.360\n",
      "| epoch   1 |   450/  991 batches | accuracy    0.333\n",
      "| epoch   1 |   500/  991 batches | accuracy    0.381\n",
      "| epoch   1 |   550/  991 batches | accuracy    0.359\n",
      "| epoch   1 |   600/  991 batches | accuracy    0.367\n",
      "| epoch   1 |   650/  991 batches | accuracy    0.357\n",
      "| epoch   1 |   700/  991 batches | accuracy    0.366\n",
      "| epoch   1 |   750/  991 batches | accuracy    0.347\n",
      "| epoch   1 |   800/  991 batches | accuracy    0.367\n",
      "| epoch   1 |   850/  991 batches | accuracy    0.353\n",
      "| epoch   1 |   900/  991 batches | accuracy    0.382\n",
      "| epoch   1 |   950/  991 batches | accuracy    0.362\n"
     ]
    },
    {
     "name": "stderr",
     "output_type": "stream",
     "text": [
      "\u001B[32m[I 2023-02-08 15:05:35,806]\u001B[0m Trial 73 finished with value: 0.37147992810065905 and parameters: {'lr': 9.831063072116066, 'optimizer': 'SGD'}. Best is trial 30 with value: 0.3936488915518274.\u001B[0m\n"
     ]
    },
    {
     "name": "stdout",
     "output_type": "stream",
     "text": [
      "| epoch   1 |    50/  991 batches | accuracy    0.336\n",
      "| epoch   1 |   100/  991 batches | accuracy    0.347\n",
      "| epoch   1 |   150/  991 batches | accuracy    0.384\n",
      "| epoch   1 |   200/  991 batches | accuracy    0.359\n",
      "| epoch   1 |   250/  991 batches | accuracy    0.359\n",
      "| epoch   1 |   300/  991 batches | accuracy    0.334\n",
      "| epoch   1 |   350/  991 batches | accuracy    0.376\n",
      "| epoch   1 |   400/  991 batches | accuracy    0.346\n",
      "| epoch   1 |   450/  991 batches | accuracy    0.369\n",
      "| epoch   1 |   500/  991 batches | accuracy    0.379\n",
      "| epoch   1 |   550/  991 batches | accuracy    0.356\n",
      "| epoch   1 |   600/  991 batches | accuracy    0.365\n",
      "| epoch   1 |   650/  991 batches | accuracy    0.381\n",
      "| epoch   1 |   700/  991 batches | accuracy    0.383\n",
      "| epoch   1 |   750/  991 batches | accuracy    0.371\n",
      "| epoch   1 |   800/  991 batches | accuracy    0.363\n",
      "| epoch   1 |   850/  991 batches | accuracy    0.374\n",
      "| epoch   1 |   900/  991 batches | accuracy    0.344\n",
      "| epoch   1 |   950/  991 batches | accuracy    0.353\n"
     ]
    },
    {
     "name": "stderr",
     "output_type": "stream",
     "text": [
      "\u001B[32m[I 2023-02-08 15:05:41,930]\u001B[0m Trial 74 pruned. \u001B[0m\n"
     ]
    },
    {
     "name": "stdout",
     "output_type": "stream",
     "text": [
      "| epoch   1 |    50/  991 batches | accuracy    0.351\n",
      "| epoch   1 |   100/  991 batches | accuracy    0.341\n",
      "| epoch   1 |   150/  991 batches | accuracy    0.370\n",
      "| epoch   1 |   200/  991 batches | accuracy    0.356\n",
      "| epoch   1 |   250/  991 batches | accuracy    0.359\n",
      "| epoch   1 |   300/  991 batches | accuracy    0.356\n",
      "| epoch   1 |   350/  991 batches | accuracy    0.342\n",
      "| epoch   1 |   400/  991 batches | accuracy    0.349\n",
      "| epoch   1 |   450/  991 batches | accuracy    0.367\n",
      "| epoch   1 |   500/  991 batches | accuracy    0.381\n",
      "| epoch   1 |   550/  991 batches | accuracy    0.378\n",
      "| epoch   1 |   600/  991 batches | accuracy    0.332\n",
      "| epoch   1 |   650/  991 batches | accuracy    0.364\n",
      "| epoch   1 |   700/  991 batches | accuracy    0.348\n",
      "| epoch   1 |   750/  991 batches | accuracy    0.378\n",
      "| epoch   1 |   800/  991 batches | accuracy    0.366\n",
      "| epoch   1 |   850/  991 batches | accuracy    0.368\n",
      "| epoch   1 |   900/  991 batches | accuracy    0.362\n",
      "| epoch   1 |   950/  991 batches | accuracy    0.386\n"
     ]
    },
    {
     "name": "stderr",
     "output_type": "stream",
     "text": [
      "\u001B[32m[I 2023-02-08 15:05:47,644]\u001B[0m Trial 75 finished with value: 0.3792690233672858 and parameters: {'lr': 8.6486137349031, 'optimizer': 'SGD'}. Best is trial 30 with value: 0.3936488915518274.\u001B[0m\n"
     ]
    },
    {
     "name": "stdout",
     "output_type": "stream",
     "text": [
      "| epoch   1 |    50/  991 batches | accuracy    0.362\n",
      "| epoch   1 |   100/  991 batches | accuracy    0.367\n",
      "| epoch   1 |   150/  991 batches | accuracy    0.363\n",
      "| epoch   1 |   200/  991 batches | accuracy    0.352\n",
      "| epoch   1 |   250/  991 batches | accuracy    0.360\n",
      "| epoch   1 |   300/  991 batches | accuracy    0.357\n",
      "| epoch   1 |   350/  991 batches | accuracy    0.354\n",
      "| epoch   1 |   400/  991 batches | accuracy    0.359\n",
      "| epoch   1 |   450/  991 batches | accuracy    0.366\n",
      "| epoch   1 |   500/  991 batches | accuracy    0.361\n",
      "| epoch   1 |   550/  991 batches | accuracy    0.352\n",
      "| epoch   1 |   600/  991 batches | accuracy    0.356\n",
      "| epoch   1 |   650/  991 batches | accuracy    0.341\n",
      "| epoch   1 |   700/  991 batches | accuracy    0.349\n",
      "| epoch   1 |   750/  991 batches | accuracy    0.354\n",
      "| epoch   1 |   800/  991 batches | accuracy    0.379\n",
      "| epoch   1 |   850/  991 batches | accuracy    0.393\n",
      "| epoch   1 |   900/  991 batches | accuracy    0.371\n",
      "| epoch   1 |   950/  991 batches | accuracy    0.370\n"
     ]
    },
    {
     "name": "stderr",
     "output_type": "stream",
     "text": [
      "\u001B[32m[I 2023-02-08 15:05:55,349]\u001B[0m Trial 76 pruned. \u001B[0m\n"
     ]
    },
    {
     "name": "stdout",
     "output_type": "stream",
     "text": [
      "| epoch   1 |    50/  991 batches | accuracy    0.341\n",
      "| epoch   1 |   100/  991 batches | accuracy    0.352\n",
      "| epoch   1 |   150/  991 batches | accuracy    0.349\n",
      "| epoch   1 |   200/  991 batches | accuracy    0.355\n",
      "| epoch   1 |   250/  991 batches | accuracy    0.348\n",
      "| epoch   1 |   300/  991 batches | accuracy    0.358\n",
      "| epoch   1 |   350/  991 batches | accuracy    0.361\n",
      "| epoch   1 |   400/  991 batches | accuracy    0.366\n",
      "| epoch   1 |   450/  991 batches | accuracy    0.354\n",
      "| epoch   1 |   500/  991 batches | accuracy    0.384\n",
      "| epoch   1 |   550/  991 batches | accuracy    0.355\n",
      "| epoch   1 |   600/  991 batches | accuracy    0.346\n",
      "| epoch   1 |   650/  991 batches | accuracy    0.357\n",
      "| epoch   1 |   700/  991 batches | accuracy    0.346\n",
      "| epoch   1 |   750/  991 batches | accuracy    0.360\n",
      "| epoch   1 |   800/  991 batches | accuracy    0.351\n",
      "| epoch   1 |   850/  991 batches | accuracy    0.377\n",
      "| epoch   1 |   900/  991 batches | accuracy    0.360\n",
      "| epoch   1 |   950/  991 batches | accuracy    0.347\n"
     ]
    },
    {
     "name": "stderr",
     "output_type": "stream",
     "text": [
      "\u001B[32m[I 2023-02-08 15:06:04,424]\u001B[0m Trial 77 finished with value: 0.3762732174955063 and parameters: {'lr': 8.45464666919363, 'optimizer': 'SGD'}. Best is trial 30 with value: 0.3936488915518274.\u001B[0m\n"
     ]
    },
    {
     "name": "stdout",
     "output_type": "stream",
     "text": [
      "| epoch   1 |    50/  991 batches | accuracy    0.291\n",
      "| epoch   1 |   100/  991 batches | accuracy    0.315\n",
      "| epoch   1 |   150/  991 batches | accuracy    0.298\n",
      "| epoch   1 |   200/  991 batches | accuracy    0.297\n",
      "| epoch   1 |   250/  991 batches | accuracy    0.321\n",
      "| epoch   1 |   300/  991 batches | accuracy    0.326\n",
      "| epoch   1 |   350/  991 batches | accuracy    0.314\n",
      "| epoch   1 |   400/  991 batches | accuracy    0.302\n",
      "| epoch   1 |   450/  991 batches | accuracy    0.307\n",
      "| epoch   1 |   500/  991 batches | accuracy    0.329\n",
      "| epoch   1 |   550/  991 batches | accuracy    0.329\n",
      "| epoch   1 |   600/  991 batches | accuracy    0.331\n",
      "| epoch   1 |   650/  991 batches | accuracy    0.316\n",
      "| epoch   1 |   700/  991 batches | accuracy    0.311\n",
      "| epoch   1 |   750/  991 batches | accuracy    0.354\n",
      "| epoch   1 |   800/  991 batches | accuracy    0.323\n",
      "| epoch   1 |   850/  991 batches | accuracy    0.339\n",
      "| epoch   1 |   900/  991 batches | accuracy    0.323\n",
      "| epoch   1 |   950/  991 batches | accuracy    0.311\n"
     ]
    },
    {
     "name": "stderr",
     "output_type": "stream",
     "text": [
      "\u001B[32m[I 2023-02-08 15:06:14,006]\u001B[0m Trial 78 pruned. \u001B[0m\n"
     ]
    },
    {
     "name": "stdout",
     "output_type": "stream",
     "text": [
      "| epoch   1 |    50/  991 batches | accuracy    0.347\n",
      "| epoch   1 |   100/  991 batches | accuracy    0.368\n",
      "| epoch   1 |   150/  991 batches | accuracy    0.346\n",
      "| epoch   1 |   200/  991 batches | accuracy    0.340\n",
      "| epoch   1 |   250/  991 batches | accuracy    0.351\n",
      "| epoch   1 |   300/  991 batches | accuracy    0.364\n",
      "| epoch   1 |   350/  991 batches | accuracy    0.347\n",
      "| epoch   1 |   400/  991 batches | accuracy    0.351\n",
      "| epoch   1 |   450/  991 batches | accuracy    0.365\n",
      "| epoch   1 |   500/  991 batches | accuracy    0.336\n",
      "| epoch   1 |   550/  991 batches | accuracy    0.362\n",
      "| epoch   1 |   600/  991 batches | accuracy    0.344\n",
      "| epoch   1 |   650/  991 batches | accuracy    0.396\n",
      "| epoch   1 |   700/  991 batches | accuracy    0.332\n",
      "| epoch   1 |   750/  991 batches | accuracy    0.378\n",
      "| epoch   1 |   800/  991 batches | accuracy    0.359\n",
      "| epoch   1 |   850/  991 batches | accuracy    0.350\n",
      "| epoch   1 |   900/  991 batches | accuracy    0.336\n",
      "| epoch   1 |   950/  991 batches | accuracy    0.360\n"
     ]
    },
    {
     "name": "stderr",
     "output_type": "stream",
     "text": [
      "\u001B[32m[I 2023-02-08 15:06:22,800]\u001B[0m Trial 79 pruned. \u001B[0m\n"
     ]
    },
    {
     "name": "stdout",
     "output_type": "stream",
     "text": [
      "| epoch   1 |    50/  991 batches | accuracy    0.372\n",
      "| epoch   1 |   100/  991 batches | accuracy    0.386\n",
      "| epoch   1 |   150/  991 batches | accuracy    0.361\n",
      "| epoch   1 |   200/  991 batches | accuracy    0.370\n",
      "| epoch   1 |   250/  991 batches | accuracy    0.339\n",
      "| epoch   1 |   300/  991 batches | accuracy    0.348\n",
      "| epoch   1 |   350/  991 batches | accuracy    0.369\n",
      "| epoch   1 |   400/  991 batches | accuracy    0.365\n",
      "| epoch   1 |   450/  991 batches | accuracy    0.373\n",
      "| epoch   1 |   500/  991 batches | accuracy    0.364\n",
      "| epoch   1 |   550/  991 batches | accuracy    0.378\n",
      "| epoch   1 |   600/  991 batches | accuracy    0.382\n",
      "| epoch   1 |   650/  991 batches | accuracy    0.334\n",
      "| epoch   1 |   700/  991 batches | accuracy    0.359\n",
      "| epoch   1 |   750/  991 batches | accuracy    0.369\n",
      "| epoch   1 |   800/  991 batches | accuracy    0.362\n",
      "| epoch   1 |   850/  991 batches | accuracy    0.347\n",
      "| epoch   1 |   900/  991 batches | accuracy    0.351\n",
      "| epoch   1 |   950/  991 batches | accuracy    0.356\n"
     ]
    },
    {
     "name": "stderr",
     "output_type": "stream",
     "text": [
      "\u001B[32m[I 2023-02-08 15:06:31,432]\u001B[0m Trial 80 finished with value: 0.39724385859796285 and parameters: {'lr': 8.92727784431965, 'optimizer': 'SGD'}. Best is trial 80 with value: 0.39724385859796285.\u001B[0m\n"
     ]
    },
    {
     "name": "stdout",
     "output_type": "stream",
     "text": [
      "| epoch   1 |    50/  991 batches | accuracy    0.343\n",
      "| epoch   1 |   100/  991 batches | accuracy    0.360\n",
      "| epoch   1 |   150/  991 batches | accuracy    0.342\n",
      "| epoch   1 |   200/  991 batches | accuracy    0.348\n",
      "| epoch   1 |   250/  991 batches | accuracy    0.374\n",
      "| epoch   1 |   300/  991 batches | accuracy    0.369\n",
      "| epoch   1 |   350/  991 batches | accuracy    0.366\n",
      "| epoch   1 |   400/  991 batches | accuracy    0.374\n",
      "| epoch   1 |   450/  991 batches | accuracy    0.339\n",
      "| epoch   1 |   500/  991 batches | accuracy    0.363\n",
      "| epoch   1 |   550/  991 batches | accuracy    0.343\n",
      "| epoch   1 |   600/  991 batches | accuracy    0.360\n",
      "| epoch   1 |   650/  991 batches | accuracy    0.347\n",
      "| epoch   1 |   700/  991 batches | accuracy    0.374\n",
      "| epoch   1 |   750/  991 batches | accuracy    0.366\n",
      "| epoch   1 |   800/  991 batches | accuracy    0.353\n",
      "| epoch   1 |   850/  991 batches | accuracy    0.378\n",
      "| epoch   1 |   900/  991 batches | accuracy    0.356\n",
      "| epoch   1 |   950/  991 batches | accuracy    0.374\n"
     ]
    },
    {
     "name": "stderr",
     "output_type": "stream",
     "text": [
      "\u001B[32m[I 2023-02-08 15:06:39,958]\u001B[0m Trial 81 pruned. \u001B[0m\n"
     ]
    },
    {
     "name": "stdout",
     "output_type": "stream",
     "text": [
      "| epoch   1 |    50/  991 batches | accuracy    0.365\n",
      "| epoch   1 |   100/  991 batches | accuracy    0.349\n",
      "| epoch   1 |   150/  991 batches | accuracy    0.352\n",
      "| epoch   1 |   200/  991 batches | accuracy    0.357\n",
      "| epoch   1 |   250/  991 batches | accuracy    0.352\n",
      "| epoch   1 |   300/  991 batches | accuracy    0.377\n",
      "| epoch   1 |   350/  991 batches | accuracy    0.352\n",
      "| epoch   1 |   400/  991 batches | accuracy    0.363\n",
      "| epoch   1 |   450/  991 batches | accuracy    0.341\n",
      "| epoch   1 |   500/  991 batches | accuracy    0.336\n",
      "| epoch   1 |   550/  991 batches | accuracy    0.333\n",
      "| epoch   1 |   600/  991 batches | accuracy    0.359\n",
      "| epoch   1 |   650/  991 batches | accuracy    0.352\n",
      "| epoch   1 |   700/  991 batches | accuracy    0.352\n",
      "| epoch   1 |   750/  991 batches | accuracy    0.387\n",
      "| epoch   1 |   800/  991 batches | accuracy    0.354\n",
      "| epoch   1 |   850/  991 batches | accuracy    0.361\n",
      "| epoch   1 |   900/  991 batches | accuracy    0.349\n",
      "| epoch   1 |   950/  991 batches | accuracy    0.352\n"
     ]
    },
    {
     "name": "stderr",
     "output_type": "stream",
     "text": [
      "\u001B[32m[I 2023-02-08 15:06:45,796]\u001B[0m Trial 82 pruned. \u001B[0m\n"
     ]
    },
    {
     "name": "stdout",
     "output_type": "stream",
     "text": [
      "| epoch   1 |    50/  991 batches | accuracy    0.349\n",
      "| epoch   1 |   100/  991 batches | accuracy    0.362\n",
      "| epoch   1 |   150/  991 batches | accuracy    0.324\n",
      "| epoch   1 |   200/  991 batches | accuracy    0.356\n",
      "| epoch   1 |   250/  991 batches | accuracy    0.366\n",
      "| epoch   1 |   300/  991 batches | accuracy    0.383\n",
      "| epoch   1 |   350/  991 batches | accuracy    0.377\n",
      "| epoch   1 |   400/  991 batches | accuracy    0.352\n",
      "| epoch   1 |   450/  991 batches | accuracy    0.345\n",
      "| epoch   1 |   500/  991 batches | accuracy    0.361\n",
      "| epoch   1 |   550/  991 batches | accuracy    0.373\n",
      "| epoch   1 |   600/  991 batches | accuracy    0.349\n",
      "| epoch   1 |   650/  991 batches | accuracy    0.356\n",
      "| epoch   1 |   700/  991 batches | accuracy    0.348\n",
      "| epoch   1 |   750/  991 batches | accuracy    0.349\n",
      "| epoch   1 |   800/  991 batches | accuracy    0.334\n",
      "| epoch   1 |   850/  991 batches | accuracy    0.379\n",
      "| epoch   1 |   900/  991 batches | accuracy    0.348\n",
      "| epoch   1 |   950/  991 batches | accuracy    0.366\n"
     ]
    },
    {
     "name": "stderr",
     "output_type": "stream",
     "text": [
      "\u001B[32m[I 2023-02-08 15:06:51,260]\u001B[0m Trial 83 pruned. \u001B[0m\n"
     ]
    },
    {
     "name": "stdout",
     "output_type": "stream",
     "text": [
      "| epoch   1 |    50/  991 batches | accuracy    0.371\n",
      "| epoch   1 |   100/  991 batches | accuracy    0.328\n",
      "| epoch   1 |   150/  991 batches | accuracy    0.359\n",
      "| epoch   1 |   200/  991 batches | accuracy    0.371\n",
      "| epoch   1 |   250/  991 batches | accuracy    0.350\n",
      "| epoch   1 |   300/  991 batches | accuracy    0.347\n",
      "| epoch   1 |   350/  991 batches | accuracy    0.381\n",
      "| epoch   1 |   400/  991 batches | accuracy    0.358\n",
      "| epoch   1 |   450/  991 batches | accuracy    0.361\n",
      "| epoch   1 |   500/  991 batches | accuracy    0.365\n",
      "| epoch   1 |   550/  991 batches | accuracy    0.364\n",
      "| epoch   1 |   600/  991 batches | accuracy    0.364\n",
      "| epoch   1 |   650/  991 batches | accuracy    0.357\n",
      "| epoch   1 |   700/  991 batches | accuracy    0.357\n",
      "| epoch   1 |   750/  991 batches | accuracy    0.377\n",
      "| epoch   1 |   800/  991 batches | accuracy    0.378\n",
      "| epoch   1 |   850/  991 batches | accuracy    0.362\n",
      "| epoch   1 |   900/  991 batches | accuracy    0.361\n",
      "| epoch   1 |   950/  991 batches | accuracy    0.350\n"
     ]
    },
    {
     "name": "stderr",
     "output_type": "stream",
     "text": [
      "\u001B[32m[I 2023-02-08 15:06:56,799]\u001B[0m Trial 84 pruned. \u001B[0m\n"
     ]
    },
    {
     "name": "stdout",
     "output_type": "stream",
     "text": [
      "| epoch   1 |    50/  991 batches | accuracy    0.328\n",
      "| epoch   1 |   100/  991 batches | accuracy    0.330\n",
      "| epoch   1 |   150/  991 batches | accuracy    0.364\n",
      "| epoch   1 |   200/  991 batches | accuracy    0.369\n",
      "| epoch   1 |   250/  991 batches | accuracy    0.373\n",
      "| epoch   1 |   300/  991 batches | accuracy    0.353\n",
      "| epoch   1 |   350/  991 batches | accuracy    0.382\n",
      "| epoch   1 |   400/  991 batches | accuracy    0.332\n",
      "| epoch   1 |   450/  991 batches | accuracy    0.344\n",
      "| epoch   1 |   500/  991 batches | accuracy    0.353\n",
      "| epoch   1 |   550/  991 batches | accuracy    0.345\n",
      "| epoch   1 |   600/  991 batches | accuracy    0.366\n",
      "| epoch   1 |   650/  991 batches | accuracy    0.362\n",
      "| epoch   1 |   700/  991 batches | accuracy    0.369\n",
      "| epoch   1 |   750/  991 batches | accuracy    0.383\n",
      "| epoch   1 |   800/  991 batches | accuracy    0.358\n",
      "| epoch   1 |   850/  991 batches | accuracy    0.352\n",
      "| epoch   1 |   900/  991 batches | accuracy    0.371\n",
      "| epoch   1 |   950/  991 batches | accuracy    0.334\n"
     ]
    },
    {
     "name": "stderr",
     "output_type": "stream",
     "text": [
      "\u001B[32m[I 2023-02-08 15:07:02,262]\u001B[0m Trial 85 pruned. \u001B[0m\n"
     ]
    },
    {
     "name": "stdout",
     "output_type": "stream",
     "text": [
      "| epoch   1 |    50/  991 batches | accuracy    0.350\n",
      "| epoch   1 |   100/  991 batches | accuracy    0.357\n",
      "| epoch   1 |   150/  991 batches | accuracy    0.351\n",
      "| epoch   1 |   200/  991 batches | accuracy    0.356\n",
      "| epoch   1 |   250/  991 batches | accuracy    0.347\n",
      "| epoch   1 |   300/  991 batches | accuracy    0.384\n",
      "| epoch   1 |   350/  991 batches | accuracy    0.359\n",
      "| epoch   1 |   400/  991 batches | accuracy    0.351\n",
      "| epoch   1 |   450/  991 batches | accuracy    0.367\n",
      "| epoch   1 |   500/  991 batches | accuracy    0.354\n",
      "| epoch   1 |   550/  991 batches | accuracy    0.357\n",
      "| epoch   1 |   600/  991 batches | accuracy    0.339\n",
      "| epoch   1 |   650/  991 batches | accuracy    0.335\n",
      "| epoch   1 |   700/  991 batches | accuracy    0.348\n",
      "| epoch   1 |   750/  991 batches | accuracy    0.360\n",
      "| epoch   1 |   800/  991 batches | accuracy    0.361\n",
      "| epoch   1 |   850/  991 batches | accuracy    0.357\n",
      "| epoch   1 |   900/  991 batches | accuracy    0.356\n",
      "| epoch   1 |   950/  991 batches | accuracy    0.363\n"
     ]
    },
    {
     "name": "stderr",
     "output_type": "stream",
     "text": [
      "\u001B[32m[I 2023-02-08 15:07:07,657]\u001B[0m Trial 86 pruned. \u001B[0m\n"
     ]
    },
    {
     "name": "stdout",
     "output_type": "stream",
     "text": [
      "| epoch   1 |    50/  991 batches | accuracy    0.300\n",
      "| epoch   1 |   100/  991 batches | accuracy    0.310\n",
      "| epoch   1 |   150/  991 batches | accuracy    0.291\n",
      "| epoch   1 |   200/  991 batches | accuracy    0.306\n",
      "| epoch   1 |   250/  991 batches | accuracy    0.304\n",
      "| epoch   1 |   300/  991 batches | accuracy    0.297\n",
      "| epoch   1 |   350/  991 batches | accuracy    0.314\n",
      "| epoch   1 |   400/  991 batches | accuracy    0.313\n",
      "| epoch   1 |   450/  991 batches | accuracy    0.333\n",
      "| epoch   1 |   500/  991 batches | accuracy    0.317\n",
      "| epoch   1 |   550/  991 batches | accuracy    0.309\n",
      "| epoch   1 |   600/  991 batches | accuracy    0.303\n",
      "| epoch   1 |   650/  991 batches | accuracy    0.324\n",
      "| epoch   1 |   700/  991 batches | accuracy    0.306\n",
      "| epoch   1 |   750/  991 batches | accuracy    0.300\n",
      "| epoch   1 |   800/  991 batches | accuracy    0.329\n",
      "| epoch   1 |   850/  991 batches | accuracy    0.321\n",
      "| epoch   1 |   900/  991 batches | accuracy    0.304\n",
      "| epoch   1 |   950/  991 batches | accuracy    0.322\n"
     ]
    },
    {
     "name": "stderr",
     "output_type": "stream",
     "text": [
      "\u001B[32m[I 2023-02-08 15:07:13,777]\u001B[0m Trial 87 pruned. \u001B[0m\n"
     ]
    },
    {
     "name": "stdout",
     "output_type": "stream",
     "text": [
      "| epoch   1 |    50/  991 batches | accuracy    0.292\n",
      "| epoch   1 |   100/  991 batches | accuracy    0.289\n",
      "| epoch   1 |   150/  991 batches | accuracy    0.292\n",
      "| epoch   1 |   200/  991 batches | accuracy    0.314\n",
      "| epoch   1 |   250/  991 batches | accuracy    0.303\n",
      "| epoch   1 |   300/  991 batches | accuracy    0.300\n",
      "| epoch   1 |   350/  991 batches | accuracy    0.297\n",
      "| epoch   1 |   400/  991 batches | accuracy    0.318\n",
      "| epoch   1 |   450/  991 batches | accuracy    0.284\n",
      "| epoch   1 |   500/  991 batches | accuracy    0.295\n",
      "| epoch   1 |   550/  991 batches | accuracy    0.316\n",
      "| epoch   1 |   600/  991 batches | accuracy    0.318\n",
      "| epoch   1 |   650/  991 batches | accuracy    0.304\n",
      "| epoch   1 |   700/  991 batches | accuracy    0.298\n",
      "| epoch   1 |   750/  991 batches | accuracy    0.312\n",
      "| epoch   1 |   800/  991 batches | accuracy    0.315\n",
      "| epoch   1 |   850/  991 batches | accuracy    0.299\n",
      "| epoch   1 |   900/  991 batches | accuracy    0.305\n",
      "| epoch   1 |   950/  991 batches | accuracy    0.308\n"
     ]
    },
    {
     "name": "stderr",
     "output_type": "stream",
     "text": [
      "\u001B[32m[I 2023-02-08 15:07:19,448]\u001B[0m Trial 88 pruned. \u001B[0m\n"
     ]
    },
    {
     "name": "stdout",
     "output_type": "stream",
     "text": [
      "| epoch   1 |    50/  991 batches | accuracy    0.347\n",
      "| epoch   1 |   100/  991 batches | accuracy    0.347\n",
      "| epoch   1 |   150/  991 batches | accuracy    0.360\n",
      "| epoch   1 |   200/  991 batches | accuracy    0.367\n",
      "| epoch   1 |   250/  991 batches | accuracy    0.364\n",
      "| epoch   1 |   300/  991 batches | accuracy    0.367\n",
      "| epoch   1 |   350/  991 batches | accuracy    0.350\n",
      "| epoch   1 |   400/  991 batches | accuracy    0.354\n",
      "| epoch   1 |   450/  991 batches | accuracy    0.339\n",
      "| epoch   1 |   500/  991 batches | accuracy    0.357\n",
      "| epoch   1 |   550/  991 batches | accuracy    0.365\n",
      "| epoch   1 |   600/  991 batches | accuracy    0.358\n",
      "| epoch   1 |   650/  991 batches | accuracy    0.364\n",
      "| epoch   1 |   700/  991 batches | accuracy    0.362\n",
      "| epoch   1 |   750/  991 batches | accuracy    0.360\n",
      "| epoch   1 |   800/  991 batches | accuracy    0.357\n",
      "| epoch   1 |   850/  991 batches | accuracy    0.358\n",
      "| epoch   1 |   900/  991 batches | accuracy    0.364\n",
      "| epoch   1 |   950/  991 batches | accuracy    0.353\n"
     ]
    },
    {
     "name": "stderr",
     "output_type": "stream",
     "text": [
      "\u001B[32m[I 2023-02-08 15:07:24,523]\u001B[0m Trial 89 finished with value: 0.372079089275015 and parameters: {'lr': 9.3416122055921, 'optimizer': 'SGD'}. Best is trial 80 with value: 0.39724385859796285.\u001B[0m\n"
     ]
    },
    {
     "name": "stdout",
     "output_type": "stream",
     "text": [
      "| epoch   1 |    50/  991 batches | accuracy    0.353\n",
      "| epoch   1 |   100/  991 batches | accuracy    0.361\n",
      "| epoch   1 |   150/  991 batches | accuracy    0.371\n",
      "| epoch   1 |   200/  991 batches | accuracy    0.364\n",
      "| epoch   1 |   250/  991 batches | accuracy    0.333\n",
      "| epoch   1 |   300/  991 batches | accuracy    0.357\n",
      "| epoch   1 |   350/  991 batches | accuracy    0.338\n",
      "| epoch   1 |   400/  991 batches | accuracy    0.360\n",
      "| epoch   1 |   450/  991 batches | accuracy    0.362\n",
      "| epoch   1 |   500/  991 batches | accuracy    0.346\n",
      "| epoch   1 |   550/  991 batches | accuracy    0.356\n",
      "| epoch   1 |   600/  991 batches | accuracy    0.349\n",
      "| epoch   1 |   650/  991 batches | accuracy    0.356\n",
      "| epoch   1 |   700/  991 batches | accuracy    0.336\n",
      "| epoch   1 |   750/  991 batches | accuracy    0.361\n",
      "| epoch   1 |   800/  991 batches | accuracy    0.361\n",
      "| epoch   1 |   850/  991 batches | accuracy    0.369\n",
      "| epoch   1 |   900/  991 batches | accuracy    0.359\n",
      "| epoch   1 |   950/  991 batches | accuracy    0.362\n"
     ]
    },
    {
     "name": "stderr",
     "output_type": "stream",
     "text": [
      "\u001B[32m[I 2023-02-08 15:07:30,029]\u001B[0m Trial 90 pruned. \u001B[0m\n"
     ]
    },
    {
     "name": "stdout",
     "output_type": "stream",
     "text": [
      "| epoch   1 |    50/  991 batches | accuracy    0.349\n",
      "| epoch   1 |   100/  991 batches | accuracy    0.387\n",
      "| epoch   1 |   150/  991 batches | accuracy    0.340\n",
      "| epoch   1 |   200/  991 batches | accuracy    0.352\n",
      "| epoch   1 |   250/  991 batches | accuracy    0.343\n",
      "| epoch   1 |   300/  991 batches | accuracy    0.361\n",
      "| epoch   1 |   350/  991 batches | accuracy    0.384\n",
      "| epoch   1 |   400/  991 batches | accuracy    0.369\n",
      "| epoch   1 |   450/  991 batches | accuracy    0.369\n",
      "| epoch   1 |   500/  991 batches | accuracy    0.344\n",
      "| epoch   1 |   550/  991 batches | accuracy    0.343\n",
      "| epoch   1 |   600/  991 batches | accuracy    0.381\n",
      "| epoch   1 |   650/  991 batches | accuracy    0.336\n",
      "| epoch   1 |   700/  991 batches | accuracy    0.367\n",
      "| epoch   1 |   750/  991 batches | accuracy    0.366\n",
      "| epoch   1 |   800/  991 batches | accuracy    0.388\n",
      "| epoch   1 |   850/  991 batches | accuracy    0.381\n",
      "| epoch   1 |   900/  991 batches | accuracy    0.376\n",
      "| epoch   1 |   950/  991 batches | accuracy    0.384\n"
     ]
    },
    {
     "name": "stderr",
     "output_type": "stream",
     "text": [
      "\u001B[32m[I 2023-02-08 15:07:35,492]\u001B[0m Trial 91 pruned. \u001B[0m\n"
     ]
    },
    {
     "name": "stdout",
     "output_type": "stream",
     "text": [
      "| epoch   1 |    50/  991 batches | accuracy    0.371\n",
      "| epoch   1 |   100/  991 batches | accuracy    0.356\n",
      "| epoch   1 |   150/  991 batches | accuracy    0.343\n",
      "| epoch   1 |   200/  991 batches | accuracy    0.353\n",
      "| epoch   1 |   250/  991 batches | accuracy    0.336\n",
      "| epoch   1 |   300/  991 batches | accuracy    0.341\n",
      "| epoch   1 |   350/  991 batches | accuracy    0.368\n",
      "| epoch   1 |   400/  991 batches | accuracy    0.391\n",
      "| epoch   1 |   450/  991 batches | accuracy    0.358\n",
      "| epoch   1 |   500/  991 batches | accuracy    0.364\n",
      "| epoch   1 |   550/  991 batches | accuracy    0.343\n",
      "| epoch   1 |   600/  991 batches | accuracy    0.370\n",
      "| epoch   1 |   650/  991 batches | accuracy    0.359\n",
      "| epoch   1 |   700/  991 batches | accuracy    0.348\n",
      "| epoch   1 |   750/  991 batches | accuracy    0.351\n",
      "| epoch   1 |   800/  991 batches | accuracy    0.378\n",
      "| epoch   1 |   850/  991 batches | accuracy    0.352\n",
      "| epoch   1 |   900/  991 batches | accuracy    0.351\n",
      "| epoch   1 |   950/  991 batches | accuracy    0.354\n"
     ]
    },
    {
     "name": "stderr",
     "output_type": "stream",
     "text": [
      "\u001B[32m[I 2023-02-08 15:07:42,188]\u001B[0m Trial 92 pruned. \u001B[0m\n"
     ]
    },
    {
     "name": "stdout",
     "output_type": "stream",
     "text": [
      "| epoch   1 |    50/  991 batches | accuracy    0.360\n",
      "| epoch   1 |   100/  991 batches | accuracy    0.367\n",
      "| epoch   1 |   150/  991 batches | accuracy    0.369\n",
      "| epoch   1 |   200/  991 batches | accuracy    0.378\n",
      "| epoch   1 |   250/  991 batches | accuracy    0.367\n",
      "| epoch   1 |   300/  991 batches | accuracy    0.366\n",
      "| epoch   1 |   350/  991 batches | accuracy    0.354\n",
      "| epoch   1 |   400/  991 batches | accuracy    0.360\n",
      "| epoch   1 |   450/  991 batches | accuracy    0.361\n",
      "| epoch   1 |   500/  991 batches | accuracy    0.352\n",
      "| epoch   1 |   550/  991 batches | accuracy    0.369\n",
      "| epoch   1 |   600/  991 batches | accuracy    0.343\n",
      "| epoch   1 |   650/  991 batches | accuracy    0.376\n",
      "| epoch   1 |   700/  991 batches | accuracy    0.372\n",
      "| epoch   1 |   750/  991 batches | accuracy    0.347\n",
      "| epoch   1 |   800/  991 batches | accuracy    0.378\n",
      "| epoch   1 |   850/  991 batches | accuracy    0.347\n",
      "| epoch   1 |   900/  991 batches | accuracy    0.343\n",
      "| epoch   1 |   950/  991 batches | accuracy    0.358\n"
     ]
    },
    {
     "name": "stderr",
     "output_type": "stream",
     "text": [
      "\u001B[32m[I 2023-02-08 15:07:51,081]\u001B[0m Trial 93 pruned. \u001B[0m\n"
     ]
    },
    {
     "name": "stdout",
     "output_type": "stream",
     "text": [
      "| epoch   1 |    50/  991 batches | accuracy    0.341\n",
      "| epoch   1 |   100/  991 batches | accuracy    0.385\n",
      "| epoch   1 |   150/  991 batches | accuracy    0.355\n",
      "| epoch   1 |   200/  991 batches | accuracy    0.374\n",
      "| epoch   1 |   250/  991 batches | accuracy    0.346\n",
      "| epoch   1 |   300/  991 batches | accuracy    0.343\n",
      "| epoch   1 |   350/  991 batches | accuracy    0.363\n",
      "| epoch   1 |   400/  991 batches | accuracy    0.362\n",
      "| epoch   1 |   450/  991 batches | accuracy    0.366\n",
      "| epoch   1 |   500/  991 batches | accuracy    0.362\n",
      "| epoch   1 |   550/  991 batches | accuracy    0.334\n",
      "| epoch   1 |   600/  991 batches | accuracy    0.354\n",
      "| epoch   1 |   650/  991 batches | accuracy    0.352\n",
      "| epoch   1 |   700/  991 batches | accuracy    0.354\n",
      "| epoch   1 |   750/  991 batches | accuracy    0.361\n",
      "| epoch   1 |   800/  991 batches | accuracy    0.368\n",
      "| epoch   1 |   850/  991 batches | accuracy    0.360\n",
      "| epoch   1 |   900/  991 batches | accuracy    0.377\n",
      "| epoch   1 |   950/  991 batches | accuracy    0.347\n"
     ]
    },
    {
     "name": "stderr",
     "output_type": "stream",
     "text": [
      "\u001B[32m[I 2023-02-08 15:07:59,483]\u001B[0m Trial 94 finished with value: 0.39304973037747154 and parameters: {'lr': 9.068251992021542, 'optimizer': 'SGD'}. Best is trial 80 with value: 0.39724385859796285.\u001B[0m\n"
     ]
    },
    {
     "name": "stdout",
     "output_type": "stream",
     "text": [
      "| epoch   1 |    50/  991 batches | accuracy    0.346\n",
      "| epoch   1 |   100/  991 batches | accuracy    0.362\n",
      "| epoch   1 |   150/  991 batches | accuracy    0.382\n",
      "| epoch   1 |   200/  991 batches | accuracy    0.359\n",
      "| epoch   1 |   250/  991 batches | accuracy    0.359\n",
      "| epoch   1 |   300/  991 batches | accuracy    0.354\n",
      "| epoch   1 |   350/  991 batches | accuracy    0.351\n",
      "| epoch   1 |   400/  991 batches | accuracy    0.336\n",
      "| epoch   1 |   450/  991 batches | accuracy    0.355\n",
      "| epoch   1 |   500/  991 batches | accuracy    0.383\n",
      "| epoch   1 |   550/  991 batches | accuracy    0.344\n",
      "| epoch   1 |   600/  991 batches | accuracy    0.350\n",
      "| epoch   1 |   650/  991 batches | accuracy    0.370\n",
      "| epoch   1 |   700/  991 batches | accuracy    0.374\n",
      "| epoch   1 |   750/  991 batches | accuracy    0.362\n",
      "| epoch   1 |   800/  991 batches | accuracy    0.339\n",
      "| epoch   1 |   850/  991 batches | accuracy    0.366\n",
      "| epoch   1 |   900/  991 batches | accuracy    0.352\n",
      "| epoch   1 |   950/  991 batches | accuracy    0.336\n"
     ]
    },
    {
     "name": "stderr",
     "output_type": "stream",
     "text": [
      "\u001B[32m[I 2023-02-08 15:08:06,793]\u001B[0m Trial 95 pruned. \u001B[0m\n"
     ]
    },
    {
     "name": "stdout",
     "output_type": "stream",
     "text": [
      "| epoch   1 |    50/  991 batches | accuracy    0.334\n",
      "| epoch   1 |   100/  991 batches | accuracy    0.342\n",
      "| epoch   1 |   150/  991 batches | accuracy    0.367\n",
      "| epoch   1 |   200/  991 batches | accuracy    0.349\n",
      "| epoch   1 |   250/  991 batches | accuracy    0.362\n",
      "| epoch   1 |   300/  991 batches | accuracy    0.348\n",
      "| epoch   1 |   350/  991 batches | accuracy    0.354\n",
      "| epoch   1 |   400/  991 batches | accuracy    0.356\n",
      "| epoch   1 |   450/  991 batches | accuracy    0.360\n",
      "| epoch   1 |   500/  991 batches | accuracy    0.341\n",
      "| epoch   1 |   550/  991 batches | accuracy    0.364\n",
      "| epoch   1 |   600/  991 batches | accuracy    0.357\n",
      "| epoch   1 |   650/  991 batches | accuracy    0.355\n",
      "| epoch   1 |   700/  991 batches | accuracy    0.349\n",
      "| epoch   1 |   750/  991 batches | accuracy    0.345\n",
      "| epoch   1 |   800/  991 batches | accuracy    0.344\n",
      "| epoch   1 |   850/  991 batches | accuracy    0.376\n",
      "| epoch   1 |   900/  991 batches | accuracy    0.378\n",
      "| epoch   1 |   950/  991 batches | accuracy    0.385\n"
     ]
    },
    {
     "name": "stderr",
     "output_type": "stream",
     "text": [
      "\u001B[32m[I 2023-02-08 15:08:13,418]\u001B[0m Trial 96 pruned. \u001B[0m\n"
     ]
    },
    {
     "name": "stdout",
     "output_type": "stream",
     "text": [
      "| epoch   1 |    50/  991 batches | accuracy    0.364\n",
      "| epoch   1 |   100/  991 batches | accuracy    0.352\n",
      "| epoch   1 |   150/  991 batches | accuracy    0.369\n",
      "| epoch   1 |   200/  991 batches | accuracy    0.372\n",
      "| epoch   1 |   250/  991 batches | accuracy    0.370\n",
      "| epoch   1 |   300/  991 batches | accuracy    0.344\n",
      "| epoch   1 |   350/  991 batches | accuracy    0.344\n",
      "| epoch   1 |   400/  991 batches | accuracy    0.360\n",
      "| epoch   1 |   450/  991 batches | accuracy    0.371\n",
      "| epoch   1 |   500/  991 batches | accuracy    0.371\n",
      "| epoch   1 |   550/  991 batches | accuracy    0.339\n",
      "| epoch   1 |   600/  991 batches | accuracy    0.358\n",
      "| epoch   1 |   650/  991 batches | accuracy    0.359\n",
      "| epoch   1 |   700/  991 batches | accuracy    0.344\n",
      "| epoch   1 |   750/  991 batches | accuracy    0.357\n",
      "| epoch   1 |   800/  991 batches | accuracy    0.359\n",
      "| epoch   1 |   850/  991 batches | accuracy    0.335\n",
      "| epoch   1 |   900/  991 batches | accuracy    0.353\n",
      "| epoch   1 |   950/  991 batches | accuracy    0.382\n"
     ]
    },
    {
     "name": "stderr",
     "output_type": "stream",
     "text": [
      "\u001B[32m[I 2023-02-08 15:08:19,784]\u001B[0m Trial 97 pruned. \u001B[0m\n"
     ]
    },
    {
     "name": "stdout",
     "output_type": "stream",
     "text": [
      "| epoch   1 |    50/  991 batches | accuracy    0.291\n",
      "| epoch   1 |   100/  991 batches | accuracy    0.305\n",
      "| epoch   1 |   150/  991 batches | accuracy    0.304\n",
      "| epoch   1 |   200/  991 batches | accuracy    0.342\n",
      "| epoch   1 |   250/  991 batches | accuracy    0.304\n",
      "| epoch   1 |   300/  991 batches | accuracy    0.321\n",
      "| epoch   1 |   350/  991 batches | accuracy    0.330\n",
      "| epoch   1 |   400/  991 batches | accuracy    0.297\n",
      "| epoch   1 |   450/  991 batches | accuracy    0.328\n",
      "| epoch   1 |   500/  991 batches | accuracy    0.317\n",
      "| epoch   1 |   550/  991 batches | accuracy    0.324\n",
      "| epoch   1 |   600/  991 batches | accuracy    0.329\n",
      "| epoch   1 |   650/  991 batches | accuracy    0.333\n",
      "| epoch   1 |   700/  991 batches | accuracy    0.301\n",
      "| epoch   1 |   750/  991 batches | accuracy    0.323\n",
      "| epoch   1 |   800/  991 batches | accuracy    0.316\n",
      "| epoch   1 |   850/  991 batches | accuracy    0.343\n",
      "| epoch   1 |   900/  991 batches | accuracy    0.313\n",
      "| epoch   1 |   950/  991 batches | accuracy    0.318\n"
     ]
    },
    {
     "name": "stderr",
     "output_type": "stream",
     "text": [
      "\u001B[32m[I 2023-02-08 15:08:26,296]\u001B[0m Trial 98 pruned. \u001B[0m\n"
     ]
    },
    {
     "name": "stdout",
     "output_type": "stream",
     "text": [
      "| epoch   1 |    50/  991 batches | accuracy    0.365\n",
      "| epoch   1 |   100/  991 batches | accuracy    0.343\n",
      "| epoch   1 |   150/  991 batches | accuracy    0.359\n",
      "| epoch   1 |   200/  991 batches | accuracy    0.355\n",
      "| epoch   1 |   250/  991 batches | accuracy    0.374\n",
      "| epoch   1 |   300/  991 batches | accuracy    0.355\n",
      "| epoch   1 |   350/  991 batches | accuracy    0.337\n",
      "| epoch   1 |   400/  991 batches | accuracy    0.348\n",
      "| epoch   1 |   450/  991 batches | accuracy    0.354\n",
      "| epoch   1 |   500/  991 batches | accuracy    0.344\n",
      "| epoch   1 |   550/  991 batches | accuracy    0.343\n",
      "| epoch   1 |   600/  991 batches | accuracy    0.351\n",
      "| epoch   1 |   650/  991 batches | accuracy    0.344\n",
      "| epoch   1 |   700/  991 batches | accuracy    0.369\n",
      "| epoch   1 |   750/  991 batches | accuracy    0.373\n",
      "| epoch   1 |   800/  991 batches | accuracy    0.342\n",
      "| epoch   1 |   850/  991 batches | accuracy    0.381\n",
      "| epoch   1 |   900/  991 batches | accuracy    0.352\n",
      "| epoch   1 |   950/  991 batches | accuracy    0.372\n"
     ]
    },
    {
     "name": "stderr",
     "output_type": "stream",
     "text": [
      "\u001B[32m[I 2023-02-08 15:08:32,620]\u001B[0m Trial 99 pruned. \u001B[0m\n"
     ]
    },
    {
     "name": "stdout",
     "output_type": "stream",
     "text": [
      "Study statistics: \n",
      "  Number of finished trials:  100\n",
      "  Number of pruned trials:  68\n",
      "  Number of complete trials:  32\n",
      "Best trial:\n",
      "  Value:  0.39724385859796285\n",
      "  Params: \n",
      "    lr: 8.92727784431965\n",
      "    optimizer: SGD\n"
     ]
    }
   ],
   "source": [
    "# run(\"../uniqueDB.txt\")\n",
    "#torch.save(model.state_dict(), <path_to>)\n",
    "# model.load_state_dict(torch.load(<path_to>))\n",
    "from optuna.pruners import MedianPruner\n",
    "\n",
    "study = optuna.create_study(direction=\"maximize\",pruner=MedianPruner(n_startup_trials=0, n_warmup_steps=0))\n",
    "study.optimize(objective, n_trials=100, timeout=600)\n",
    "\n",
    "pruned_trials = study.get_trials(deepcopy=False, states=[TrialState.PRUNED])\n",
    "complete_trials = study.get_trials(deepcopy=False, states=[TrialState.COMPLETE])\n",
    "\n",
    "print(\"Study statistics: \")\n",
    "print(\"  Number of finished trials: \", len(study.trials))\n",
    "print(\"  Number of pruned trials: \", len(pruned_trials))\n",
    "print(\"  Number of complete trials: \", len(complete_trials))\n",
    "\n",
    "print(\"Best trial:\")\n",
    "trial = study.best_trial\n",
    "\n",
    "print(\"  Value: \", trial.value)\n",
    "\n",
    "print(\"  Params: \")\n",
    "for key, value in trial.params.items():\n",
    "    print(\"    {}: {}\".format(key, value))"
   ],
   "metadata": {
    "collapsed": false
   }
  },
  {
   "cell_type": "code",
   "execution_count": 15,
   "outputs": [
    {
     "name": "stdout",
     "output_type": "stream",
     "text": [
      "This is a Libertarian Right comment\n"
     ]
    }
   ],
   "source": [
    "# def predict(text, text_pipeline):\n",
    "#     with torch.no_grad():\n",
    "#         text = torch.tensor(text_pipeline(text))\n",
    "#         output = model(text, torch.tensor([0]))\n",
    "#         return output.argmax(1).item() + 1\n",
    "#\n",
    "# mapping = {\n",
    "# 1:\"Libertarian Left\",\n",
    "# 2:\"Libertarian Right\",\n",
    "# 3:\"Authoritarian Left\",\n",
    "# 4:\"Authoritarian Right\",\n",
    "# }\n",
    "# model = model.to(\"cpu\")\n",
    "# # ex_text_str = \"\"\"\n",
    "# # \"\"\"\n",
    "# # https://old.reddit.com/r/PoliticalCompassMemes/comments/x774os/conservative_you_say_sounds_fine_to_me/inbbz52/\n",
    "# ex_text_str = \"\"\"\n",
    "# deo's mom\n",
    "# \"\"\"\n",
    "# print(\"This is a %s comment\" % mapping[predict(ex_text_str, text_pipeline)])"
   ],
   "metadata": {
    "collapsed": false
   }
  },
  {
   "cell_type": "code",
   "execution_count": null,
   "outputs": [],
   "source": [],
   "metadata": {
    "collapsed": false
   }
  }
 ],
 "metadata": {
  "kernelspec": {
   "display_name": "Python 3",
   "language": "python",
   "name": "python3"
  },
  "language_info": {
   "codemirror_mode": {
    "name": "ipython",
    "version": 2
   },
   "file_extension": ".py",
   "mimetype": "text/x-python",
   "name": "python",
   "nbconvert_exporter": "python",
   "pygments_lexer": "ipython2",
   "version": "2.7.6"
  }
 },
 "nbformat": 4,
 "nbformat_minor": 0
}
