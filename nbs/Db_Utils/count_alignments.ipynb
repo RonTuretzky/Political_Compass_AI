{
 "cells": [
  {
   "cell_type": "code",
   "execution_count": null,
   "outputs": [],
   "source": [
    "#| default_exp utils_alignment_count\n",
    "#|  export\n",
    "from fastcore.script import call_parse\n",
    "from ast import literal_eval as make_tuple\n",
    "\n",
    "@call_parse\n",
    "def alignment_count(\n",
    "            path:str # dn path to run alignment distribution\n",
    "\n",
    "):\n",
    "    db = open(path, \"r\")\n",
    "    #TODO Add all alignments\n",
    "    alignments = {\n",
    "        \"Libertarian Left\": 0,\n",
    "        \"Libertarian Right\": 0,\n",
    "        \"Authoritarian Left\": 0,\n",
    "        \"Authoritarian Right\": 0,\n",
    "    }\n",
    "    for line in db:\n",
    "        opinion, text = make_tuple(line)\n",
    "        alignments[opinion] += 1\n",
    "    print(alignments)\n"
   ],
   "metadata": {
    "collapsed": false
   }
  }
 ],
 "metadata": {
  "kernelspec": {
   "display_name": "Python 3",
   "language": "python",
   "name": "python3"
  },
  "language_info": {
   "codemirror_mode": {
    "name": "ipython",
    "version": 2
   },
   "file_extension": ".py",
   "mimetype": "text/x-python",
   "name": "python",
   "nbconvert_exporter": "python",
   "pygments_lexer": "ipython2",
   "version": "2.7.6"
  }
 },
 "nbformat": 4,
 "nbformat_minor": 0
}
