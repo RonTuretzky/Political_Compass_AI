{
 "cells": [
  {
   "cell_type": "code",
   "execution_count": null,
   "metadata": {
    "collapsed": true,
    "pycharm": {
     "name": "#%%\n"
    }
   },
   "outputs": [],
   "source": [
    "#| default_exp utils_merge_data_bases\n",
    "#|  export\n",
    "from fastcore.script import call_parse\n",
    "@call_parse\n",
    "def merge_data_bases(\n",
    "        path1:str # Path to first database to merge\n",
    "        ,path2:str # Path for second database to merge\n",
    "        ,newdatabase:str # Path for merged database\n",
    "):\n",
    "    file_1 = open(path1, \"r\")\n",
    "    file_2 = open(path2, \"r\")\n",
    "    newDBFile = open(newdatabase,\"a\")\n",
    "    newDBlst = []\n",
    "    files = [file_1,file_2]\n",
    "    for file in files:\n",
    "        for line in file:\n",
    "            if line not in newDBlst:\n",
    "                newDBlst.append(line)\n",
    "    for row in newDBlst:\n",
    "        newDBFile.write(row)\n"
   ]
  }
 ],
 "metadata": {
  "kernelspec": {
   "display_name": "Python 3",
   "language": "python",
   "name": "python3"
  },
  "language_info": {
   "codemirror_mode": {
    "name": "ipython",
    "version": 2
   },
   "file_extension": ".py",
   "mimetype": "text/x-python",
   "name": "python",
   "nbconvert_exporter": "python",
   "pygments_lexer": "ipython2",
   "version": "2.7.6"
  }
 },
 "nbformat": 4,
 "nbformat_minor": 0
}