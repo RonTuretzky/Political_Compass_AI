{
 "cells": [
  {
   "cell_type": "code",
   "execution_count": null,
   "metadata": {
    "collapsed": true,
    "pycharm": {
     "name": "#%%\n",
     "is_executing": true
    }
   },
   "outputs": [],
   "source": [
    "def text_to_sentences(text):\n",
    "    import re\n",
    "    assert type(text)==type(\"\")\n",
    "    return re.split(\"[\\.\\?\\!]\",text)\n",
    "def cal_grammar_score(self ,text):\n",
    "    import language_tool_python\n",
    "    from tqdm import tqdm\n",
    "    tool = language_tool_python.LanguageTool('en-US')\n",
    "    _text = tqdm(text)\n",
    "    for sentence in text_to_sentences(_text):\n",
    "        matches = tool.check(sentence)\n",
    "        count_errors = len(matches)\n",
    "    return count_errors"
   ]
  },
  {
   "cell_type": "code",
   "execution_count": null,
   "outputs": [],
   "source": [
    "text = \"\"\"\n",
    "Me and Raaba are work on a good project. We make the best. There is no wrong in code, we know the best ways. we make very good article.\n",
    "\"\"\"\n",
    "print(cal_grammar_score(text))"
   ],
   "metadata": {
    "collapsed": false,
    "pycharm": {
     "name": "#%%\n"
    }
   }
  },
  {
   "cell_type": "code",
   "execution_count": null,
   "outputs": [],
   "source": [],
   "metadata": {
    "collapsed": false,
    "pycharm": {
     "name": "#%%\n"
    }
   }
  }
 ],
 "metadata": {
  "kernelspec": {
   "display_name": "Python 3",
   "language": "python",
   "name": "python3"
  },
  "language_info": {
   "codemirror_mode": {
    "name": "ipython",
    "version": 2
   },
   "file_extension": ".py",
   "mimetype": "text/x-python",
   "name": "python",
   "nbconvert_exporter": "python",
   "pygments_lexer": "ipython2",
   "version": "2.7.6"
  }
 },
 "nbformat": 4,
 "nbformat_minor": 0
}