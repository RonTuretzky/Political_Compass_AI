{
 "cells": [
  {
   "cell_type": "code",
   "execution_count": null,
   "outputs": [],
   "source": [
    "#| default_exp utils_alignment_count\n",
    "#|  export\n",
    "from fastcore.script import call_parse\n",
    "from ast import literal_eval as make_tuple\n",
    "def split_string(string):\n",
    "    # Removing the parentheses and splitting the string by comma\n",
    "    parts = string[1:-1].split(\",\")\n",
    "    # Removing the whitespace and quotes from the parts\n",
    "    parts = [part.strip().strip(\"'\") for part in parts]\n",
    "    return parts[0], parts[1]\n",
    "@call_parse\n",
    "def alignment_count(\n",
    "            path:str # dn path to run alignment distribution\n",
    "\n",
    "):\n",
    "    db = open(path, \"r\",encoding='latin1')\n",
    "    alignments = {\n",
    "        \"Libertarian Left\": 0,\n",
    "        \"Libertarian Right\": 0,\n",
    "        \"Authoritarian Left\": 0,\n",
    "        \"Authoritarian Right\": 0,\n",
    "        \"Centrist\": 0,\n",
    "        \"Authoritarian Center\": 0,\n",
    "        \"Left\": 0,\n",
    "        \"Right\": 0,\n",
    "        \"Libertarian Center\": 0,\n",
    "    }\n",
    "    for line in db:\n",
    "        opinion, text = split_string(line)\n",
    "        alignments[opinion] += 1\n",
    "    print(alignments)\n"
   ],
   "metadata": {
    "collapsed": false
   }
  }
 ],
 "metadata": {
  "kernelspec": {
   "display_name": "Python 3",
   "language": "python",
   "name": "python3"
  },
  "language_info": {
   "codemirror_mode": {
    "name": "ipython",
    "version": 2
   },
   "file_extension": ".py",
   "mimetype": "text/x-python",
   "name": "python",
   "nbconvert_exporter": "python",
   "pygments_lexer": "ipython2",
   "version": "2.7.6"
  }
 },
 "nbformat": 4,
 "nbformat_minor": 0
}
