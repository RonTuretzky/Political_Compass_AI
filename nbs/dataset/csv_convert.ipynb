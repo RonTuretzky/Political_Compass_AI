{
 "cells": [
  {
   "cell_type": "code",
   "execution_count": null,
   "metadata": {
    "collapsed": true
   },
   "outputs": [],
   "source": [
    "#| default_exp csv_convert\n",
    "#|  export\n",
    "from fastcore.script import call_parse\n",
    "\n",
    "def split_string(string):\n",
    "    # Removing the parentheses and splitting the string by comma\n",
    "    parts = string[1:-2].split(\",\")\n",
    "    # Removing the whitespace and quotes from the parts\n",
    "    parts = [part.strip().strip(\"'\") for part in parts]\n",
    "    print(parts)\n",
    "    return parts[0], ' '.join(parts[1:])\n"
   ]
  },
  {
   "cell_type": "code",
   "execution_count": null,
   "outputs": [],
   "source": [
    "#|  export\n",
    "\n",
    "@call_parse()\n",
    "def make_csv(db: str  # Path to db\n",
    "                 ):\n",
    "    file = open(db, 'r', encoding='latin1')\n",
    "    mapping = {\n",
    "        \"Libertarian Left\": 0,\n",
    "        \"Libertarian Right\": 1,\n",
    "        \"Authoritarian Left\": 2,\n",
    "        \"Authoritarian Right\": 3,\n",
    "        \"Centrist\": 4,\n",
    "        \"Authoritarian Center\": 5,\n",
    "        \"Left\": 6,\n",
    "        \"Right\": 7,\n",
    "        \"Libertarian Center\": 8,\n",
    "    }\n",
    "    lines = file.readlines()\n",
    "    train = open(\"train.csv\", 'a', encoding='latin1')\n",
    "    test = open(\"test.csv\", 'a', encoding='latin1')\n",
    "    train.write('text,label\\n')\n",
    "    test.write('text,label\\n')\n",
    "    test_len = len(lines) * 0.1\n",
    "    i = 0\n",
    "    for line in lines:\n",
    "        opinion, text = split_string(line)\n",
    "        if i < test_len:\n",
    "            test.write(text + ',' + str(mapping[opinion]) + '\\n')\n",
    "        else:\n",
    "            train.write(text + ',' + str(mapping[opinion]) + '\\n')\n",
    "        i = i + 1\n",
    "    train.close()\n",
    "    test.close()\n"
   ],
   "metadata": {
    "collapsed": false
   }
  }
 ],
 "metadata": {
  "kernelspec": {
   "display_name": "Python 3",
   "language": "python",
   "name": "python3"
  },
  "language_info": {
   "codemirror_mode": {
    "name": "ipython",
    "version": 2
   },
   "file_extension": ".py",
   "mimetype": "text/x-python",
   "name": "python",
   "nbconvert_exporter": "python",
   "pygments_lexer": "ipython2",
   "version": "2.7.6"
  }
 },
 "nbformat": 4,
 "nbformat_minor": 0
}
