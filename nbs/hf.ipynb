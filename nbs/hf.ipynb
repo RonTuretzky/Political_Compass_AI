{
 "cells": [
  {
   "cell_type": "code",
   "execution_count": null,
   "metadata": {
    "collapsed": true,
    "pycharm": {
     "is_executing": true
    }
   },
   "outputs": [],
   "source": [
    "from transformers import pipeline\n",
    "from evaluate import evaluator\n",
    "import evaluate\n",
    "from datasets import load_dataset\n",
    "\n",
    "pipe = pipeline(\"text-classification\", model=\"RonTuretzky/pcm\", device=0)\n",
    "\n",
    "dataset = load_dataset(\"csv\", data_files={'test': [\"_test.csv\"]}, encoding='latin1')\n",
    "metric = evaluate.load(\"accuracy\")\n",
    "task_evaluator = evaluator(\"text-classification\")\n",
    "label2id = {\n",
    "    \"Libertarian Left\": 0,\n",
    "    \"Libertarian Right\": 1,\n",
    "    \"Authoritarian Left\": 2,\n",
    "    \"Authoritarian Right\": 3,\n",
    "    \"Centrist\": 4,\n",
    "    \"Authoritarian Center\": 5,\n",
    "    \"Left\": 6,\n",
    "    \"Right\": 7,\n",
    "    \"Libertarian Center\": 8,\n",
    "}\n",
    "results = task_evaluator.compute(model_or_pipeline=pipe, data=dataset, metric=metric,\n",
    "                                 label_mapping=label2id, )\n"
   ]
  },
  {
   "cell_type": "code",
   "execution_count": null,
   "outputs": [],
   "source": [],
   "metadata": {
    "collapsed": false
   }
  }
 ],
 "metadata": {
  "kernelspec": {
   "display_name": "Python 3",
   "language": "python",
   "name": "python3"
  },
  "language_info": {
   "codemirror_mode": {
    "name": "ipython",
    "version": 2
   },
   "file_extension": ".py",
   "mimetype": "text/x-python",
   "name": "python",
   "nbconvert_exporter": "python",
   "pygments_lexer": "ipython2",
   "version": "2.7.6"
  }
 },
 "nbformat": 4,
 "nbformat_minor": 0
}
