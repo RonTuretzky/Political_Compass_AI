{
 "cells": [
  {
   "cell_type": "code",
   "execution_count": 7,
   "metadata": {
    "collapsed": true
   },
   "outputs": [
    {
     "name": "stdout",
     "output_type": "stream",
     "text": [
      "Comments:25314\n",
      "dupes:3596\n"
     ]
    }
   ],
   "source": [
    "#| default_exp parse_for_dupes\n",
    "#|  export\n",
    "from fastcore.script import call_parse\n",
    "from ast import literal_eval as make_tuple\n",
    "@call_parse()\n",
    "def parse_for_dupes(\n",
    "            db_path1:str # Path to db1 to parse\n",
    "            ,db_path2:str # Path to db2 to parse\n",
    "\n",
    "):\n",
    "    # This code checks duplicates between two databases\n",
    "    with open(db_path1, \"r\") as file1:\n",
    "    # Read the lines in the first file into a set\n",
    "        file1_lines = set(file1.readlines())\n",
    "\n",
    "# Open the second file\n",
    "    with open(db_path2, \"r\") as file2:\n",
    "        # Read the lines in the second file into a set\n",
    "        file2_lines = set(file2.readlines())\n",
    "    duplicate_lines = file1_lines.intersection(file2_lines)\n",
    "    print(duplicate_lines)"
   ]
  },
  {
   "cell_type": "code",
   "execution_count": null,
   "outputs": [],
   "source": [],
   "metadata": {
    "collapsed": false
   }
  }
 ],
 "metadata": {
  "kernelspec": {
   "display_name": "Python 3",
   "language": "python",
   "name": "python3"
  },
  "language_info": {
   "codemirror_mode": {
    "name": "ipython",
    "version": 2
   },
   "file_extension": ".py",
   "mimetype": "text/x-python",
   "name": "python",
   "nbconvert_exporter": "python",
   "pygments_lexer": "ipython2",
   "version": "2.7.6"
  }
 },
 "nbformat": 4,
 "nbformat_minor": 0
}
