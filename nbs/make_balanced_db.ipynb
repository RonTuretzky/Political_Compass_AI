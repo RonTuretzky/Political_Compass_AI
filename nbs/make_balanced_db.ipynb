{
 "cells": [
  {
   "cell_type": "code",
   "execution_count": null,
   "metadata": {
    "collapsed": true
   },
   "outputs": [],
   "source": [
    "#| default_exp make_balanced_db\n",
    "#|  export\n",
    "from fastcore.script import call_parse\n",
    "@call_parse()\n",
    "def make_balanced_db(\n",
    "        db_path:str # Path to db to balance\n",
    "        ,newdatabase:str # Path for merged database\n",
    "        ,count:str # Number of each alignment\n",
    "):\n",
    "    file1 = open(db_path, \"r\")\n",
    "    writeToFile = open(newdatabase, \"w\")\n",
    "    #TODO Update for all alignments\n",
    "    c = [int(count)]*4\n",
    "    mapping = {\n",
    "        \"Libertarian Left\": 0,\n",
    "        \"Libertarian Right\": 1,\n",
    "        \"Authoritarian Left\": 2,\n",
    "        \"Authoritarian Right\": 3,\n",
    "    }\n",
    "    for line in file1:\n",
    "        opinion, text = make_tuple(line)\n",
    "        index = mapping[opinion]\n",
    "        if (c[index] > 0):\n",
    "            c[index] -= 1\n",
    "            writeToFile.write(line)\n"
   ]
  }
 ],
 "metadata": {
  "kernelspec": {
   "display_name": "Python 3",
   "language": "python",
   "name": "python3"
  },
  "language_info": {
   "codemirror_mode": {
    "name": "ipython",
    "version": 2
   },
   "file_extension": ".py",
   "mimetype": "text/x-python",
   "name": "python",
   "nbconvert_exporter": "python",
   "pygments_lexer": "ipython2",
   "version": "2.7.6"
  }
 },
 "nbformat": 4,
 "nbformat_minor": 0
}
