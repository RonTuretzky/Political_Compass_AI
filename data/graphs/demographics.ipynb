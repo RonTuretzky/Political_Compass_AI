{
 "cells": [
  {
   "cell_type": "code",
   "execution_count": 15,
   "metadata": {
    "collapsed": true,
    "ExecuteTime": {
     "start_time": "2023-08-06T10:46:29.330810Z",
     "end_time": "2023-08-06T10:46:29.472651Z"
    }
   },
   "outputs": [
    {
     "ename": "TypeError",
     "evalue": "can only concatenate str (not \"int\") to str",
     "output_type": "error",
     "traceback": [
      "\u001B[1;31m---------------------------------------------------------------------------\u001B[0m",
      "\u001B[1;31mTypeError\u001B[0m                                 Traceback (most recent call last)",
      "Cell \u001B[1;32mIn[15], line 27\u001B[0m\n\u001B[0;32m     14\u001B[0m mapping \u001B[38;5;241m=\u001B[39m {\n\u001B[0;32m     15\u001B[0m     \u001B[38;5;241m1\u001B[39m: \u001B[38;5;124m\"\u001B[39m\u001B[38;5;124mLibertarian Left\u001B[39m\u001B[38;5;124m\"\u001B[39m,\n\u001B[0;32m     16\u001B[0m     \u001B[38;5;241m2\u001B[39m: \u001B[38;5;124m\"\u001B[39m\u001B[38;5;124mLibertarian Right\u001B[39m\u001B[38;5;124m\"\u001B[39m,\n\u001B[1;32m   (...)\u001B[0m\n\u001B[0;32m     23\u001B[0m     \u001B[38;5;241m9\u001B[39m: \u001B[38;5;124m\"\u001B[39m\u001B[38;5;124mLibertarian Center\u001B[39m\u001B[38;5;124m\"\u001B[39m,\n\u001B[0;32m     24\u001B[0m }\n\u001B[0;32m     26\u001B[0m \u001B[38;5;66;03m# Step 4: Convert label counts to their corresponding names using the mapping\u001B[39;00m\n\u001B[1;32m---> 27\u001B[0m label_names \u001B[38;5;241m=\u001B[39m [mapping[label \u001B[38;5;241m+\u001B[39m\u001B[38;5;241m1\u001B[39m] \u001B[38;5;28;01mfor\u001B[39;00m label \u001B[38;5;129;01min\u001B[39;00m label_counts\u001B[38;5;241m.\u001B[39mindex]\n\u001B[0;32m     29\u001B[0m \u001B[38;5;66;03m# Step 5: Create a pie chart to visualize the counts of each label\u001B[39;00m\n\u001B[0;32m     30\u001B[0m plt\u001B[38;5;241m.\u001B[39mfigure()\n",
      "Cell \u001B[1;32mIn[15], line 27\u001B[0m, in \u001B[0;36m<listcomp>\u001B[1;34m(.0)\u001B[0m\n\u001B[0;32m     14\u001B[0m mapping \u001B[38;5;241m=\u001B[39m {\n\u001B[0;32m     15\u001B[0m     \u001B[38;5;241m1\u001B[39m: \u001B[38;5;124m\"\u001B[39m\u001B[38;5;124mLibertarian Left\u001B[39m\u001B[38;5;124m\"\u001B[39m,\n\u001B[0;32m     16\u001B[0m     \u001B[38;5;241m2\u001B[39m: \u001B[38;5;124m\"\u001B[39m\u001B[38;5;124mLibertarian Right\u001B[39m\u001B[38;5;124m\"\u001B[39m,\n\u001B[1;32m   (...)\u001B[0m\n\u001B[0;32m     23\u001B[0m     \u001B[38;5;241m9\u001B[39m: \u001B[38;5;124m\"\u001B[39m\u001B[38;5;124mLibertarian Center\u001B[39m\u001B[38;5;124m\"\u001B[39m,\n\u001B[0;32m     24\u001B[0m }\n\u001B[0;32m     26\u001B[0m \u001B[38;5;66;03m# Step 4: Convert label counts to their corresponding names using the mapping\u001B[39;00m\n\u001B[1;32m---> 27\u001B[0m label_names \u001B[38;5;241m=\u001B[39m [mapping[\u001B[43mlabel\u001B[49m\u001B[43m \u001B[49m\u001B[38;5;241;43m+\u001B[39;49m\u001B[38;5;241;43m1\u001B[39;49m] \u001B[38;5;28;01mfor\u001B[39;00m label \u001B[38;5;129;01min\u001B[39;00m label_counts\u001B[38;5;241m.\u001B[39mindex]\n\u001B[0;32m     29\u001B[0m \u001B[38;5;66;03m# Step 5: Create a pie chart to visualize the counts of each label\u001B[39;00m\n\u001B[0;32m     30\u001B[0m plt\u001B[38;5;241m.\u001B[39mfigure()\n",
      "\u001B[1;31mTypeError\u001B[0m: can only concatenate str (not \"int\") to str"
     ]
    }
   ],
   "source": [
    "import pandas as pd\n",
    "import matplotlib.pyplot as plt\n",
    "\n",
    "# Step 1: Read the data from the CSV file\n",
    "data = pd.read_csv('../9_labels/huggingface/train.csv',encoding='latin1')\n",
    "# data = pd.read_csv('../4_labels/huggingface/4_train.csv',encoding='latin1')\n",
    "\n",
    "\n",
    "\n",
    "# Step 1: Read the data from the CSV file\n",
    "\n",
    "# Step 2: Count the number of rows for each label\n",
    "label_counts = data['label'].value_counts()\n",
    "mapping = {\n",
    "    1: \"Libertarian Left\",\n",
    "    2: \"Libertarian Right\",\n",
    "    3: \"Authoritarian Left\",\n",
    "    4: \"Authoritarian Right\",\n",
    "    5: \"Centrist\",\n",
    "    6: \"Authoritarian Center\",\n",
    "    7: \"Left\",\n",
    "    8: \"Right\",\n",
    "    9: \"Libertarian Center\",\n",
    "}\n",
    "\n",
    "# Step 4: Convert label counts to their corresponding names using the mapping\n",
    "label_names = [mapping[label +1] for label in label_counts.index]\n",
    "\n",
    "# Step 5: Create a pie chart to visualize the counts of each label\n",
    "plt.figure()\n",
    "plt.pie(label_counts, labels=label_names, autopct='%1.1f%%', startangle=90)\n",
    "plt.axis('equal')\n",
    "plt.title('Distribution of Labels')\n",
    "plt.show()\n"
   ]
  },
  {
   "cell_type": "code",
   "execution_count": null,
   "outputs": [],
   "source": [],
   "metadata": {
    "collapsed": false
   }
  }
 ],
 "metadata": {
  "kernelspec": {
   "display_name": "Python 3",
   "language": "python",
   "name": "python3"
  },
  "language_info": {
   "codemirror_mode": {
    "name": "ipython",
    "version": 2
   },
   "file_extension": ".py",
   "mimetype": "text/x-python",
   "name": "python",
   "nbconvert_exporter": "python",
   "pygments_lexer": "ipython2",
   "version": "2.7.6"
  }
 },
 "nbformat": 4,
 "nbformat_minor": 0
}
